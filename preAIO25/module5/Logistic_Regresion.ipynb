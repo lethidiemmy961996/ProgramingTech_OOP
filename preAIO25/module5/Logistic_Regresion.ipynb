{
  "cells": [
    {
      "cell_type": "markdown",
      "metadata": {
        "id": "view-in-github",
        "colab_type": "text"
      },
      "source": [
        "<a href=\"https://colab.research.google.com/github/mylethidiem/ProgramingTech/blob/main/preAIO25/module5/Logistic_Regresion.ipynb\" target=\"_parent\"><img src=\"https://colab.research.google.com/assets/colab-badge.svg\" alt=\"Open In Colab\"/></a>"
      ]
    },
    {
      "cell_type": "markdown",
      "metadata": {
        "id": "k-daPJaBXpuN"
      },
      "source": [
        "## • Titanic Survival Prediction"
      ]
    },
    {
      "cell_type": "code",
      "execution_count": 1,
      "metadata": {
        "id": "fpO0E7RbpT7j"
      },
      "outputs": [],
      "source": [
        "import pandas as pd\n",
        "import numpy as np\n",
        "import matplotlib.pyplot as plt\n",
        "\n",
        "from sklearn.model_selection import train_test_split\n",
        "from sklearn.preprocessing import StandardScaler"
      ]
    },
    {
      "cell_type": "code",
      "execution_count": 2,
      "metadata": {
        "colab": {
          "base_uri": "https://localhost:8080/"
        },
        "id": "1sZlxDwcpT7j",
        "outputId": "6fc368cf-ec50-4509-cc29-ef3df7dbe031"
      },
      "outputs": [
        {
          "output_type": "stream",
          "name": "stdout",
          "text": [
            "Requirement already satisfied: gdown in /usr/local/lib/python3.10/dist-packages (5.2.0)\n",
            "Requirement already satisfied: beautifulsoup4 in /usr/local/lib/python3.10/dist-packages (from gdown) (4.12.3)\n",
            "Requirement already satisfied: filelock in /usr/local/lib/python3.10/dist-packages (from gdown) (3.16.1)\n",
            "Requirement already satisfied: requests[socks] in /usr/local/lib/python3.10/dist-packages (from gdown) (2.32.3)\n",
            "Requirement already satisfied: tqdm in /usr/local/lib/python3.10/dist-packages (from gdown) (4.66.6)\n",
            "Requirement already satisfied: soupsieve>1.2 in /usr/local/lib/python3.10/dist-packages (from beautifulsoup4->gdown) (2.6)\n",
            "Requirement already satisfied: charset-normalizer<4,>=2 in /usr/local/lib/python3.10/dist-packages (from requests[socks]->gdown) (3.4.0)\n",
            "Requirement already satisfied: idna<4,>=2.5 in /usr/local/lib/python3.10/dist-packages (from requests[socks]->gdown) (3.10)\n",
            "Requirement already satisfied: urllib3<3,>=1.21.1 in /usr/local/lib/python3.10/dist-packages (from requests[socks]->gdown) (2.2.3)\n",
            "Requirement already satisfied: certifi>=2017.4.17 in /usr/local/lib/python3.10/dist-packages (from requests[socks]->gdown) (2024.8.30)\n",
            "Requirement already satisfied: PySocks!=1.5.7,>=1.5.6 in /usr/local/lib/python3.10/dist-packages (from requests[socks]->gdown) (1.7.1)\n"
          ]
        }
      ],
      "source": [
        "#download data\n",
        "!pip install gdown\n",
        "#get_ipython().system('pip install gdown')"
      ]
    },
    {
      "cell_type": "code",
      "execution_count": 3,
      "metadata": {
        "colab": {
          "base_uri": "https://localhost:8080/",
          "height": 105
        },
        "id": "Ei5o7CVRpT7k",
        "outputId": "89057491-ab56-4469-c5bc-e70476fd03e9"
      },
      "outputs": [
        {
          "output_type": "stream",
          "name": "stderr",
          "text": [
            "Downloading...\n",
            "From: https://drive.google.com/uc?id=1OFgBOb4B1j32uK26vf5urkp8rqVmD_Wf\n",
            "To: /content/titanic.zip\n",
            "100%|██████████| 7.00k/7.00k [00:00<00:00, 12.7MB/s]\n"
          ]
        },
        {
          "output_type": "execute_result",
          "data": {
            "text/plain": [
              "'./titanic.zip'"
            ],
            "application/vnd.google.colaboratory.intrinsic+json": {
              "type": "string"
            }
          },
          "metadata": {},
          "execution_count": 3
        }
      ],
      "source": [
        "import gdown\n",
        "\n",
        "url = 'https://drive.google.com/file/d/1OFgBOb4B1j32uK26vf5urkp8rqVmD_Wf/view?usp=sharing'\n",
        "output_path = './titanic.zip'\n",
        "gdown.download(url, output_path, quiet=False,fuzzy=True)"
      ]
    },
    {
      "cell_type": "code",
      "source": [
        "!unzip titanic.zip"
      ],
      "metadata": {
        "colab": {
          "base_uri": "https://localhost:8080/"
        },
        "id": "AeIGDvP9ppTA",
        "outputId": "f5ae2e7e-ebd8-4222-bc20-348d555f3745"
      },
      "execution_count": 5,
      "outputs": [
        {
          "output_type": "stream",
          "name": "stdout",
          "text": [
            "Archive:  titanic.zip\n",
            "  inflating: titanic_modified_dataset.csv  \n"
          ]
        }
      ]
    },
    {
      "cell_type": "code",
      "execution_count": 6,
      "metadata": {
        "id": "t5U9DjP9pT7l"
      },
      "outputs": [],
      "source": [
        "dataset_path = 'titanic_modified_dataset.csv'\n",
        "df = pd.read_csv(\n",
        "    dataset_path,\n",
        "    index_col='PassengerId'\n",
        ")"
      ]
    },
    {
      "cell_type": "code",
      "execution_count": 7,
      "metadata": {
        "id": "F8HHdKTQpT7l"
      },
      "outputs": [],
      "source": [
        "#df => array, separate two variables X, y\n",
        "dataset_arr = df.to_numpy().astype(np.float64)\n",
        "X, y = dataset_arr[:,:-1], dataset_arr[:,-1]"
      ]
    },
    {
      "cell_type": "code",
      "execution_count": 8,
      "metadata": {
        "id": "apeAd8FZpT7l"
      },
      "outputs": [],
      "source": [
        "# add bias\n",
        "intercept = np.ones((\n",
        "    X.shape[0],1)\n",
        ")\n",
        "X_b = np.concatenate(\n",
        "    (intercept, X),\n",
        "    axis=1\n",
        ")"
      ]
    },
    {
      "cell_type": "code",
      "execution_count": 9,
      "metadata": {
        "id": "lZtWzP9tpT7m"
      },
      "outputs": [],
      "source": [
        "# train:val:test = 7:2:1\n",
        "val_size = 0.2\n",
        "test_size = 0.125\n",
        "random_state = 2\n",
        "is_shuffle = True\n",
        "\n",
        "#\n",
        "X_train, X_val, y_train, y_val = train_test_split(\n",
        "    X_b, y,\n",
        "    test_size=val_size,\n",
        "    random_state=random_state,\n",
        "    shuffle = is_shuffle\n",
        ")\n",
        "\n",
        "#\n",
        "X_train, X_test, y_train, y_test = train_test_split(\n",
        "    X_train, y_train,\n",
        "    test_size=test_size,\n",
        "    random_state=random_state,\n",
        "    shuffle = is_shuffle\n",
        ")\n"
      ]
    },
    {
      "cell_type": "code",
      "execution_count": 10,
      "metadata": {
        "id": "Rd-ZtNZkpT7m"
      },
      "outputs": [],
      "source": [
        "# data normalization\n",
        "normalizer = StandardScaler()\n",
        "X_train[:, 1:] = normalizer.fit_transform(X_train[:, 1:])\n",
        "\n",
        "X_val[:, 1:] = normalizer.transform(X_val [:, 1:])\n",
        "X_test[:, 1:] = normalizer.transform(X_test[:, 1:])"
      ]
    },
    {
      "cell_type": "code",
      "execution_count": 11,
      "metadata": {
        "id": "NhP-dubVpT7m"
      },
      "outputs": [],
      "source": [
        "def sigmoid(z):\n",
        "    return 1/(1+np.exp(-z))"
      ]
    },
    {
      "cell_type": "code",
      "execution_count": 12,
      "metadata": {
        "id": "hbWrYqDypT7m"
      },
      "outputs": [],
      "source": [
        "def predict(X, theta):\n",
        "    dot_product = np.dot(X,theta)\n",
        "    y_hat = sigmoid(dot_product)\n",
        "    return y_hat"
      ]
    },
    {
      "cell_type": "code",
      "execution_count": 13,
      "metadata": {
        "id": "MVUMa_2FpT7n"
      },
      "outputs": [],
      "source": [
        "# Cross-entropy loss\n",
        "def compute_loss(y_hat,y):\n",
        "    #\n",
        "    y_hat = np.clip(\n",
        "        y_hat, 1e-7, 1-1e-7\n",
        "    )\n",
        "    return (\n",
        "        -y*\\\n",
        "        np.log(y_hat)-(1-y)*\\\n",
        "        np.log(1-y_hat)\n",
        "    ).mean()"
      ]
    },
    {
      "cell_type": "code",
      "execution_count": 14,
      "metadata": {
        "id": "FNIz09JGpT7n"
      },
      "outputs": [],
      "source": [
        "# gradient\n",
        "def compute_gradient(X,y,y_hat):\n",
        "    return np.dot(\n",
        "        X.T,( y_hat - y)\n",
        "    )/y. size"
      ]
    },
    {
      "cell_type": "code",
      "execution_count": 15,
      "metadata": {
        "id": "-0uj5HTnpT7n"
      },
      "outputs": [],
      "source": [
        "#update\n",
        "def update_theta (theta , gradient , lr) :\n",
        "    return theta - lr * gradient"
      ]
    },
    {
      "cell_type": "code",
      "execution_count": 16,
      "metadata": {
        "id": "MQHjfHYhpT7n"
      },
      "outputs": [],
      "source": [
        "def compute_accuracy (X, y, theta ) :\n",
        "    y_hat = predict(X, theta ).round()\n",
        "    acc = (y_hat == y).mean()\n",
        "    return acc"
      ]
    },
    {
      "cell_type": "code",
      "execution_count": 17,
      "metadata": {
        "id": "TamvVVSdpT7o"
      },
      "outputs": [],
      "source": [
        "#initialize\n",
        "lr = 0.01\n",
        "epochs = 100\n",
        "batch_size = 16\n",
        "\n",
        "#\n",
        "np.random.seed(random_state)\n",
        "#\n",
        "theta = np.random.uniform(\n",
        "size = X_train . shape [1]\n",
        ")"
      ]
    },
    {
      "cell_type": "code",
      "execution_count": 18,
      "metadata": {
        "colab": {
          "base_uri": "https://localhost:8080/"
        },
        "id": "vmbf9DnypT7o",
        "outputId": "5656240e-bc1a-44b1-f653-5941afbfcae4"
      },
      "outputs": [
        {
          "output_type": "stream",
          "name": "stdout",
          "text": [
            "\n",
            "EPOCH 1:\tTraining loss: 0.703\tValidation loss: 0.599\n",
            "\n",
            "EPOCH 2:\tTraining loss: 0.670\tValidation loss: 0.582\n",
            "\n",
            "EPOCH 3:\tTraining loss: 0.640\tValidation loss: 0.567\n",
            "\n",
            "EPOCH 4:\tTraining loss: 0.614\tValidation loss: 0.555\n",
            "\n",
            "EPOCH 5:\tTraining loss: 0.592\tValidation loss: 0.544\n",
            "\n",
            "EPOCH 6:\tTraining loss: 0.572\tValidation loss: 0.535\n",
            "\n",
            "EPOCH 7:\tTraining loss: 0.554\tValidation loss: 0.528\n",
            "\n",
            "EPOCH 8:\tTraining loss: 0.539\tValidation loss: 0.522\n",
            "\n",
            "EPOCH 9:\tTraining loss: 0.526\tValidation loss: 0.517\n",
            "\n",
            "EPOCH 10:\tTraining loss: 0.514\tValidation loss: 0.513\n",
            "\n",
            "EPOCH 11:\tTraining loss: 0.504\tValidation loss: 0.509\n",
            "\n",
            "EPOCH 12:\tTraining loss: 0.495\tValidation loss: 0.507\n",
            "\n",
            "EPOCH 13:\tTraining loss: 0.487\tValidation loss: 0.505\n",
            "\n",
            "EPOCH 14:\tTraining loss: 0.480\tValidation loss: 0.503\n",
            "\n",
            "EPOCH 15:\tTraining loss: 0.474\tValidation loss: 0.502\n",
            "\n",
            "EPOCH 16:\tTraining loss: 0.468\tValidation loss: 0.501\n",
            "\n",
            "EPOCH 17:\tTraining loss: 0.463\tValidation loss: 0.500\n",
            "\n",
            "EPOCH 18:\tTraining loss: 0.459\tValidation loss: 0.500\n",
            "\n",
            "EPOCH 19:\tTraining loss: 0.455\tValidation loss: 0.500\n",
            "\n",
            "EPOCH 20:\tTraining loss: 0.452\tValidation loss: 0.500\n",
            "\n",
            "EPOCH 21:\tTraining loss: 0.449\tValidation loss: 0.499\n",
            "\n",
            "EPOCH 22:\tTraining loss: 0.446\tValidation loss: 0.500\n",
            "\n",
            "EPOCH 23:\tTraining loss: 0.443\tValidation loss: 0.500\n",
            "\n",
            "EPOCH 24:\tTraining loss: 0.441\tValidation loss: 0.500\n",
            "\n",
            "EPOCH 25:\tTraining loss: 0.439\tValidation loss: 0.500\n",
            "\n",
            "EPOCH 26:\tTraining loss: 0.437\tValidation loss: 0.500\n",
            "\n",
            "EPOCH 27:\tTraining loss: 0.435\tValidation loss: 0.501\n",
            "\n",
            "EPOCH 28:\tTraining loss: 0.434\tValidation loss: 0.501\n",
            "\n",
            "EPOCH 29:\tTraining loss: 0.432\tValidation loss: 0.502\n",
            "\n",
            "EPOCH 30:\tTraining loss: 0.431\tValidation loss: 0.502\n",
            "\n",
            "EPOCH 31:\tTraining loss: 0.430\tValidation loss: 0.502\n",
            "\n",
            "EPOCH 32:\tTraining loss: 0.429\tValidation loss: 0.503\n",
            "\n",
            "EPOCH 33:\tTraining loss: 0.428\tValidation loss: 0.503\n",
            "\n",
            "EPOCH 34:\tTraining loss: 0.427\tValidation loss: 0.504\n",
            "\n",
            "EPOCH 35:\tTraining loss: 0.426\tValidation loss: 0.504\n",
            "\n",
            "EPOCH 36:\tTraining loss: 0.425\tValidation loss: 0.504\n",
            "\n",
            "EPOCH 37:\tTraining loss: 0.424\tValidation loss: 0.505\n",
            "\n",
            "EPOCH 38:\tTraining loss: 0.424\tValidation loss: 0.505\n",
            "\n",
            "EPOCH 39:\tTraining loss: 0.423\tValidation loss: 0.506\n",
            "\n",
            "EPOCH 40:\tTraining loss: 0.422\tValidation loss: 0.506\n",
            "\n",
            "EPOCH 41:\tTraining loss: 0.422\tValidation loss: 0.506\n",
            "\n",
            "EPOCH 42:\tTraining loss: 0.421\tValidation loss: 0.507\n",
            "\n",
            "EPOCH 43:\tTraining loss: 0.421\tValidation loss: 0.507\n",
            "\n",
            "EPOCH 44:\tTraining loss: 0.420\tValidation loss: 0.507\n",
            "\n",
            "EPOCH 45:\tTraining loss: 0.420\tValidation loss: 0.508\n",
            "\n",
            "EPOCH 46:\tTraining loss: 0.420\tValidation loss: 0.508\n",
            "\n",
            "EPOCH 47:\tTraining loss: 0.419\tValidation loss: 0.509\n",
            "\n",
            "EPOCH 48:\tTraining loss: 0.419\tValidation loss: 0.509\n",
            "\n",
            "EPOCH 49:\tTraining loss: 0.418\tValidation loss: 0.509\n",
            "\n",
            "EPOCH 50:\tTraining loss: 0.418\tValidation loss: 0.510\n",
            "\n",
            "EPOCH 51:\tTraining loss: 0.418\tValidation loss: 0.510\n",
            "\n",
            "EPOCH 52:\tTraining loss: 0.417\tValidation loss: 0.510\n",
            "\n",
            "EPOCH 53:\tTraining loss: 0.417\tValidation loss: 0.510\n",
            "\n",
            "EPOCH 54:\tTraining loss: 0.417\tValidation loss: 0.511\n",
            "\n",
            "EPOCH 55:\tTraining loss: 0.417\tValidation loss: 0.511\n",
            "\n",
            "EPOCH 56:\tTraining loss: 0.416\tValidation loss: 0.511\n",
            "\n",
            "EPOCH 57:\tTraining loss: 0.416\tValidation loss: 0.512\n",
            "\n",
            "EPOCH 58:\tTraining loss: 0.416\tValidation loss: 0.512\n",
            "\n",
            "EPOCH 59:\tTraining loss: 0.416\tValidation loss: 0.512\n",
            "\n",
            "EPOCH 60:\tTraining loss: 0.416\tValidation loss: 0.512\n",
            "\n",
            "EPOCH 61:\tTraining loss: 0.415\tValidation loss: 0.513\n",
            "\n",
            "EPOCH 62:\tTraining loss: 0.415\tValidation loss: 0.513\n",
            "\n",
            "EPOCH 63:\tTraining loss: 0.415\tValidation loss: 0.513\n",
            "\n",
            "EPOCH 64:\tTraining loss: 0.415\tValidation loss: 0.513\n",
            "\n",
            "EPOCH 65:\tTraining loss: 0.415\tValidation loss: 0.514\n",
            "\n",
            "EPOCH 66:\tTraining loss: 0.415\tValidation loss: 0.514\n",
            "\n",
            "EPOCH 67:\tTraining loss: 0.415\tValidation loss: 0.514\n",
            "\n",
            "EPOCH 68:\tTraining loss: 0.414\tValidation loss: 0.514\n",
            "\n",
            "EPOCH 69:\tTraining loss: 0.414\tValidation loss: 0.514\n",
            "\n",
            "EPOCH 70:\tTraining loss: 0.414\tValidation loss: 0.515\n",
            "\n",
            "EPOCH 71:\tTraining loss: 0.414\tValidation loss: 0.515\n",
            "\n",
            "EPOCH 72:\tTraining loss: 0.414\tValidation loss: 0.515\n",
            "\n",
            "EPOCH 73:\tTraining loss: 0.414\tValidation loss: 0.515\n",
            "\n",
            "EPOCH 74:\tTraining loss: 0.414\tValidation loss: 0.515\n",
            "\n",
            "EPOCH 75:\tTraining loss: 0.414\tValidation loss: 0.516\n",
            "\n",
            "EPOCH 76:\tTraining loss: 0.414\tValidation loss: 0.516\n",
            "\n",
            "EPOCH 77:\tTraining loss: 0.413\tValidation loss: 0.516\n",
            "\n",
            "EPOCH 78:\tTraining loss: 0.413\tValidation loss: 0.516\n",
            "\n",
            "EPOCH 79:\tTraining loss: 0.413\tValidation loss: 0.516\n",
            "\n",
            "EPOCH 80:\tTraining loss: 0.413\tValidation loss: 0.517\n",
            "\n",
            "EPOCH 81:\tTraining loss: 0.413\tValidation loss: 0.517\n",
            "\n",
            "EPOCH 82:\tTraining loss: 0.413\tValidation loss: 0.517\n",
            "\n",
            "EPOCH 83:\tTraining loss: 0.413\tValidation loss: 0.517\n",
            "\n",
            "EPOCH 84:\tTraining loss: 0.413\tValidation loss: 0.517\n",
            "\n",
            "EPOCH 85:\tTraining loss: 0.413\tValidation loss: 0.517\n",
            "\n",
            "EPOCH 86:\tTraining loss: 0.413\tValidation loss: 0.517\n",
            "\n",
            "EPOCH 87:\tTraining loss: 0.413\tValidation loss: 0.518\n",
            "\n",
            "EPOCH 88:\tTraining loss: 0.413\tValidation loss: 0.518\n",
            "\n",
            "EPOCH 89:\tTraining loss: 0.413\tValidation loss: 0.518\n",
            "\n",
            "EPOCH 90:\tTraining loss: 0.413\tValidation loss: 0.518\n",
            "\n",
            "EPOCH 91:\tTraining loss: 0.413\tValidation loss: 0.518\n",
            "\n",
            "EPOCH 92:\tTraining loss: 0.413\tValidation loss: 0.518\n",
            "\n",
            "EPOCH 93:\tTraining loss: 0.413\tValidation loss: 0.518\n",
            "\n",
            "EPOCH 94:\tTraining loss: 0.412\tValidation loss: 0.519\n",
            "\n",
            "EPOCH 95:\tTraining loss: 0.412\tValidation loss: 0.519\n",
            "\n",
            "EPOCH 96:\tTraining loss: 0.412\tValidation loss: 0.519\n",
            "\n",
            "EPOCH 97:\tTraining loss: 0.412\tValidation loss: 0.519\n",
            "\n",
            "EPOCH 98:\tTraining loss: 0.412\tValidation loss: 0.519\n",
            "\n",
            "EPOCH 99:\tTraining loss: 0.412\tValidation loss: 0.519\n",
            "\n",
            "EPOCH 100:\tTraining loss: 0.412\tValidation loss: 0.519\n"
          ]
        }
      ],
      "source": [
        "train_accs = []\n",
        "train_losses = []\n",
        "val_accs = []\n",
        "val_losses = []\n",
        "\n",
        "#model train\n",
        "for epoch in range(epochs):\n",
        "    train_batch_losses = []\n",
        "    train_batch_accs = []\n",
        "    val_batch_losses = []\n",
        "    val_batch_accs = []\n",
        "    for i in range(0 , X_train.shape[0], batch_size):\n",
        "        X_i = X_train[i:i+ batch_size]\n",
        "        y_i = y_train[i:i+ batch_size]\n",
        "\n",
        "        y_hat = predict(X_i, theta)\n",
        "        train_loss = compute_loss(y_hat, y_i)\n",
        "        gradient = compute_gradient (X_i, y_i, y_hat)\n",
        "        theta = update_theta (theta , gradient, lr)\n",
        "\n",
        "        train_batch_losses.append(train_loss)\n",
        "\n",
        "        train_acc = compute_accuracy(X_train, y_train, theta)\n",
        "        train_batch_accs.append(train_acc)\n",
        "\n",
        "        #\n",
        "        y_val_hat = predict(X_val, theta)\n",
        "        val_loss = compute_loss(y_val_hat, y_val)\n",
        "        val_batch_losses.append(val_loss)\n",
        "\n",
        "\n",
        "        val_acc = compute_accuracy(X_val, y_val, theta)\n",
        "        val_batch_accs.append(val_acc)\n",
        "\n",
        "    #\n",
        "    train_batch_loss = sum(train_batch_losses)/len(train_batch_losses)\n",
        "    val_batch_loss = sum(val_batch_losses)/len(val_batch_losses)\n",
        "    train_batch_acc = sum(train_batch_accs)/len(train_batch_accs)\n",
        "    val_batch_acc = sum(val_batch_accs)/len(val_batch_accs)\n",
        "\n",
        "    #\n",
        "    train_losses.append(train_batch_loss)\n",
        "    val_losses.append(val_batch_loss)\n",
        "    train_accs.append(train_batch_acc)\n",
        "    val_accs.append(val_batch_acc)\n",
        "\n",
        "    print (f'\\nEPOCH {epoch + 1}:\\tTraining loss: {train_batch_loss:.3f}\\tValidation loss: {val_batch_loss:.3f}')"
      ]
    },
    {
      "cell_type": "code",
      "execution_count": 19,
      "metadata": {
        "colab": {
          "base_uri": "https://localhost:8080/",
          "height": 872
        },
        "id": "2NTWbIr7pT7o",
        "outputId": "02853779-88e6-4efb-95cb-f3df6170ef10"
      },
      "outputs": [
        {
          "output_type": "display_data",
          "data": {
            "text/plain": [
              "<Figure size 1200x1000 with 4 Axes>"
            ],
            "image/png": "[encoded data removed]"
          },
          "metadata": {}
        }
      ],
      "source": [
        "#Visualize training results on graphs\n",
        "fig, ax = plt.subplots(2 , 2, figsize =(12 , 10))\n",
        "ax[0, 0].plot(train_losses )\n",
        "ax[0, 0].set( xlabel ='Epoch', ylabel ='Loss')\n",
        "ax[0, 0].set_title('Training Loss')\n",
        "\n",
        "ax[0, 1].plot(val_losses, 'orange')\n",
        "ax[0, 1].set(xlabel ='Epoch', ylabel ='Loss')\n",
        "ax[0, 1].set_title('Validation Loss')\n",
        "\n",
        "ax[1, 0].plot(train_accs)\n",
        "ax[1, 0].set(xlabel ='Epoch', ylabel ='Accuracy')\n",
        "ax[1, 0].set_title ('Validation Accuracy')\n",
        "\n",
        "ax[1, 1].plot(val_accs, 'orange')\n",
        "ax[1, 1].set(xlabel ='Epoch', ylabel ='Accuracy')\n",
        "ax[1, 1].set_title ('Validation Accuracy')\n",
        "\n",
        "plt.show()"
      ]
    },
    {
      "cell_type": "code",
      "execution_count": 20,
      "metadata": {
        "colab": {
          "base_uri": "https://localhost:8080/"
        },
        "id": "eELf_vBSpT7o",
        "outputId": "0db3db0d-dcf6-4bb2-9602-6687b7a55473"
      },
      "outputs": [
        {
          "output_type": "stream",
          "name": "stdout",
          "text": [
            "Evaluation on validation and test set:\n",
            "Accuracy: 0.770949720670391\n",
            "Accuracy: 0.7752808988764045\n"
          ]
        }
      ],
      "source": [
        "#Model Evaluation\n",
        "val_set_acc = compute_accuracy (X_val, y_val, theta )\n",
        "test_set_acc = compute_accuracy(X_test, y_test, theta )\n",
        "print('Evaluation on validation and test set:')\n",
        "print(f'Accuracy: {val_set_acc}')\n",
        "print(f'Accuracy: {test_set_acc}')"
      ]
    },
    {
      "cell_type": "markdown",
      "metadata": {
        "id": "DpMerER4gDys"
      },
      "source": [
        "## • Twitter Sentiment Analysis\n",
        "\n",
        "\n"
      ]
    },
    {
      "cell_type": "code",
      "execution_count": null,
      "metadata": {
        "id": "zhYHWFjmpT7o"
      },
      "outputs": [],
      "source": []
    }
  ],
  "metadata": {
    "colab": {
      "provenance": [],
      "include_colab_link": true
    },
    "kernelspec": {
      "display_name": "Python 3 (ipykernel)",
      "language": "python",
      "name": "python3"
    },
    "language_info": {
      "codemirror_mode": {
        "name": "ipython",
        "version": 3
      },
      "file_extension": ".py",
      "mimetype": "text/x-python",
      "name": "python",
      "nbconvert_exporter": "python",
      "pygments_lexer": "ipython3",
      "version": "3.12.7"
    }
  },
  "nbformat": 4,
  "nbformat_minor": 0
}