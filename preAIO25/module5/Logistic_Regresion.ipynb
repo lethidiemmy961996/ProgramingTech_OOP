{
 "cells": [
  {
   "cell_type": "markdown",
   "metadata": {
    "colab_type": "text",
    "id": "view-in-github"
   },
   "source": [
    "<a href=\"https://colab.research.google.com/github/mylethidiem/ProgramingTech/blob/main/preaio25/module5/Logistic_Regresion_ex_261024.ipynb\" target=\"_parent\"><img src=\"https://colab.research.google.com/assets/colab-badge.svg\" alt=\"Open In Colab\"/></a>"
   ]
  },
  {
   "cell_type": "markdown",
   "metadata": {
    "id": "k-daPJaBXpuN"
   },
   "source": [
    "## • Titanic Survival Prediction"
   ]
  },
  {
   "cell_type": "code",
   "execution_count": 36,
   "metadata": {},
   "outputs": [],
   "source": [
    "import pandas as pd\n",
    "import numpy as np\n",
    "import matplotlib.pyplot as plt\n",
    "\n",
    "from sklearn.model_selection import train_test_split\n",
    "from sklearn.preprocessing import StandardScaler"
   ]
  },
  {
   "cell_type": "code",
   "execution_count": 44,
   "metadata": {},
   "outputs": [
    {
     "name": "stdout",
     "output_type": "stream",
     "text": [
      "Defaulting to user installation because normal site-packages is not writeable\n",
      "Requirement already satisfied: gdown in c:\\users\\lethi\\appdata\\roaming\\python\\python312\\site-packages (5.2.0)\n",
      "Requirement already satisfied: beautifulsoup4 in c:\\programdata\\anaconda3\\lib\\site-packages (from gdown) (4.12.3)\n",
      "Requirement already satisfied: filelock in c:\\programdata\\anaconda3\\lib\\site-packages (from gdown) (3.13.1)\n",
      "Requirement already satisfied: requests[socks] in c:\\programdata\\anaconda3\\lib\\site-packages (from gdown) (2.32.3)\n",
      "Requirement already satisfied: tqdm in c:\\programdata\\anaconda3\\lib\\site-packages (from gdown) (4.66.5)\n",
      "Requirement already satisfied: soupsieve>1.2 in c:\\programdata\\anaconda3\\lib\\site-packages (from beautifulsoup4->gdown) (2.5)\n",
      "Requirement already satisfied: charset-normalizer<4,>=2 in c:\\programdata\\anaconda3\\lib\\site-packages (from requests[socks]->gdown) (3.3.2)\n",
      "Requirement already satisfied: idna<4,>=2.5 in c:\\programdata\\anaconda3\\lib\\site-packages (from requests[socks]->gdown) (3.7)\n",
      "Requirement already satisfied: urllib3<3,>=1.21.1 in c:\\programdata\\anaconda3\\lib\\site-packages (from requests[socks]->gdown) (2.2.3)\n",
      "Requirement already satisfied: certifi>=2017.4.17 in c:\\programdata\\anaconda3\\lib\\site-packages (from requests[socks]->gdown) (2024.8.30)\n",
      "Requirement already satisfied: PySocks!=1.5.7,>=1.5.6 in c:\\programdata\\anaconda3\\lib\\site-packages (from requests[socks]->gdown) (1.7.1)\n",
      "Requirement already satisfied: colorama in c:\\programdata\\anaconda3\\lib\\site-packages (from tqdm->gdown) (0.4.6)\n",
      "Defaulting to user installation because normal site-packages is not writeable\n",
      "Requirement already satisfied: gdown in c:\\users\\lethi\\appdata\\roaming\\python\\python312\\site-packages (5.2.0)\n",
      "Requirement already satisfied: beautifulsoup4 in c:\\programdata\\anaconda3\\lib\\site-packages (from gdown) (4.12.3)\n",
      "Requirement already satisfied: filelock in c:\\programdata\\anaconda3\\lib\\site-packages (from gdown) (3.13.1)\n",
      "Requirement already satisfied: requests[socks] in c:\\programdata\\anaconda3\\lib\\site-packages (from gdown) (2.32.3)\n",
      "Requirement already satisfied: tqdm in c:\\programdata\\anaconda3\\lib\\site-packages (from gdown) (4.66.5)\n",
      "Requirement already satisfied: soupsieve>1.2 in c:\\programdata\\anaconda3\\lib\\site-packages (from beautifulsoup4->gdown) (2.5)\n",
      "Requirement already satisfied: charset-normalizer<4,>=2 in c:\\programdata\\anaconda3\\lib\\site-packages (from requests[socks]->gdown) (3.3.2)\n",
      "Requirement already satisfied: idna<4,>=2.5 in c:\\programdata\\anaconda3\\lib\\site-packages (from requests[socks]->gdown) (3.7)\n",
      "Requirement already satisfied: urllib3<3,>=1.21.1 in c:\\programdata\\anaconda3\\lib\\site-packages (from requests[socks]->gdown) (2.2.3)\n",
      "Requirement already satisfied: certifi>=2017.4.17 in c:\\programdata\\anaconda3\\lib\\site-packages (from requests[socks]->gdown) (2024.8.30)\n",
      "Requirement already satisfied: PySocks!=1.5.7,>=1.5.6 in c:\\programdata\\anaconda3\\lib\\site-packages (from requests[socks]->gdown) (1.7.1)\n",
      "Requirement already satisfied: colorama in c:\\programdata\\anaconda3\\lib\\site-packages (from tqdm->gdown) (0.4.6)\n"
     ]
    }
   ],
   "source": [
    "#download data \n",
    "!pip install gdown\n",
    "#get_ipython().system('pip install gdown')"
   ]
  },
  {
   "cell_type": "code",
   "execution_count": 48,
   "metadata": {},
   "outputs": [
    {
     "ename": "ModuleNotFoundError",
     "evalue": "No module named 'gdown'",
     "output_type": "error",
     "traceback": [
      "\u001b[1;31m---------------------------------------------------------------------------\u001b[0m",
      "\u001b[1;31mModuleNotFoundError\u001b[0m                       Traceback (most recent call last)",
      "Cell \u001b[1;32mIn[48], line 1\u001b[0m\n\u001b[1;32m----> 1\u001b[0m \u001b[38;5;28;01mimport\u001b[39;00m \u001b[38;5;21;01mgdown\u001b[39;00m\n\u001b[0;32m      3\u001b[0m url \u001b[38;5;241m=\u001b[39m \u001b[38;5;124m'\u001b[39m\u001b[38;5;124mhttps://drive.google.com/file/d/1OFgBOb4B1j32uK26vf5urkp8rqVmD_Wf/view?usp=sharing\u001b[39m\u001b[38;5;124m'\u001b[39m\n\u001b[0;32m      4\u001b[0m output_path \u001b[38;5;241m=\u001b[39m \u001b[38;5;124m'\u001b[39m\u001b[38;5;124m./titanic.zip\u001b[39m\u001b[38;5;124m'\u001b[39m\n",
      "\u001b[1;31mModuleNotFoundError\u001b[0m: No module named 'gdown'"
     ]
    }
   ],
   "source": [
    "import gdown\n",
    "\n",
    "url = 'https://drive.google.com/file/d/1OFgBOb4B1j32uK26vf5urkp8rqVmD_Wf/view?usp=sharing'\n",
    "output_path = './titanic.zip'\n",
    "gdown.download(url, output_path, quiet=False,fuzzy=True)"
   ]
  },
  {
   "cell_type": "code",
   "execution_count": null,
   "metadata": {},
   "outputs": [],
   "source": [
    "dataset_path = 'titanic_modified_dataset.csv'\n",
    "df = pd.read_csv(\n",
    "    dataset_path,\n",
    "    index_col='PassengerId'\n",
    ")"
   ]
  },
  {
   "cell_type": "code",
   "execution_count": null,
   "metadata": {},
   "outputs": [],
   "source": [
    "#df => array, separate two variables X, y\n",
    "dataset_arr = df.to_numpy().astype(np.float64)\n",
    "X, y = data_set_arr[:,:-1], dataset_arr[:,-1]"
   ]
  },
  {
   "cell_type": "code",
   "execution_count": null,
   "metadata": {},
   "outputs": [],
   "source": [
    "# add bias\n",
    "intercept = np.ones((\n",
    "    X.shape[0],1)\n",
    ")\n",
    "X_b = np.concatenate(\n",
    "    (intercept, X),\n",
    "    axis=1\n",
    ")"
   ]
  },
  {
   "cell_type": "code",
   "execution_count": null,
   "metadata": {},
   "outputs": [],
   "source": [
    "# train:val:test = 7:2:1\n",
    "val_size = 0.2\n",
    "test_size = 0.125\n",
    "random_state = 2\n",
    "is_shuffle = True\n",
    "\n",
    "#\n",
    "X_train, X_val, y_train, y_val = train_test_split(\n",
    "    X_b, y,\n",
    "    test_size=val_size,\n",
    "    random_state=random_state,\n",
    "    shuffle = is_shuffle\n",
    ")\n",
    "\n",
    "#\n",
    "X_train, X_test, y_train, y_test = train_test_split(\n",
    "    X_train, y_train,\n",
    "    test_size=test_size,\n",
    "    random_state=random_state,\n",
    "    shuffle = is_shuffle\n",
    ")\n"
   ]
  },
  {
   "cell_type": "code",
   "execution_count": null,
   "metadata": {},
   "outputs": [],
   "source": [
    "# data normalization\n",
    "normalizer = StandardScaler()\n",
    "X_train[:, 1:] = normalizer.fit_transform(X_train[:, 1:])\n",
    "\n",
    "X_val[:, 1:] = normalizer.transform(X_val [:, 1:])\n",
    "X_test[:, 1:] = normalizer.transform(X_test[:, 1:])"
   ]
  },
  {
   "cell_type": "code",
   "execution_count": null,
   "metadata": {},
   "outputs": [],
   "source": [
    "def sigmoid(z):\n",
    "    return 1/(1+np.exp(-z))"
   ]
  },
  {
   "cell_type": "code",
   "execution_count": null,
   "metadata": {},
   "outputs": [],
   "source": [
    "def predict(X, theta):\n",
    "    dot_product = np.dot(X,theta)\n",
    "    y_hat = sigmoid(dot_product)\n",
    "    return y_hat"
   ]
  },
  {
   "cell_type": "code",
   "execution_count": null,
   "metadata": {},
   "outputs": [],
   "source": [
    "# Cross-entropy loss\n",
    "def compute_loss(y_hat,y):\n",
    "    #\n",
    "    y_hat = np.clip(\n",
    "        y_hat, 1e-7, 1-1e-7\n",
    "    )\n",
    "    return (\n",
    "        -y*\\\n",
    "        np.log(y_hat)-(1-y)*\\\n",
    "        np.log(1-y_hat)\n",
    "    ).mean()"
   ]
  },
  {
   "attachments": {
    "1581b4f1-a7b0-418e-96e6-d1feaf3036a8.png": {
     "image/png": "[encoded data removed]"
    }
   },
   "cell_type": "markdown",
   "metadata": {},
   "source": [
    "Gradient\n",
    "![image.png](attachment:1581b4f1-a7b0-418e-96e6-d1feaf3036a8.png)"
   ]
  },
  {
   "cell_type": "code",
   "execution_count": null,
   "metadata": {},
   "outputs": [],
   "source": [
    "# gradient\n",
    "def compute_gradient(X,y,y_hat):\n",
    "    return np.dot(\n",
    "        X.T,( y_hat - y)\n",
    "    )/y. size"
   ]
  },
  {
   "cell_type": "code",
   "execution_count": null,
   "metadata": {},
   "outputs": [],
   "source": [
    "#update\n",
    "def update_theta (theta , gradient , lr) :\n",
    "    return theta - lr * gradient"
   ]
  },
  {
   "cell_type": "code",
   "execution_count": null,
   "metadata": {},
   "outputs": [],
   "source": [
    "def compute_accuracy (X, y, theta ) :\n",
    "    y_hat = predict(X, theta ).round()\n",
    "    acc = (y_hat == y).mean()\n",
    "    return acc"
   ]
  },
  {
   "cell_type": "code",
   "execution_count": null,
   "metadata": {},
   "outputs": [],
   "source": [
    "#initialize\n",
    "lr = 0.01\n",
    "epochs = 100\n",
    "batch_size = 16\n",
    "\n",
    "#\n",
    "np.random.seed(random_state)\n",
    "#\n",
    "theta = np.random.uniform(\n",
    "size = X_train . shape [1]\n",
    ")"
   ]
  },
  {
   "cell_type": "code",
   "execution_count": null,
   "metadata": {},
   "outputs": [],
   "source": [
    "train_accs = []\n",
    "train_losses = []\n",
    "val_accs = []\n",
    "val_losses = []\n",
    "\n",
    "#model train\n",
    "for epoch in range(epochs):\n",
    "    train_batch_losses = []\n",
    "    train_batch_accs = []\n",
    "    val_batch_losses = []\n",
    "    val_batch_accs = []\n",
    "    for i in range(0 , X_train.shape[0], batch_size):\n",
    "        X_i = X_train[i:i+ batch_size]\n",
    "        y_i = y_train[i:i+ batch_size]\n",
    "\n",
    "        y_hat = predict(X_i, theta)\n",
    "        train_loss = compute_loss(y_hat, y_i)\n",
    "        gradient = compute_gradient (X_i, y_i, y_hat)\n",
    "        theta = update_theta (theta , gradient, lr)\n",
    "\n",
    "        train_batch_losses.append(train_loss)\n",
    "\n",
    "        train_acc = compute_accuracy(X_train, y_train, theta)\n",
    "        train_batch_accs.append(train_acc)\n",
    "\n",
    "        #\n",
    "        y_val_hat = predict(X_val, theta)\n",
    "        val_loss = compute_loss(y_val_hat, y_val)\n",
    "        val_batch_losses.append(val_loss)\n",
    "\n",
    "        \n",
    "        val_acc = compute_accuracy(X_val, y_val, theta)\n",
    "        val_batch_accs.append(val_acc)\n",
    "\n",
    "    #\n",
    "    train_batch_loss = sum(train_batch_losses)/len(train_batch_losses)\n",
    "    val_batch_loss = sum(val_batch_losses)/len(val_batch_losses)\n",
    "    train_batch_acc = sum(train_batch_accs)/len(train_batch_accs)\n",
    "    val_batch_acc = sum(val_batch_accs)/len(val_batch_accs)\n",
    "\n",
    "    #\n",
    "    train_losses.append(train_batch_loss)\n",
    "    val_losses.append(val_batch_loss)\n",
    "    train_accs.append(train_batch_acc)\n",
    "    val_accs.append(val_batch_acc)\n",
    "\n",
    "    print (f'\\nEPOCH {epoch + 1}:\\tTraining loss: {train_batch_loss:.3f}\\tValidation loss: {val_batch_loss:.3f}')"
   ]
  },
  {
   "cell_type": "code",
   "execution_count": null,
   "metadata": {},
   "outputs": [],
   "source": [
    "#Visualize training results on graphs\n",
    "fig, ax = plt.subplots(2 , 2, figsize =(12 , 10))\n",
    "ax[0, 0].plot(train_losses )\n",
    "ax[0, 0].set( xlabel ='Epoch', ylabel ='Loss')\n",
    "ax[0, 0].set_title('Training Loss')\n",
    "\n",
    "ax[0, 1].plot(val_losses, 'orange')\n",
    "ax[0, 1].set(xlabel ='Epoch', ylabel ='Loss')\n",
    "ax[0, 1].set_title('Validation Loss')\n",
    "\n",
    "ax[1, 0].plot(train_accs)\n",
    "ax[1, 0].set(xlabel ='Epoch', ylabel ='Accuracy')\n",
    "ax[1, 0].set_title ('Validation Accuracy')\n",
    "\n",
    "ax[1, 1].plot(val_accs, 'orange')\n",
    "ax[1, 1].set(xlabel ='Epoch', ylabel ='Accuracy')\n",
    "ax[1, 1].set_title ('Validation Accuracy')\n",
    "\n",
    "plt.show()"
   ]
  },
  {
   "cell_type": "code",
   "execution_count": null,
   "metadata": {},
   "outputs": [],
   "source": [
    "#Model Evaluation\n",
    "val_set_acc = compute_accuracy (X_val, y_val, theta )\n",
    "test_set_acc = compute_accuracy(X_test, y_test, theta )\n",
    "print('Evaluation on validation and test set:')\n",
    "print(f'Accuracy: {val_set_acc}')\n",
    "print(f'Accuracy: {test_set_acc}')"
   ]
  },
  {
   "cell_type": "markdown",
   "metadata": {
    "id": "DpMerER4gDys"
   },
   "source": [
    "## • Twitter Sentiment Analysis\n",
    "\n",
    "\n"
   ]
  },
  {
   "cell_type": "code",
   "execution_count": null,
   "metadata": {},
   "outputs": [],
   "source": []
  }
 ],
 "metadata": {
  "colab": {
   "include_colab_link": true,
   "provenance": []
  },
  "kernelspec": {
   "display_name": "Python 3 (ipykernel)",
   "language": "python",
   "name": "python3"
  },
  "language_info": {
   "codemirror_mode": {
    "name": "ipython",
    "version": 3
   },
   "file_extension": ".py",
   "mimetype": "text/x-python",
   "name": "python",
   "nbconvert_exporter": "python",
   "pygments_lexer": "ipython3",
   "version": "3.12.7"
  }
 },
 "nbformat": 4,
 "nbformat_minor": 4
}
