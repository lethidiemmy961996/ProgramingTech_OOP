{
 "cells": [
  {
   "cell_type": "markdown",
   "id": "9f076735-8dff-4f2a-b176-b3b3c0f3e696",
   "metadata": {},
   "source": [
    "• Credit Card Fraud Detection"
   ]
  },
  {
   "cell_type": "markdown",
   "id": "1c154736-c220-49a5-9f12-5e21e3ea14e2",
   "metadata": {},
   "source": [
    "• Twitter Sentiment Analysis"
   ]
  }
 ],
 "metadata": {
  "kernelspec": {
   "display_name": "Python 3 (ipykernel)",
   "language": "python",
   "name": "python3"
  },
  "language_info": {
   "codemirror_mode": {
    "name": "ipython",
    "version": 3
   },
   "file_extension": ".py",
   "mimetype": "text/x-python",
   "name": "python",
   "nbconvert_exporter": "python",
   "pygments_lexer": "ipython3",
   "version": "3.12.7"
  }
 },
 "nbformat": 4,
 "nbformat_minor": 5
}
