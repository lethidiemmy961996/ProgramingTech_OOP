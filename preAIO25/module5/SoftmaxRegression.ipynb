{
  "cells": [
    {
      "cell_type": "markdown",
      "metadata": {
        "id": "view-in-github",
        "colab_type": "text"
      },
      "source": [
        "<a href=\"https://colab.research.google.com/github/mylethidiem/ProgramingTech/blob/main/preAIO25/module5/SoftmaxRegression.ipynb\" target=\"_parent\"><img src=\"https://colab.research.google.com/assets/colab-badge.svg\" alt=\"Open In Colab\"/></a>"
      ]
    },
    {
      "cell_type": "markdown",
      "id": "9f076735-8dff-4f2a-b176-b3b3c0f3e696",
      "metadata": {
        "id": "9f076735-8dff-4f2a-b176-b3b3c0f3e696"
      },
      "source": [
        "• Credit Card Fraud Detection"
      ]
    },
    {
      "cell_type": "markdown",
      "id": "1c154736-c220-49a5-9f12-5e21e3ea14e2",
      "metadata": {
        "id": "1c154736-c220-49a5-9f12-5e21e3ea14e2"
      },
      "source": [
        "• Twitter Sentiment Analysis"
      ]
    },
    {
      "cell_type": "code",
      "source": [],
      "metadata": {
        "id": "gPdSy36E9lje"
      },
      "id": "gPdSy36E9lje",
      "execution_count": null,
      "outputs": []
    }
  ],
  "metadata": {
    "kernelspec": {
      "display_name": "Python 3 (ipykernel)",
      "language": "python",
      "name": "python3"
    },
    "language_info": {
      "codemirror_mode": {
        "name": "ipython",
        "version": 3
      },
      "file_extension": ".py",
      "mimetype": "text/x-python",
      "name": "python",
      "nbconvert_exporter": "python",
      "pygments_lexer": "ipython3",
      "version": "3.12.7"
    },
    "colab": {
      "provenance": [],
      "include_colab_link": true
    }
  },
  "nbformat": 4,
  "nbformat_minor": 5
}