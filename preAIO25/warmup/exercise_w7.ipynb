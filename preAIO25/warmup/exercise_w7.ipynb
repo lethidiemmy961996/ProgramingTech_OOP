{
 "cells": [
  {
   "cell_type": "markdown",
   "metadata": {
    "id": "epqIX4k0VSAA"
   },
   "source": [
    "# **W7**"
   ]
  },
  {
   "cell_type": "markdown",
   "metadata": {
    "id": "8ARGaVTG08pf"
   },
   "source": [
    "## **Linear Regression**"
   ]
  },
  {
   "cell_type": "markdown",
   "metadata": {
    "id": "GQ9vzXXv9_Sz"
   },
   "source": [
    "#### Exercise 1"
   ]
  },
  {
   "cell_type": "code",
   "execution_count": null,
   "metadata": {
    "colab": {
     "base_uri": "https://localhost:8080/"
    },
    "id": "YbloDbvO9_S1",
    "outputId": "3c10c4f5-94e7-4bf1-992b-b8c3bc20a38b"
   },
   "outputs": [],
   "source": []
  }
 ],
 "metadata": {
  "colab": {
   "include_colab_link": true,
   "provenance": []
  },
  "kernelspec": {
   "display_name": "Python 3",
   "name": "python3"
  },
  "language_info": {
   "name": "python"
  }
 },
 "nbformat": 4,
 "nbformat_minor": 0
}
