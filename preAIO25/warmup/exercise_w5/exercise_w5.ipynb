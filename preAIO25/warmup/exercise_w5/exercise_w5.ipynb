{
  "cells": [
    {
      "cell_type": "markdown",
      "metadata": {
        "id": "view-in-github",
        "colab_type": "text"
      },
      "source": [
        "<a href=\"https://colab.research.google.com/github/mylethidiem/ProgramingTech/blob/main/preAIO25/warmup/exercise_w5/exercise_w5.ipynb\" target=\"_parent\"><img src=\"https://colab.research.google.com/assets/colab-badge.svg\" alt=\"Open In Colab\"/></a>"
      ]
    },
    {
      "cell_type": "markdown",
      "source": [
        "# **W5**"
      ],
      "metadata": {
        "id": "JQjr_ibdcIqB"
      }
    },
    {
      "cell_type": "code",
      "execution_count": 5,
      "metadata": {
        "colab": {
          "base_uri": "https://localhost:8080/"
        },
        "id": "JG3k13yo2S4K",
        "outputId": "a9a3f0ad-adab-4aa3-b79c-46e14d5d53bf"
      },
      "outputs": [
        {
          "output_type": "stream",
          "name": "stdout",
          "text": [
            "https://raw.githubusercontent.com/mylethidiem/ProgramingTech/main/preAIO25/warmup/exercise_w5\n",
            "https://raw.githubusercontent.com/mylethidiem/ProgramingTech/main/preAIO25/warmup/exercise_w5/background1.png\n"
          ]
        }
      ],
      "source": [
        "import requests\n",
        "\n",
        "# Replace with your actual values\n",
        "username = \"mylethidiem\"\n",
        "repository = \"ProgramingTech\"\n",
        "branch = \"main\"\n",
        "folder_path = \"preAIO25/warmup/exercise_w5\"\n",
        "backgroud1_file = \"background1.png\"\n",
        "\n",
        "folder_raw_github_url = f\"https://raw.githubusercontent.com/{username}/{repository}/{branch}/{folder_path}\"\n",
        "\n",
        "print(folder_raw_github_url)\n",
        "\n",
        "backgroud1_raw_github_url = f\"{folder_raw_github_url}/{backgroud1_file}\"\n",
        "print(backgroud1_raw_github_url)\n",
        "\n",
        "response = requests.get(backgroud1_raw_github_url)\n",
        "response.raise_for_status()  # Raise an exception for non-200 status codes\n",
        "\n",
        "with open(backgroud1_file, 'wb') as f:\n",
        "    f.write(response.content)"
      ]
    },
    {
      "cell_type": "code",
      "execution_count": null,
      "metadata": {
        "id": "kxeNVvel2QHC"
      },
      "outputs": [],
      "source": []
    }
  ],
  "metadata": {
    "colab": {
      "provenance": [],
      "include_colab_link": true
    },
    "kernelspec": {
      "display_name": "Python 3",
      "name": "python3"
    },
    "language_info": {
      "name": "python"
    }
  },
  "nbformat": 4,
  "nbformat_minor": 0
}