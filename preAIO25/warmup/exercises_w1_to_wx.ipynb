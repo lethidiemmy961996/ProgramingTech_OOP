{
 "cells": [
  {
   "cell_type": "markdown",
   "metadata": {
    "colab_type": "text",
    "id": "view-in-github"
   },
   "source": [
    "<a href=\"https://colab.research.google.com/github/mylethidiem/ProgramingTech/blob/main/preAIO25/warmup/exercises_w1_to_wx.ipynb\" target=\"_parent\"><img src=\"https://colab.research.google.com/assets/colab-badge.svg\" alt=\"Open In Colab\"/></a>"
   ]
  },
  {
   "cell_type": "markdown",
   "metadata": {
    "id": "k-daPJaBXpuN"
   },
   "source": [
    "# W1"
   ]
  },
  {
   "cell_type": "code",
   "execution_count": null,
   "metadata": {
    "id": "fpO0E7RbpT7j"
   },
   "outputs": [],
   "source": []
  },
  {
   "cell_type": "markdown",
   "metadata": {},
   "source": [
    "# W2"
   ]
  },
  {
   "cell_type": "code",
   "execution_count": 1,
   "metadata": {},
   "outputs": [
    {
     "name": "stdout",
     "output_type": "stream",
     "text": [
      "tp must be int\n"
     ]
    }
   ],
   "source": [
    "# Q5\n",
    "tp = 'true'\n",
    "if type(tp) != int: # isinstance (tp , int)\n",
    "\tprint('tp must be int')"
   ]
  },
  {
   "cell_type": "code",
   "execution_count": 5,
   "metadata": {},
   "outputs": [],
   "source": [
    "# 6\n",
    "fp = 1\n",
    "if type(fp) != int: # isinstance (tp , int)\n",
    "\tprint('tp must be int')"
   ]
  },
  {
   "cell_type": "code",
   "execution_count": 7,
   "metadata": {},
   "outputs": [
    {
     "name": "stdout",
     "output_type": "stream",
     "text": [
      "tp must be int\n"
     ]
    }
   ],
   "source": [
    "# 7\n",
    "fn = 'One'\n",
    "if type(fn) != int: # isinstance (tp , int)\n",
    "\tprint('tp must be int')"
   ]
  },
  {
   "cell_type": "code",
   "execution_count": 8,
   "metadata": {},
   "outputs": [
    {
     "name": "stdout",
     "output_type": "stream",
     "text": [
      "tp and fp and fn must be greater than zero\n"
     ]
    }
   ],
   "source": [
    "#8\n",
    "tp = 10\n",
    "fp = -1\n",
    "fn = 1\n",
    "if not((tp > 0) and (fp > 0) and (fn > 0)):\n",
    "\tprint('tp and fp and fn must be greater than zero')"
   ]
  },
  {
   "cell_type": "code",
   "execution_count": 11,
   "metadata": {},
   "outputs": [],
   "source": [
    "# 9\n",
    "def compute_precision(TP , FP):\n",
    "\treturn TP/(TP + FP)\n",
    "def compute_recall(TP , FN):\n",
    "\treturn TP/(TP + FN)\n",
    "def compute_f1_score(precision , recall):\n",
    "\treturn 2 * (precision * recall)/(precision + recall)"
   ]
  },
  {
   "cell_type": "code",
   "execution_count": 15,
   "metadata": {},
   "outputs": [
    {
     "name": "stdout",
     "output_type": "stream",
     "text": [
      "precision: 0.17\n",
      "recall: 0.09\n",
      "f1_score: 0.12\n"
     ]
    }
   ],
   "source": [
    "TP = 2\n",
    "TN = 3\n",
    "FP = 10\n",
    "FN = 20\n",
    "precision = compute_precision(TP, FP)\n",
    "recall = compute_recall(TP, FN)\n",
    "f1_score = compute_f1_score(precision, recall)\n",
    "print(f'precision: {precision:.2f}')\n",
    "print(f'recall: {recall:.2f}')\n",
    "print(f'f1_score: {f1_score:.2f}')"
   ]
  },
  {
   "cell_type": "markdown",
   "metadata": {},
   "source": [
    "# W3"
   ]
  },
  {
   "cell_type": "code",
   "execution_count": null,
   "metadata": {},
   "outputs": [],
   "source": []
  },
  {
   "cell_type": "code",
   "execution_count": null,
   "metadata": {},
   "outputs": [],
   "source": []
  }
 ],
 "metadata": {
  "colab": {
   "include_colab_link": true,
   "provenance": []
  },
  "kernelspec": {
   "display_name": "Python 3 (ipykernel)",
   "language": "python",
   "name": "python3"
  },
  "language_info": {
   "codemirror_mode": {
    "name": "ipython",
    "version": 3
   },
   "file_extension": ".py",
   "mimetype": "text/x-python",
   "name": "python",
   "nbconvert_exporter": "python",
   "pygments_lexer": "ipython3",
   "version": "3.9.12"
  }
 },
 "nbformat": 4,
 "nbformat_minor": 0
}
