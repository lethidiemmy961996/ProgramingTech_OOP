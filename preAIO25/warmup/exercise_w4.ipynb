{
 "cells": [
  {
   "cell_type": "markdown",
   "metadata": {},
   "source": [
    " # **Streamlit**"
   ]
  },
  {
   "cell_type": "markdown",
   "metadata": {
    "id": "znxPoNGjvj-D"
   },
   "source": [
    "## **Install Libs**"
   ]
  },
  {
   "cell_type": "code",
   "execution_count": 27,
   "metadata": {
    "executionInfo": {
     "elapsed": 3422,
     "status": "ok",
     "timestamp": 1735114151857,
     "user": {
      "displayName": "Thái Nguyễn Quốc",
      "userId": "04072932238722635186"
     },
     "user_tz": -420
    },
    "id": "XqnpspqpbcIV"
   },
   "outputs": [],
   "source": [
    "!pip install -q streamlit==1.41.1"
   ]
  },
  {
   "cell_type": "code",
   "execution_count": null,
   "metadata": {
    "id": "LsBub0EfvtTy"
   },
   "outputs": [],
   "source": [
    "# get your password\n",
    "!wget -q -O - https://loca.lt/mytunnelpassword\n",
    "# !curl https://loca.lt/mytunnelpassword"
   ]
  },
  {
   "cell_type": "code",
   "execution_count": 29,
   "metadata": {
    "colab": {
     "base_uri": "https://localhost:8080/"
    },
    "executionInfo": {
     "elapsed": 492,
     "status": "ok",
     "timestamp": 1735114159806,
     "user": {
      "displayName": "Thái Nguyễn Quốc",
      "userId": "04072932238722635186"
     },
     "user_tz": -420
    },
    "id": "JG3k13yo2S4K",
    "outputId": "a8da5641-a7d1-4817-fc3c-50bef5dcbe86"
   },
   "outputs": [
    {
     "name": "stdout",
     "output_type": "stream",
     "text": [
      "Overwriting demo.py\n"
     ]
    }
   ],
   "source": [
    "# prepare file demo.py\n"
   ]
  },
  {
   "cell_type": "code",
   "execution_count": null,
   "metadata": {
    "id": "kxeNVvel2QHC"
   },
   "outputs": [],
   "source": [
    "# run streamlit through port: 8501\n",
    "!streamlit run demo.py & npx localtunnel --port 8501"
   ]
  },
  {
   "cell_type": "markdown",
   "metadata": {
    "id": "aIphK8ge2T0L"
   },
   "source": [
    "## **Basic**"
   ]
  },
  {
   "cell_type": "code",
   "execution_count": null,
   "metadata": {
    "id": "ykNL9LHm6yam"
   },
   "outputs": [],
   "source": [
    "# download image\n",
    "!gdown 1Wusjqpr7xmSl5muHPkyBTpOCVtJI-avQ"
   ]
  },
  {
   "cell_type": "code",
   "execution_count": null,
   "metadata": {
    "id": "5pVG-MH5zz6i"
   },
   "outputs": [],
   "source": []
  },
  {
   "cell_type": "code",
   "execution_count": 35,
   "metadata": {
    "colab": {
     "base_uri": "https://localhost:8080/"
    },
    "executionInfo": {
     "elapsed": 600716,
     "status": "ok",
     "timestamp": 1735115750702,
     "user": {
      "displayName": "Thái Nguyễn Quốc",
      "userId": "04072932238722635186"
     },
     "user_tz": -420
    },
    "id": "c5c7W3aM3qgf",
    "outputId": "0248a37c-a1cd-4f0a-caab-0ea9097bf89b"
   },
   "outputs": [
    {
     "name": "stdout",
     "output_type": "stream",
     "text": [
      "\u001b[1G\u001b[0K⠙\n",
      "Collecting usage statistics. To deactivate, set browser.gatherUsageStats to false.\n",
      "\u001b[0m\n",
      "\u001b[1G\u001b[0K⠹\u001b[1G\u001b[0K⠸\u001b[1G\u001b[0K⠼\u001b[1G\u001b[0K⠴\u001b[1G\u001b[0K⠦\u001b[0m\n",
      "\u001b[34m\u001b[1m  You can now view your Streamlit app in your browser.\u001b[0m\n",
      "\u001b[0m\n",
      "\u001b[34m  Local URL: \u001b[0m\u001b[1mhttp://localhost:8501\u001b[0m\n",
      "\u001b[34m  Network URL: \u001b[0m\u001b[1mhttp://172.28.0.12:8501\u001b[0m\n",
      "\u001b[34m  External URL: \u001b[0m\u001b[1mhttp://34.106.17.107:8501\u001b[0m\n",
      "\u001b[0m\n",
      "\u001b[1G\u001b[0K⠧\u001b[1G\u001b[0Kyour url is: https://giant-impalas-flow.loca.lt\n",
      "\u001b[34m  Stopping...\u001b[0m\n",
      "^C\n"
     ]
    }
   ],
   "source": [
    "!streamlit run app.py & npx localtunnel --port 8501"
   ]
  },
  {
   "cell_type": "markdown",
   "metadata": {
    "id": "ICYb8Afa9Uy-"
   },
   "source": [
    "## **Applications**"
   ]
  },
  {
   "cell_type": "markdown",
   "metadata": {
    "id": "__wI9ciEXklL"
   },
   "source": [
    "### **Sentiment Analysis using NLTK**"
   ]
  },
  {
   "cell_type": "code",
   "execution_count": null,
   "metadata": {},
   "outputs": [],
   "source": []
  },
  {
   "cell_type": "code",
   "execution_count": null,
   "metadata": {
    "id": "PKynfjQLQUiH"
   },
   "outputs": [],
   "source": []
  },
  {
   "cell_type": "code",
   "execution_count": null,
   "metadata": {
    "id": "SnfB3TPnXqW7"
   },
   "outputs": [],
   "source": [
    "!streamlit run sentiment_analysis.py & npx localtunnel --port 8501"
   ]
  },
  {
   "cell_type": "markdown",
   "metadata": {
    "id": "LiGJngoDFXUq"
   },
   "source": [
    "### **Contextual Spell Correction using Spacy and contextualSpellCheck**"
   ]
  },
  {
   "cell_type": "code",
   "execution_count": null,
   "metadata": {
    "id": "uGsuWhA1X0uq"
   },
   "outputs": [],
   "source": [
    "!pip install -q spacy contextualSpellCheck==0.4.4"
   ]
  },
  {
   "cell_type": "code",
   "execution_count": null,
   "metadata": {
    "id": "v8zpCDr_EKQx"
   },
   "outputs": [],
   "source": []
  },
  {
   "cell_type": "code",
   "execution_count": null,
   "metadata": {
    "id": "tfxIh-GMX8f2"
   },
   "outputs": [],
   "source": [
    "!streamlit run spell_corrector.py & npx localtunnel --port 8501"
   ]
  },
  {
   "cell_type": "markdown",
   "metadata": {
    "id": "-M9EXKzGFOTa"
   },
   "source": [
    "### **English-Vietnamese Machine Translation**"
   ]
  },
  {
   "cell_type": "code",
   "execution_count": null,
   "metadata": {
    "id": "kOR1GtkE9XHW"
   },
   "outputs": [],
   "source": [
    "!pip install transformers==4.47.1"
   ]
  },
  {
   "cell_type": "code",
   "execution_count": null,
   "metadata": {
    "id": "6L4-RrbX9vWI"
   },
   "outputs": [],
   "source": []
  },
  {
   "cell_type": "code",
   "execution_count": null,
   "metadata": {
    "id": "c1gW8jGg_uFh"
   },
   "outputs": [],
   "source": [
    "!streamlit run en_vi_machine_translation.py & npx localtunnel --port 8501"
   ]
  }
 ],
 "metadata": {
  "colab": {
   "authorship_tag": "ABX9TyM9fTCvQJ5oabRprpJeCQvS",
   "provenance": [],
   "toc_visible": true
  },
  "kernelspec": {
   "display_name": "Python 3",
   "name": "python3"
  },
  "language_info": {
   "name": "python"
  }
 },
 "nbformat": 4,
 "nbformat_minor": 0
}
