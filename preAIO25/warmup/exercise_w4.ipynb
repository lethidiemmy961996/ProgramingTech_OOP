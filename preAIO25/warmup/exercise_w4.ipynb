{
  "cells": [
    {
      "cell_type": "markdown",
      "source": [
        "## **Basic concept**"
      ],
      "metadata": {
        "id": "8ARGaVTG08pf"
      }
    },
    {
      "cell_type": "markdown",
      "source": [
        "Xác suất cơ bản"
      ],
      "metadata": {
        "id": "Wqhj1JBF2HKd"
      }
    },
    {
      "cell_type": "code",
      "source": [
        "import numpy as np\n",
        "\n",
        "# Tao ra mang cac gia tri co kha nang xay ra\n",
        "possibilities = np.array([0,1,2,3,4,5,6,7])\n",
        "\n",
        "# So luong mau can sinh ra\n",
        "size = 5\n",
        "\n",
        "# Sinh ra cac mau ngau nhien\n",
        "samples = np.random.choice(possibilities, size)\n",
        "\n",
        "print(samples)"
      ],
      "metadata": {
        "id": "a1zVKW66074W",
        "outputId": "d6a8243a-864b-455f-f234-9cbeda93e40a",
        "colab": {
          "base_uri": "https://localhost:8080/"
        }
      },
      "execution_count": 1,
      "outputs": [
        {
          "output_type": "stream",
          "name": "stdout",
          "text": [
            "[3 1 5 4 3]\n"
          ]
        }
      ]
    },
    {
      "cell_type": "markdown",
      "source": [
        "Uniform distribution (Phân phối đồng nhất)"
      ],
      "metadata": {
        "id": "iBP-MB_M2M7x"
      }
    },
    {
      "cell_type": "code",
      "source": [
        "# Thiet lap mot phan phoi dong nhat\n",
        "low = 2 # Gioi han duoi\n",
        "high = 5 # Gioi han tren\n",
        "size = 5 # so luong mau\n",
        "\n",
        "# Sinh ra cac mau ngau nhien\n",
        "samples = np.random.uniform(low, high, size)\n",
        "\n",
        "print(samples)"
      ],
      "metadata": {
        "id": "9VWPtStv2YWM",
        "outputId": "fbbc8ccf-efc5-4087-8a86-cb9cd4ff3927",
        "colab": {
          "base_uri": "https://localhost:8080/"
        }
      },
      "execution_count": 8,
      "outputs": [
        {
          "output_type": "stream",
          "name": "stdout",
          "text": [
            "[2.06678022 4.44173262 4.12581722 3.07365941 3.70184615]\n"
          ]
        }
      ]
    },
    {
      "cell_type": "markdown",
      "metadata": {
        "id": "znxPoNGjvj-D"
      },
      "source": [
        "## **Bài toán tung đồng xu**"
      ]
    },
    {
      "cell_type": "code",
      "execution_count": 11,
      "metadata": {
        "id": "LsBub0EfvtTy",
        "outputId": "f14b4c1d-f24e-433c-fe15-11c0b1617588",
        "colab": {
          "base_uri": "https://localhost:8080/"
        }
      },
      "outputs": [
        {
          "output_type": "stream",
          "name": "stdout",
          "text": [
            "Total flips:  10000\n",
            "Total heads:  4963\n",
            "Total tails:  5037\n",
            "Head probability: 0.4963\n",
            "Tail probability: 0.5037\n"
          ]
        }
      ],
      "source": [
        "import numpy as np\n",
        "import random\n",
        "\n",
        "# Total flips\n",
        "total_flips = 10000\n",
        "\n",
        "# number of heads appearing\n",
        "total_heads = 0\n",
        "\n",
        "# number of tails appearing\n",
        "total_tails = 0\n",
        "\n",
        "#\n",
        "for i in range(total_flips):\n",
        "  # randint(0,1) will return 0 or 1\n",
        "  value = random.randint(0,1)\n",
        "  if value == 0:\n",
        "    total_heads += 1\n",
        "  else:\n",
        "    total_tails += 1\n",
        "\n",
        "# Head probability\n",
        "head_probability = total_heads / total_flips\n",
        "\n",
        "# Tail probability\n",
        "tail_probability = total_tails / total_flips\n",
        "\n",
        "print(\"Total flips: \", total_flips)\n",
        "print(\"Total heads: \", total_heads)\n",
        "print(\"Total tails: \", total_tails)\n",
        "print(f\"Head probability: {head_probability}\")\n",
        "print(f\"Tail probability: {tail_probability}\")"
      ]
    },
    {
      "cell_type": "markdown",
      "metadata": {
        "id": "aIphK8ge2T0L"
      },
      "source": [
        "## **Basic**"
      ]
    },
    {
      "cell_type": "code",
      "execution_count": null,
      "metadata": {
        "id": "6L4-RrbX9vWI"
      },
      "outputs": [],
      "source": []
    },
    {
      "cell_type": "code",
      "execution_count": null,
      "metadata": {
        "id": "c1gW8jGg_uFh"
      },
      "outputs": [],
      "source": [
        "!streamlit run en_vi_machine_translation.py & npx localtunnel --port 8501"
      ]
    }
  ],
  "metadata": {
    "colab": {
      "provenance": []
    },
    "kernelspec": {
      "display_name": "Python 3",
      "name": "python3"
    },
    "language_info": {
      "name": "python"
    }
  },
  "nbformat": 4,
  "nbformat_minor": 0
}