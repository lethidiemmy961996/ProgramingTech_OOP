{
  "cells": [
    {
      "cell_type": "markdown",
      "source": [
        "## **Basic concept**"
      ],
      "metadata": {
        "id": "8ARGaVTG08pf"
      }
    },
    {
      "cell_type": "markdown",
      "source": [
        "Basic concept about probability"
      ],
      "metadata": {
        "id": "Wqhj1JBF2HKd"
      }
    },
    {
      "cell_type": "code",
      "source": [
        "import numpy as np\n",
        "\n",
        "# Tao ra mang cac gia tri co kha nang xay ra\n",
        "possibilities = np.array([0,1,2,3,4,5,6,7])\n",
        "\n",
        "# So luong mau can sinh ra\n",
        "size = 5\n",
        "\n",
        "# Sinh ra cac mau ngau nhien\n",
        "samples = np.random.choice(possibilities, size)\n",
        "\n",
        "print(samples)"
      ],
      "metadata": {
        "colab": {
          "base_uri": "https://localhost:8080/"
        },
        "id": "a1zVKW66074W",
        "outputId": "d6a8243a-864b-455f-f234-9cbeda93e40a"
      },
      "execution_count": 1,
      "outputs": [
        {
          "output_type": "stream",
          "name": "stdout",
          "text": [
            "[3 1 5 4 3]\n"
          ]
        }
      ]
    },
    {
      "cell_type": "markdown",
      "source": [
        "Uniform distribution (Phân phối đồng nhất)"
      ],
      "metadata": {
        "id": "iBP-MB_M2M7x"
      }
    },
    {
      "cell_type": "code",
      "source": [
        "# Thiet lap mot phan phoi dong nhat\n",
        "low = 2 # Gioi han duoi\n",
        "high = 5 # Gioi han tren\n",
        "size = 5 # so luong mau\n",
        "\n",
        "# Sinh ra cac mau ngau nhien\n",
        "samples = np.random.uniform(low, high, size)\n",
        "\n",
        "print(samples)"
      ],
      "metadata": {
        "colab": {
          "base_uri": "https://localhost:8080/"
        },
        "id": "9VWPtStv2YWM",
        "outputId": "fbbc8ccf-efc5-4087-8a86-cb9cd4ff3927"
      },
      "execution_count": 8,
      "outputs": [
        {
          "output_type": "stream",
          "name": "stdout",
          "text": [
            "[2.06678022 4.44173262 4.12581722 3.07365941 3.70184615]\n"
          ]
        }
      ]
    },
    {
      "cell_type": "markdown",
      "metadata": {
        "id": "znxPoNGjvj-D"
      },
      "source": [
        "## **Coin toss problem**"
      ]
    },
    {
      "cell_type": "code",
      "source": [
        "import random\n",
        "\n",
        "# randint(0,1) will return 0 or 1\n",
        "value = random.randint(0,1)\n",
        "print(value)"
      ],
      "metadata": {
        "colab": {
          "base_uri": "https://localhost:8080/"
        },
        "id": "8MR1TbmwbhrH",
        "outputId": "8d40c63c-f52c-4c04-e021-6a53e9e2cb3d"
      },
      "execution_count": 30,
      "outputs": [
        {
          "output_type": "stream",
          "name": "stdout",
          "text": [
            "1\n"
          ]
        }
      ]
    },
    {
      "cell_type": "code",
      "execution_count": 11,
      "metadata": {
        "id": "LsBub0EfvtTy",
        "colab": {
          "base_uri": "https://localhost:8080/"
        },
        "outputId": "f14b4c1d-f24e-433c-fe15-11c0b1617588"
      },
      "outputs": [
        {
          "output_type": "stream",
          "name": "stdout",
          "text": [
            "Total flips:  10000\n",
            "Total heads:  4963\n",
            "Total tails:  5037\n",
            "Head probability: 0.4963\n",
            "Tail probability: 0.5037\n"
          ]
        }
      ],
      "source": [
        "import numpy as np\n",
        "\n",
        "# Total flips\n",
        "total_flips = 10000\n",
        "\n",
        "# number of heads appearing\n",
        "total_heads = 0\n",
        "\n",
        "# number of tails appearing\n",
        "total_tails = 0\n",
        "\n",
        "#\n",
        "for i in range(total_flips):\n",
        "  value = random.randint(0,1)\n",
        "  if value == 0:\n",
        "    total_heads += 1\n",
        "  else:\n",
        "    total_tails += 1\n",
        "\n",
        "# Head probability\n",
        "head_probability = total_heads / total_flips\n",
        "\n",
        "# Tail probability\n",
        "tail_probability = total_tails / total_flips\n",
        "\n",
        "print(\"Total flips: \", total_flips)\n",
        "print(\"Total heads: \", total_heads)\n",
        "print(\"Total tails: \", total_tails)\n",
        "print(f\"Head probability: {head_probability}\")\n",
        "print(f\"Tail probability: {tail_probability}\")"
      ]
    },
    {
      "cell_type": "markdown",
      "metadata": {
        "id": "aIphK8ge2T0L"
      },
      "source": [
        "## **The problem of estimating the number π**"
      ]
    },
    {
      "cell_type": "code",
      "source": [
        "import random\n",
        "import math\n",
        "\n",
        "n_loop = 10\n",
        "\n",
        "for i in range(n_loop):\n",
        "  rand_value = random.random() #Return random number between 0.0 and 1.0:\n",
        "  print(rand_value)"
      ],
      "metadata": {
        "colab": {
          "base_uri": "https://localhost:8080/"
        },
        "id": "OrEcAPMvBE8r",
        "outputId": "ec32b933-34f8-4812-e0db-34994fac01f5"
      },
      "execution_count": 14,
      "outputs": [
        {
          "output_type": "stream",
          "name": "stdout",
          "text": [
            "0.9393815421719742\n",
            "0.06646180811184166\n",
            "0.7042836098983765\n",
            "0.8245668697749668\n",
            "0.5529968351849787\n",
            "0.8654768662653554\n",
            "0.979181180208132\n",
            "0.7758951449252521\n",
            "0.4498288767218599\n",
            "0.6626467824088955\n"
          ]
        }
      ]
    },
    {
      "cell_type": "code",
      "execution_count": 15,
      "metadata": {
        "id": "6L4-RrbX9vWI",
        "colab": {
          "base_uri": "https://localhost:8080/"
        },
        "outputId": "8543877b-a7a4-40a0-934b-c1904f9af717"
      },
      "outputs": [
        {
          "output_type": "stream",
          "name": "stdout",
          "text": [
            "pi = 3.141044\n"
          ]
        }
      ],
      "source": [
        "# Total point in square\n",
        "Ns = 1000000\n",
        "\n",
        "# Total point in circle\n",
        "Nc = 0\n",
        "\n",
        "# square edge\n",
        "s = 2\n",
        "# radius r = 1\n",
        "# Point in square have coordinates (x,y) value [-1,1]\n",
        "\n",
        "for i in range(Ns):\n",
        "  x = random.random()*2 - 1\n",
        "  y = random.random()*2 - 1\n",
        "  # distance to center O(0,0)\n",
        "  distance = math.sqrt(x**2 + y**2)\n",
        "  if distance <= 1:\n",
        "    Nc += 1\n",
        "\n",
        "pi = (s**2) * Nc / Ns\n",
        "print(f\"pi = {pi}\")\n"
      ]
    },
    {
      "cell_type": "markdown",
      "metadata": {
        "id": "wHWsqtI6BN4D"
      },
      "source": [
        "## **Gaussian**"
      ]
    },
    {
      "cell_type": "markdown",
      "source": [
        "6.1 Set up Gaussian function with input is a number"
      ],
      "metadata": {
        "id": "91EAaNj9MDN2"
      }
    },
    {
      "cell_type": "code",
      "source": [
        "import math"
      ],
      "metadata": {
        "id": "CZpk-OcKBRXo"
      },
      "execution_count": null,
      "outputs": []
    },
    {
      "cell_type": "code",
      "source": [
        "\n",
        "def gaussian_with_input_number(x, mean = 0, standard_devitation = 1):\n",
        "  result = 1/(standard_devitation * math.sqrt(2*math.pi))*math.exp((-(x -mean)**2)/(2*standard_devitation**2))\n",
        "  return round(result,2)\n"
      ],
      "metadata": {
        "id": "ghhQxPwDQC8R"
      },
      "execution_count": 19,
      "outputs": []
    },
    {
      "cell_type": "markdown",
      "source": [
        "6.2 Set up Gaussian function with input is a list"
      ],
      "metadata": {
        "id": "b7WiXjBwMJ50"
      }
    },
    {
      "cell_type": "code",
      "source": [
        "def gaussian_with_input_list(list, mean = 0, standard_devitation = 1):\n",
        "  result = []\n",
        "  for value in list:\n",
        "    result.append(gaussian_with_input_number(value, mean, standard_devitation))\n",
        "  return result"
      ],
      "metadata": {
        "id": "bnLJMcVvMVol"
      },
      "execution_count": 22,
      "outputs": []
    },
    {
      "cell_type": "markdown",
      "source": [
        "6.3 Set up Gaussian function with input is a numpy array"
      ],
      "metadata": {
        "id": "GahH86f3MW_E"
      }
    },
    {
      "cell_type": "code",
      "source": [
        "def gaussian_with_input_numpy_array(np_arr, mean = 0, standard_devitation = 1):\n",
        "  result = []\n",
        "  for value in np_arr:\n",
        "    result.append(gaussian_with_input_number(value, mean, standard_devitation))\n",
        "  return np.round(np.array(result),2)"
      ],
      "metadata": {
        "id": "pam2rkKhMfBP"
      },
      "execution_count": 25,
      "outputs": []
    },
    {
      "cell_type": "markdown",
      "source": [
        "Testing"
      ],
      "metadata": {
        "id": "LTqKDhAYRigi"
      }
    },
    {
      "cell_type": "code",
      "source": [
        "# q1\n",
        "x = 0.5\n",
        "mean = 1\n",
        "standard_devitation = 2\n",
        "gaussian_with_input_number(x, mean, standard_devitation)"
      ],
      "metadata": {
        "colab": {
          "base_uri": "https://localhost:8080/"
        },
        "id": "DSuF3w3_RhkK",
        "outputId": "a7b67430-9a15-4e22-9216-1d8c807fafbc"
      },
      "execution_count": 20,
      "outputs": [
        {
          "output_type": "execute_result",
          "data": {
            "text/plain": [
              "0.19"
            ]
          },
          "metadata": {},
          "execution_count": 20
        }
      ]
    },
    {
      "cell_type": "code",
      "source": [
        "#q2\n",
        "list = [-3, -0.4, 2]\n",
        "mean = 0\n",
        "standard_devitation = 2\n",
        "gaussian_with_input_list(list, mean, standard_devitation)"
      ],
      "metadata": {
        "colab": {
          "base_uri": "https://localhost:8080/"
        },
        "id": "bcCDhkHoTAyy",
        "outputId": "d13cd727-2d1e-427e-9d78-43dc43966a2e"
      },
      "execution_count": 23,
      "outputs": [
        {
          "output_type": "execute_result",
          "data": {
            "text/plain": [
              "[0.06, 0.2, 0.12]"
            ]
          },
          "metadata": {},
          "execution_count": 23
        }
      ]
    },
    {
      "cell_type": "code",
      "source": [
        "#q3\n",
        "np_arr = np.array([-0.1, 0.01, -3])\n",
        "mean = 0\n",
        "standard_devitation = 3\n",
        "gaussian_with_input_numpy_array(np_arr, mean, standard_devitation)"
      ],
      "metadata": {
        "colab": {
          "base_uri": "https://localhost:8080/"
        },
        "id": "LCxIAlGDTS9o",
        "outputId": "c9b92eab-1c26-44c3-d1a5-67517892c133"
      },
      "execution_count": 26,
      "outputs": [
        {
          "output_type": "execute_result",
          "data": {
            "text/plain": [
              "array([0.13, 0.13, 0.08])"
            ]
          },
          "metadata": {},
          "execution_count": 26
        }
      ]
    },
    {
      "cell_type": "markdown",
      "metadata": {
        "id": "b3mvvWVFBRuI"
      },
      "source": [
        "## **Classical Probability**"
      ]
    },
    {
      "cell_type": "code",
      "source": [
        "import random\n",
        "\n",
        "# start num\n",
        "start_test = 1\n",
        "#stop num\n",
        "stop_test = 5\n",
        "# will return num in range start stop\n",
        "values_test = random.randint(start_test,stop_test)\n",
        "print(values_test)\n"
      ],
      "metadata": {
        "colab": {
          "base_uri": "https://localhost:8080/"
        },
        "id": "Y2csMTvIbuXt",
        "outputId": "a9062a23-1053-4b1c-c316-c3cd6f1016a7"
      },
      "execution_count": 34,
      "outputs": [
        {
          "output_type": "stream",
          "name": "stdout",
          "text": [
            "4\n"
          ]
        }
      ]
    },
    {
      "cell_type": "code",
      "source": [
        "seed_test = 0\n",
        "print(random.seed(seed_test))"
      ],
      "metadata": {
        "colab": {
          "base_uri": "https://localhost:8080/"
        },
        "id": "IqGYSf8IcEwF",
        "outputId": "e90cc856-d65c-4a8b-db5f-80c2c8670acc"
      },
      "execution_count": 38,
      "outputs": [
        {
          "output_type": "stream",
          "name": "stdout",
          "text": [
            "None\n"
          ]
        }
      ]
    },
    {
      "cell_type": "code",
      "source": [
        "def generate_dice_rolls(n, seed = 0):\n",
        "  \"\"\" Generate a list of dice rolls for an n- sided die , with a fixed seed for reproducibility . \"\"\"\n",
        "  # start num\n",
        "  start = 1\n",
        "  #stop num\n",
        "  stop = 6\n",
        "  random.seed(seed)\n",
        "  return [random.randint(start,stop)  for _ in range(n)]"
      ],
      "metadata": {
        "id": "yIigqyVAazit"
      },
      "execution_count": 54,
      "outputs": []
    },
    {
      "cell_type": "code",
      "source": [
        "def count_occurrences(dice_rolls, number):\n",
        "  \"\"\" Count the occurrences of a specific number in the list of dice rolls .\"\"\"\n",
        "  count = 0\n",
        "  for roll in dice_rolls:\n",
        "    if roll == number:\n",
        "      count += 1\n",
        "  return count\n"
      ],
      "metadata": {
        "id": "OsUaLHb3dbj9"
      },
      "execution_count": 55,
      "outputs": []
    },
    {
      "cell_type": "code",
      "source": [
        "def calculate_probability(dice_rolls, number):\n",
        "  \"\"\" Calculate the probability of a specific number based on the dice rolls .\"\"\"\n",
        "  return count_occurrences(dice_rolls, number) / len(dice_rolls)\n"
      ],
      "metadata": {
        "id": "mYHg80KNBSCI"
      },
      "execution_count": 57,
      "outputs": []
    },
    {
      "cell_type": "code",
      "source": [
        "#q5-6\n",
        "number_of_interest = 6\n",
        "number_of_dice_rolls = 1000\n",
        "seed = 0\n",
        "dice_rolls = generate_dice_rolls(number_of_dice_rolls, seed)\n",
        "print(f\"dice_rolls: {dice_rolls}\")\n",
        "occurrences = count_occurrences(dice_rolls, number_of_interest)\n",
        "print(f\"The occurrences of {number_of_interest} is: {occurrences}\")\n",
        "probability = calculate_probability(dice_rolls, number_of_interest)\n",
        "print(f\"The probability of {number_of_interest} is: {probability}\")"
      ],
      "metadata": {
        "colab": {
          "base_uri": "https://localhost:8080/"
        },
        "id": "Xken5ufteM7W",
        "outputId": "d562336a-92d4-4c0c-ed93-e6116bd36326"
      },
      "execution_count": 58,
      "outputs": [
        {
          "output_type": "stream",
          "name": "stdout",
          "text": [
            "dice_rolls: [4, 4, 1, 3, 5, 4, 4, 3, 4, 3, 5, 2, 5, 2, 3, 2, 1, 5, 3, 5, 6, 5, 2, 3, 1, 6, 1, 6, 3, 4, 5, 1, 3, 4, 3, 5, 6, 2, 5, 4, 4, 5, 3, 1, 5, 1, 1, 6, 4, 6, 6, 6, 1, 5, 4, 3, 2, 6, 3, 6, 1, 2, 5, 2, 2, 2, 5, 4, 1, 1, 3, 5, 4, 1, 3, 5, 3, 6, 1, 5, 3, 5, 2, 5, 5, 5, 3, 4, 1, 5, 4, 3, 5, 2, 3, 2, 2, 2, 1, 5, 6, 3, 4, 1, 1, 6, 2, 2, 1, 1, 6, 5, 6, 4, 6, 5, 3, 5, 2, 2, 6, 5, 4, 5, 3, 4, 4, 6, 6, 6, 3, 1, 3, 5, 1, 4, 5, 6, 3, 2, 2, 1, 6, 3, 1, 6, 2, 3, 2, 3, 4, 1, 1, 2, 6, 2, 1, 5, 6, 5, 5, 6, 1, 1, 1, 6, 2, 5, 5, 1, 4, 1, 3, 1, 1, 5, 1, 2, 2, 6, 1, 4, 2, 6, 1, 6, 1, 5, 4, 5, 1, 3, 1, 2, 1, 6, 3, 3, 4, 2, 1, 5, 4, 1, 5, 1, 6, 4, 2, 3, 3, 6, 4, 5, 2, 6, 6, 2, 1, 6, 2, 2, 3, 5, 3, 1, 5, 4, 6, 2, 1, 4, 6, 4, 5, 5, 3, 6, 3, 4, 6, 3, 2, 5, 6, 1, 4, 6, 1, 3, 6, 1, 5, 3, 2, 2, 4, 3, 5, 3, 6, 3, 5, 6, 5, 2, 6, 3, 4, 6, 4, 6, 1, 1, 5, 2, 6, 3, 2, 2, 2, 6, 4, 4, 6, 6, 5, 4, 1, 4, 6, 5, 4, 6, 6, 1, 2, 4, 1, 3, 6, 2, 4, 5, 4, 5, 5, 1, 1, 4, 3, 3, 4, 1, 4, 2, 5, 6, 1, 6, 2, 1, 4, 6, 4, 3, 1, 2, 1, 6, 1, 6, 5, 5, 1, 2, 1, 5, 6, 2, 3, 3, 6, 2, 1, 4, 4, 6, 1, 1, 3, 4, 1, 3, 2, 6, 5, 6, 6, 3, 1, 2, 3, 1, 1, 1, 2, 6, 3, 5, 3, 3, 5, 1, 6, 6, 5, 6, 4, 6, 6, 4, 6, 4, 3, 5, 2, 2, 4, 5, 3, 1, 2, 2, 3, 3, 3, 3, 6, 1, 3, 5, 1, 1, 3, 2, 2, 5, 3, 3, 4, 5, 2, 3, 1, 4, 6, 2, 1, 3, 2, 5, 6, 1, 3, 4, 3, 3, 4, 1, 1, 5, 4, 4, 3, 3, 1, 4, 1, 6, 4, 4, 1, 3, 3, 6, 6, 2, 2, 6, 5, 4, 6, 1, 1, 1, 2, 6, 2, 1, 4, 1, 1, 4, 5, 5, 3, 4, 4, 5, 6, 6, 2, 4, 1, 3, 2, 3, 5, 2, 4, 2, 3, 1, 1, 6, 1, 5, 4, 6, 2, 1, 4, 4, 3, 2, 6, 1, 2, 5, 2, 1, 2, 4, 4, 3, 5, 2, 1, 5, 4, 2, 5, 4, 6, 6, 4, 5, 4, 6, 3, 4, 4, 6, 6, 2, 5, 5, 2, 1, 3, 6, 6, 3, 3, 1, 5, 2, 3, 5, 2, 4, 5, 3, 6, 6, 4, 1, 1, 5, 1, 1, 2, 2, 1, 3, 1, 4, 3, 2, 2, 6, 4, 3, 5, 4, 5, 5, 1, 5, 1, 6, 5, 5, 1, 6, 4, 2, 3, 5, 5, 4, 4, 4, 5, 5, 2, 1, 6, 1, 6, 2, 3, 5, 5, 3, 3, 1, 4, 3, 3, 4, 4, 4, 1, 2, 6, 2, 2, 3, 6, 3, 1, 1, 4, 4, 2, 4, 5, 6, 1, 6, 6, 2, 3, 4, 1, 5, 4, 4, 4, 1, 1, 4, 2, 1, 1, 5, 5, 2, 6, 3, 1, 6, 5, 6, 3, 2, 4, 4, 1, 1, 5, 6, 4, 5, 6, 3, 6, 1, 6, 6, 5, 3, 2, 4, 3, 6, 6, 1, 5, 2, 1, 4, 4, 3, 2, 4, 3, 6, 1, 1, 1, 4, 3, 1, 5, 6, 5, 5, 2, 2, 1, 6, 5, 6, 5, 4, 5, 3, 1, 2, 4, 5, 4, 1, 1, 4, 1, 1, 4, 2, 6, 1, 4, 4, 6, 4, 1, 4, 3, 6, 3, 1, 3, 1, 1, 3, 6, 1, 3, 3, 2, 1, 2, 3, 1, 5, 2, 2, 1, 2, 6, 6, 6, 1, 6, 1, 3, 3, 6, 1, 5, 2, 2, 2, 4, 1, 4, 3, 6, 3, 2, 1, 2, 3, 3, 4, 3, 3, 5, 6, 3, 2, 5, 1, 1, 5, 5, 3, 2, 4, 2, 2, 2, 3, 5, 2, 2, 2, 3, 3, 4, 6, 1, 2, 5, 1, 4, 1, 6, 1, 2, 4, 3, 5, 4, 6, 2, 5, 4, 3, 6, 3, 1, 2, 4, 6, 3, 6, 5, 1, 4, 4, 1, 4, 6, 3, 4, 2, 3, 3, 4, 1, 2, 1, 3, 1, 5, 5, 6, 2, 6, 4, 4, 2, 4, 4, 2, 2, 4, 3, 5, 2, 3, 4, 6, 6, 1, 4, 2, 3, 1, 6, 4, 5, 4, 1, 2, 3, 1, 6, 3, 5, 5, 2, 4, 6, 4, 1, 6, 4, 2, 5, 4, 3, 6, 1, 1, 3, 6, 1, 1, 3, 4, 5, 5, 6, 4, 4, 1, 6, 3, 3, 3, 6, 2, 5, 1, 1, 1, 3, 3, 5, 3, 1, 5, 2, 2, 1, 4, 3, 3, 5, 2, 5, 5, 6, 2, 5, 1, 4, 6, 5, 4, 6, 3, 3, 4, 3, 5, 6, 2, 2, 1, 6, 1, 4, 4, 5, 4, 2, 5, 6, 3, 3, 6, 4, 6, 4, 2, 4, 4, 6, 5, 3, 4, 6, 1, 4, 3, 2, 6, 4, 1, 5, 2, 1, 3, 4, 4, 1, 5, 1, 6, 1, 6, 6, 6, 4, 1, 3, 1, 1, 5, 1, 3, 6, 6, 3]\n",
            "The occurrences of 6 is: 169\n",
            "The probability of 6 is: 0.169\n"
          ]
        }
      ]
    },
    {
      "cell_type": "markdown",
      "source": [
        "## **Numpy**"
      ],
      "metadata": {
        "id": "FUw_JvQSziou"
      }
    },
    {
      "cell_type": "code",
      "source": [
        "#\n",
        "import numpy as np\n",
        "\n",
        "list_data = [2,3,6,7,9,2]\n",
        "arr = np.array(list_data)\n",
        "print(arr)\n",
        "print(arr.dtype)\n",
        "print(arr.shape)\n",
        "print(arr.ndim)\n",
        "print(arr.size)\n",
        "print(arr.nbytes)\n",
        "print(arr.itemsize)\n",
        "\n",
        "np.zeros(5)\n",
        "\n",
        "shape = (2,3)\n",
        "np.ones(shape)\n",
        "\n",
        "num = 5\n",
        "print(np.ones(num))\n",
        "shape = (2,3)\n",
        "print(np.ones(shape))\n",
        "print(np.full(shape, 2))\n",
        "#\n",
        "start = 2\n",
        "stop = 10\n",
        "step = 2\n",
        "print(np.arange(start, stop, step))\n",
        "#\n",
        "start = 2\n",
        "stop = 10\n",
        "num = 5\n",
        "print(np.linspace(start, stop, num))\n",
        "#\n",
        "np.eye(3)\n",
        "# seed"
      ],
      "metadata": {
        "id": "SZXfYk_rzqWV",
        "outputId": "94c5d24c-42ff-4d6b-cd7c-c89961990ba2",
        "colab": {
          "base_uri": "https://localhost:8080/"
        }
      },
      "execution_count": 68,
      "outputs": [
        {
          "output_type": "stream",
          "name": "stdout",
          "text": [
            "[2 3 6 7 9 2]\n",
            "int64\n",
            "(6,)\n",
            "1\n",
            "6\n",
            "48\n",
            "8\n",
            "[1. 1. 1. 1. 1.]\n",
            "[[1. 1. 1.]\n",
            " [1. 1. 1.]]\n",
            "[[2 2 2]\n",
            " [2 2 2]]\n",
            "[2 4 6 8]\n",
            "[ 2.  4.  6.  8. 10.]\n"
          ]
        },
        {
          "output_type": "execute_result",
          "data": {
            "text/plain": [
              "array([[1., 0., 0.],\n",
              "       [0., 1., 0.],\n",
              "       [0., 0., 1.]])"
            ]
          },
          "metadata": {},
          "execution_count": 68
        }
      ]
    },
    {
      "cell_type": "code",
      "source": [
        "rand_array = np.random.rand(2, 3)\n",
        "print(rand_array)\n"
      ],
      "metadata": {
        "id": "socURhh10zKu",
        "outputId": "34c14bbd-23d6-49b0-f59f-eeed7be5e5ea",
        "colab": {
          "base_uri": "https://localhost:8080/"
        }
      },
      "execution_count": 69,
      "outputs": [
        {
          "output_type": "stream",
          "name": "stdout",
          "text": [
            "[[0.60596387 0.58328902 0.65207089]\n",
            " [0.82568269 0.21725984 0.81787938]]\n"
          ]
        }
      ]
    },
    {
      "cell_type": "code",
      "source": [
        "randint_array = np.random.randint(1, 10,(3, 3))\n",
        "print(randint_array)"
      ],
      "metadata": {
        "id": "_A3KN5sL5Qjp",
        "outputId": "ff2ef1b4-3d30-4ec0-fccb-8e5bee97bc76",
        "colab": {
          "base_uri": "https://localhost:8080/"
        }
      },
      "execution_count": 70,
      "outputs": [
        {
          "output_type": "stream",
          "name": "stdout",
          "text": [
            "[[3 5 7]\n",
            " [3 1 3]\n",
            " [9 4 5]]\n"
          ]
        }
      ]
    },
    {
      "cell_type": "code",
      "source": [
        "#indexing\n",
        "#slicing\n"
      ],
      "metadata": {
        "id": "ECpbSEAW5aTS"
      },
      "execution_count": null,
      "outputs": []
    },
    {
      "cell_type": "code",
      "source": [
        "#hstack\n",
        "arr1 = np.array([1, 2, 3])\n",
        "arr2 = np.array([4, 5, 6])\n",
        "arr3 = np.hstack((arr1, arr2))\n",
        "print(arr1)\n",
        "print(\"+\")\n",
        "print(arr2)\n",
        "print(\"=\")\n",
        "print(arr3)"
      ],
      "metadata": {
        "id": "CKqj2fnK7eSA",
        "outputId": "1d85f525-0d5f-40bc-bca4-4ce552834ef9",
        "colab": {
          "base_uri": "https://localhost:8080/"
        }
      },
      "execution_count": 72,
      "outputs": [
        {
          "output_type": "stream",
          "name": "stdout",
          "text": [
            "[1 2 3]\n",
            "+\n",
            "[4 5 6]\n",
            "=\n",
            "[1 2 3 4 5 6]\n"
          ]
        }
      ]
    },
    {
      "cell_type": "code",
      "source": [
        "#vstack\n",
        "arr1 = np.array([1, 2, 3])\n",
        "arr2 = np.array([4, 5, 6])\n",
        "arr3 = np.vstack((arr1, arr2))\n",
        "print(arr1)\n",
        "print(\"+\")\n",
        "print(arr2)\n",
        "print(\"=\")\n",
        "print(arr3)"
      ],
      "metadata": {
        "id": "Vr-gdfOH70lQ",
        "outputId": "b84cfa2b-a61d-44b3-bec7-4f0a5297d799",
        "colab": {
          "base_uri": "https://localhost:8080/"
        }
      },
      "execution_count": 73,
      "outputs": [
        {
          "output_type": "stream",
          "name": "stdout",
          "text": [
            "[1 2 3]\n",
            "+\n",
            "[4 5 6]\n",
            "=\n",
            "[[1 2 3]\n",
            " [4 5 6]]\n"
          ]
        }
      ]
    },
    {
      "cell_type": "code",
      "source": [
        "#concatenate\n",
        "arr1 = np.array([1, 2, 3])\n",
        "arr2 = np.array([4, 5, 6])\n",
        "arr3 = np.concatenate((arr1, arr2))\n",
        "print(arr1)\n",
        "print(\"+\")\n",
        "print(arr2)\n",
        "print(\"=\")\n",
        "print(arr3)\n",
        "#"
      ],
      "metadata": {
        "id": "ar9wFYOH8yJq",
        "outputId": "4a686e87-6bb8-49c3-b072-fc214c0bb567",
        "colab": {
          "base_uri": "https://localhost:8080/"
        }
      },
      "execution_count": 74,
      "outputs": [
        {
          "output_type": "stream",
          "name": "stdout",
          "text": [
            "[1 2 3]\n",
            "+\n",
            "[4 5 6]\n",
            "=\n",
            "[1 2 3 4 5 6]\n"
          ]
        }
      ]
    },
    {
      "cell_type": "code",
      "source": [
        "#concatenate\n",
        "arr1 = np.array([[1, 2, 3],[7, 1, 2]])\n",
        "arr2 = np.array([[2, 0, 8],[4, 5, 6]])\n",
        "arr3 = np.concatenate((arr1, arr2),axis=1)\n",
        "print(arr1)\n",
        "print(\"+\")\n",
        "print(arr2)\n",
        "print(\"=\")\n",
        "print(arr3)"
      ],
      "metadata": {
        "id": "QU3vRkc_9DKn",
        "outputId": "6a5670aa-63d4-47f8-fa2a-7c7bce5a25c6",
        "colab": {
          "base_uri": "https://localhost:8080/"
        }
      },
      "execution_count": 76,
      "outputs": [
        {
          "output_type": "stream",
          "name": "stdout",
          "text": [
            "[[1 2 3]\n",
            " [7 1 2]]\n",
            "+\n",
            "[[2 0 8]\n",
            " [4 5 6]]\n",
            "=\n",
            "[[1 2 3 2 0 8]\n",
            " [7 1 2 4 5 6]]\n"
          ]
        }
      ]
    },
    {
      "cell_type": "code",
      "source": [
        "#concatenate\n",
        "arr1 = np.array([[1, 2, 3],[7, 1, 2]])\n",
        "arr2 = np.array([[2, 0, 8],[4, 5, 6]])\n",
        "arr3 = np.concatenate((arr1, arr2),axis=0)\n",
        "print(arr1)\n",
        "print(\"+\")\n",
        "print(arr2)\n",
        "print(\"=\")\n",
        "print(arr3)"
      ],
      "metadata": {
        "id": "H2b60tYA9hCn",
        "outputId": "68d418bc-1c88-408a-c7b7-72f4347c5738",
        "colab": {
          "base_uri": "https://localhost:8080/"
        }
      },
      "execution_count": 77,
      "outputs": [
        {
          "output_type": "stream",
          "name": "stdout",
          "text": [
            "[[1 2 3]\n",
            " [7 1 2]]\n",
            "+\n",
            "[[2 0 8]\n",
            " [4 5 6]]\n",
            "=\n",
            "[[1 2 3]\n",
            " [7 1 2]\n",
            " [2 0 8]\n",
            " [4 5 6]]\n"
          ]
        }
      ]
    },
    {
      "cell_type": "code",
      "source": [
        "#reshape\n",
        "arr = np.array([1, 2, 3, 4, 5, 6])\n",
        "arr2 = arr.reshape(2, 3)\n",
        "print(arr)\n",
        "print(arr2)"
      ],
      "metadata": {
        "id": "avIt1nMH90BF",
        "outputId": "0f4f9ce7-d55a-4f63-d42e-9bfe9e1cde35",
        "colab": {
          "base_uri": "https://localhost:8080/"
        }
      },
      "execution_count": 78,
      "outputs": [
        {
          "output_type": "stream",
          "name": "stdout",
          "text": [
            "[1 2 3 4 5 6]\n",
            "[[1 2 3]\n",
            " [4 5 6]]\n"
          ]
        }
      ]
    },
    {
      "cell_type": "code",
      "source": [
        "#where\n",
        "arr = np.array([1, 2, 3, 4, 5, 6])\n",
        "arr2 = np.where(arr > 3)\n",
        "print(arr)\n",
        "print(arr2)"
      ],
      "metadata": {
        "id": "qh40RkNAAJKF",
        "outputId": "84700439-899e-44f7-b2bd-1cd79dba6e92",
        "colab": {
          "base_uri": "https://localhost:8080/"
        }
      },
      "execution_count": 79,
      "outputs": [
        {
          "output_type": "stream",
          "name": "stdout",
          "text": [
            "[1 2 3 4 5 6]\n",
            "(array([3, 4, 5]),)\n"
          ]
        }
      ]
    },
    {
      "cell_type": "code",
      "source": [
        "#array min max\n",
        "arr = np.array([1, 2, 3, 4, 5, 6])\n",
        "print(np.min(arr))\n",
        "print(np.max(arr))"
      ],
      "metadata": {
        "id": "TOaT1vR_BIjY",
        "outputId": "f6d53813-3ef3-469f-f85e-62f545c79197",
        "colab": {
          "base_uri": "https://localhost:8080/"
        }
      },
      "execution_count": 80,
      "outputs": [
        {
          "output_type": "stream",
          "name": "stdout",
          "text": [
            "1\n",
            "6\n"
          ]
        }
      ]
    },
    {
      "cell_type": "code",
      "source": [
        "#min in array by row\n",
        "arr = np.array([[1, 2, 3],[7, 1, 2]])\n",
        "print(arr)\n",
        "print(np.min(arr, axis=1))\n",
        "#argmax: find index of max value of array\n",
        "print(np.argmax(arr, axis=1))\n",
        "\n",
        "#max in array by column\n",
        "print(np.max(arr, axis=0))"
      ],
      "metadata": {
        "id": "mWx4oPkzBOhl",
        "outputId": "aa818ad7-3715-4c2c-d6c3-53d86063a5bf",
        "colab": {
          "base_uri": "https://localhost:8080/"
        }
      },
      "execution_count": 85,
      "outputs": [
        {
          "output_type": "stream",
          "name": "stdout",
          "text": [
            "[[1 2 3]\n",
            " [7 1 2]]\n",
            "[1 1]\n",
            "[2 0]\n",
            "[7 2 3]\n"
          ]
        }
      ]
    },
    {
      "cell_type": "code",
      "source": [
        "#array sort\n",
        "arr = np.array([1, 9, 3, 0, 5, 3])\n",
        "print(np.sort(arr))\n",
        "\n",
        "# sort array having shape (2,3)\n",
        "arr = np.array([[1, 2, 3],[7, 1, 2]])\n",
        "print(np.sort(arr, axis=0))\n",
        "# axis=1 for row"
      ],
      "metadata": {
        "id": "afqapCsmDDOC",
        "outputId": "3a9676e6-2db5-47b4-8280-7aaf1d236214",
        "colab": {
          "base_uri": "https://localhost:8080/"
        }
      },
      "execution_count": 88,
      "outputs": [
        {
          "output_type": "stream",
          "name": "stdout",
          "text": [
            "[0 1 3 3 5 9]\n",
            "[[1 1 2]\n",
            " [7 2 3]]\n"
          ]
        }
      ]
    },
    {
      "cell_type": "code",
      "source": [
        "#inner product\n",
        "arr1 = np.array([1, 2, 3])\n",
        "arr2 = np.array([4, 5, 6])\n",
        "arr3 = np.inner(arr1, arr2)\n",
        "print(arr1)\n",
        "print(\"*\")\n",
        "print(arr2)\n",
        "print(\"=\")\n",
        "print(arr3)"
      ],
      "metadata": {
        "id": "yPvm9wj4DGkH",
        "outputId": "e7c2f6b5-4bb4-42ff-84d5-ae4322d8f796",
        "colab": {
          "base_uri": "https://localhost:8080/"
        }
      },
      "execution_count": 91,
      "outputs": [
        {
          "output_type": "stream",
          "name": "stdout",
          "text": [
            "[1 2 3]\n",
            "*\n",
            "[4 5 6]\n",
            "=\n",
            "32\n"
          ]
        }
      ]
    },
    {
      "cell_type": "code",
      "source": [
        "#dot 2 arrays\n",
        "arr1 = np.array([1, 2, 3])\n",
        "arr2 = np.array([4, 5, 6])\n",
        "arr3 = np.dot(arr1, arr2)\n",
        "print(arr1)\n",
        "print(\"*\")\n",
        "print(arr2)\n",
        "print(\"=\")\n",
        "print(arr3)"
      ],
      "metadata": {
        "id": "Wrks5JAbEZKz",
        "outputId": "3474a33f-ace2-47f6-dbe7-d4b36d006957",
        "colab": {
          "base_uri": "https://localhost:8080/"
        }
      },
      "execution_count": 92,
      "outputs": [
        {
          "output_type": "stream",
          "name": "stdout",
          "text": [
            "[1 2 3]\n",
            "*\n",
            "[4 5 6]\n",
            "=\n",
            "32\n"
          ]
        }
      ]
    },
    {
      "cell_type": "code",
      "source": [
        "# Matrix-matrix multiplication\n",
        "arr1 = np.array([[1, 2, 3],[7, 1, 2]])\n",
        "arr2 = np.array([[2, 8],[4, 6],[1, 3]])\n",
        "print(f\"{arr1}\")\n",
        "print(f\"arr1 shape:{arr1.shape}\")\n",
        "\n",
        "print(\"*\")\n",
        "print(f\"{arr2}\")\n",
        "print(f\"arr2 shape:{arr2.shape}\")\n",
        "print(\"=\")\n",
        "print(np.matmul(arr1, arr2))\n",
        "\n",
        "#transpose\n",
        "print(f\"arr2 transpose:\")\n",
        "print(np.transpose(arr2))"
      ],
      "metadata": {
        "id": "FxcyTMBbFaxZ",
        "outputId": "06aec943-c260-41e9-ee9c-c095b463a6a2",
        "colab": {
          "base_uri": "https://localhost:8080/"
        }
      },
      "execution_count": 98,
      "outputs": [
        {
          "output_type": "stream",
          "name": "stdout",
          "text": [
            "[[1 2 3]\n",
            " [7 1 2]]\n",
            "arr1 shape:(2, 3)\n",
            "*\n",
            "[[2 8]\n",
            " [4 6]\n",
            " [1 3]]\n",
            "arr2 shape:(3, 2)\n",
            "=\n",
            "[[13 29]\n",
            " [20 68]]\n",
            "arr2 transpose:\n",
            "[[2 4 1]\n",
            " [8 6 3]]\n"
          ]
        }
      ]
    },
    {
      "cell_type": "code",
      "source": [
        "#np.sum\n",
        "arr = np.array([1, 2, 3, 4, 5, 6])\n",
        "print(np.sum(arr))\n",
        "\n",
        "#np.sum by row\n",
        "arr1 = np.array([[1, 2, 3],[7, 1, 2]])\n",
        "print(f\"{arr1}\")\n",
        "print(f\"sum by row {np.sum(arr1, axis=1)}\")\n",
        "\n",
        "#np.sum by column\n",
        "print(f\"sum by column {np.sum(arr1, axis=0)}\")"
      ],
      "metadata": {
        "id": "aU0-DqzGG-qk",
        "outputId": "c8c02a47-d726-4c09-e911-5c698c298a5c",
        "colab": {
          "base_uri": "https://localhost:8080/"
        }
      },
      "execution_count": 102,
      "outputs": [
        {
          "output_type": "stream",
          "name": "stdout",
          "text": [
            "21\n",
            "[[1 2 3]\n",
            " [7 1 2]]\n",
            "sum by row [ 6 10]\n",
            "sum by column [8 3 5]\n"
          ]
        }
      ]
    },
    {
      "cell_type": "code",
      "source": [
        "# Tính chuẩn Euclid của vector\n",
        "arr = np.array([1, 2, 3])\n",
        "print(np.linalg.norm(arr))"
      ],
      "metadata": {
        "id": "kxS_0N1PHoPo",
        "outputId": "8d16f735-3425-4749-b6ff-4a41e093a91e",
        "colab": {
          "base_uri": "https://localhost:8080/"
        }
      },
      "execution_count": 103,
      "outputs": [
        {
          "output_type": "stream",
          "name": "stdout",
          "text": [
            "3.7416573867739413\n"
          ]
        }
      ]
    },
    {
      "cell_type": "code",
      "source": [
        "#broadcasting array\n",
        "arr1 = np.array([[1, 2, 3],[7, 1, 2]])\n",
        "arr2 = np.array([1, 2, 3])\n",
        "print(f\"{arr1}\")\n",
        "print(f\"arr1 shape:{arr1.shape}\")\n",
        "\n",
        "print(\"+\")\n",
        "print(f\"{arr2}\")\n",
        "print(f\"arr2 shape:{arr2.shape}\")\n",
        "print(\"=\")\n",
        "print(np.add(arr1, arr2))\n",
        "\n",
        "num = 1\n",
        "print(f\"{arr1}\")\n",
        "print(f\"arr1 shape:{arr1.shape}\")\n",
        "\n",
        "print(\"+\")\n",
        "print(f\"{num}\")\n",
        "print(f\"num shape:{np.array(num).shape}\")\n",
        "print(\"=\")\n",
        "print(np.add(arr1,num))\n",
        "\n",
        "#also apply for array have multi dim or multi calculate\n",
        "\n"
      ],
      "metadata": {
        "id": "p7Pw30UWIJDx",
        "outputId": "a3705cb0-482d-4fe0-bb6f-ea5b1258e30b",
        "colab": {
          "base_uri": "https://localhost:8080/"
        }
      },
      "execution_count": 106,
      "outputs": [
        {
          "output_type": "stream",
          "name": "stdout",
          "text": [
            "[[1 2 3]\n",
            " [7 1 2]]\n",
            "arr1 shape:(2, 3)\n",
            "+\n",
            "[1 2 3]\n",
            "arr2 shape:(3,)\n",
            "=\n",
            "[[2 4 6]\n",
            " [8 3 5]]\n",
            "[[1 2 3]\n",
            " [7 1 2]]\n",
            "arr1 shape:(2, 3)\n",
            "+\n",
            "1\n",
            "num shape:()\n",
            "=\n",
            "[[2 3 4]\n",
            " [8 2 3]]\n"
          ]
        }
      ]
    },
    {
      "cell_type": "code",
      "source": [
        "#apply_along_axis\n",
        "arrx = np.array([[1, 2, 3],[7, 1, 2]])\n",
        "print(arr)\n",
        "print(np.apply_along_axis(np.sum, axis = 1, arr=arrx))"
      ],
      "metadata": {
        "id": "cp8pPLBWJAyO",
        "outputId": "96c81dce-846d-42c4-c37e-679196f00ef7",
        "colab": {
          "base_uri": "https://localhost:8080/"
        }
      },
      "execution_count": 110,
      "outputs": [
        {
          "output_type": "stream",
          "name": "stdout",
          "text": [
            "[1 2 3]\n",
            "[ 6 10]\n"
          ]
        }
      ]
    },
    {
      "cell_type": "code",
      "source": [
        "#vectorize\n",
        "# aivietnam\n",
        "import numpy as np\n",
        "\n",
        "# Định ngh ĩa hàm chuy ển đổi nhiệt độ\n",
        "def celsius_to_fahrenheit (c) :\n",
        "  return (c * 9/5) + 32\n",
        "\n",
        "# Vector hóa hàm celsius_to_fahrenheit\n",
        "vectorized_conversion = np . vectorize(celsius_to_fahrenheit)\n",
        "# Tạo mảng nhiệt độ Celsius\n",
        "celsius = np . array ([0, 20, 37, 100])\n",
        "# Áp dụng hàm vector hóa lên mảng\n",
        "fahrenheit = vectorized_conversion(celsius)\n",
        "print (\" Chuyển đổi từ Celsius sang Fahrenheit :\", fahrenheit)\n"
      ],
      "metadata": {
        "id": "jkXoLt4nJ0qb",
        "outputId": "8d17bffe-214e-45d6-aa92-1a36847ee46a",
        "colab": {
          "base_uri": "https://localhost:8080/"
        }
      },
      "execution_count": 112,
      "outputs": [
        {
          "output_type": "stream",
          "name": "stdout",
          "text": [
            " Chuyển đổi từ Celsius sang Fahrenheit : [ 32.   68.   98.6 212. ]\n"
          ]
        }
      ]
    }
  ],
  "metadata": {
    "colab": {
      "provenance": []
    },
    "kernelspec": {
      "display_name": "Python 3",
      "name": "python3"
    },
    "language_info": {
      "name": "python"
    }
  },
  "nbformat": 4,
  "nbformat_minor": 0
}