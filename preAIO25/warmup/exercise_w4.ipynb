{
  "cells": [
    {
      "cell_type": "markdown",
      "metadata": {
        "id": "view-in-github",
        "colab_type": "text"
      },
      "source": [
        "<a href=\"https://colab.research.google.com/github/mylethidiem/ProgramingTech/blob/main/preAIO25/warmup/exercise_w4.ipynb\" target=\"_parent\"><img src=\"https://colab.research.google.com/assets/colab-badge.svg\" alt=\"Open In Colab\"/></a>"
      ]
    },
    {
      "cell_type": "markdown",
      "source": [
        "## **Basic concept**"
      ],
      "metadata": {
        "id": "8ARGaVTG08pf"
      }
    },
    {
      "cell_type": "markdown",
      "source": [
        "Basic concept about probability"
      ],
      "metadata": {
        "id": "Wqhj1JBF2HKd"
      }
    },
    {
      "cell_type": "code",
      "source": [
        "import numpy as np\n",
        "\n",
        "# Tao ra mang cac gia tri co kha nang xay ra\n",
        "possibilities = np.array([0,1,2,3,4,5,6,7])\n",
        "\n",
        "# So luong mau can sinh ra\n",
        "size = 5\n",
        "\n",
        "# Sinh ra cac mau ngau nhien\n",
        "samples = np.random.choice(possibilities, size)\n",
        "\n",
        "print(samples)"
      ],
      "metadata": {
        "colab": {
          "base_uri": "https://localhost:8080/"
        },
        "id": "a1zVKW66074W",
        "outputId": "d6a8243a-864b-455f-f234-9cbeda93e40a"
      },
      "execution_count": 1,
      "outputs": [
        {
          "output_type": "stream",
          "name": "stdout",
          "text": [
            "[3 1 5 4 3]\n"
          ]
        }
      ]
    },
    {
      "cell_type": "markdown",
      "source": [
        "Uniform distribution (Phân phối đồng nhất)"
      ],
      "metadata": {
        "id": "iBP-MB_M2M7x"
      }
    },
    {
      "cell_type": "code",
      "source": [
        "# Thiet lap mot phan phoi dong nhat\n",
        "low = 2 # Gioi han duoi\n",
        "high = 5 # Gioi han tren\n",
        "size = 5 # so luong mau\n",
        "\n",
        "# Sinh ra cac mau ngau nhien\n",
        "samples = np.random.uniform(low, high, size)\n",
        "\n",
        "print(samples)"
      ],
      "metadata": {
        "colab": {
          "base_uri": "https://localhost:8080/"
        },
        "id": "9VWPtStv2YWM",
        "outputId": "fbbc8ccf-efc5-4087-8a86-cb9cd4ff3927"
      },
      "execution_count": 8,
      "outputs": [
        {
          "output_type": "stream",
          "name": "stdout",
          "text": [
            "[2.06678022 4.44173262 4.12581722 3.07365941 3.70184615]\n"
          ]
        }
      ]
    },
    {
      "cell_type": "markdown",
      "metadata": {
        "id": "znxPoNGjvj-D"
      },
      "source": [
        "## **Coin toss problem**"
      ]
    },
    {
      "cell_type": "code",
      "source": [
        "import random\n",
        "\n",
        "# randint(0,1) will return 0 or 1\n",
        "value = random.randint(0,1)\n",
        "print(value)"
      ],
      "metadata": {
        "id": "8MR1TbmwbhrH",
        "outputId": "8d40c63c-f52c-4c04-e021-6a53e9e2cb3d",
        "colab": {
          "base_uri": "https://localhost:8080/"
        }
      },
      "execution_count": 30,
      "outputs": [
        {
          "output_type": "stream",
          "name": "stdout",
          "text": [
            "1\n"
          ]
        }
      ]
    },
    {
      "cell_type": "code",
      "execution_count": 11,
      "metadata": {
        "id": "LsBub0EfvtTy",
        "colab": {
          "base_uri": "https://localhost:8080/"
        },
        "outputId": "f14b4c1d-f24e-433c-fe15-11c0b1617588"
      },
      "outputs": [
        {
          "output_type": "stream",
          "name": "stdout",
          "text": [
            "Total flips:  10000\n",
            "Total heads:  4963\n",
            "Total tails:  5037\n",
            "Head probability: 0.4963\n",
            "Tail probability: 0.5037\n"
          ]
        }
      ],
      "source": [
        "import numpy as np\n",
        "\n",
        "# Total flips\n",
        "total_flips = 10000\n",
        "\n",
        "# number of heads appearing\n",
        "total_heads = 0\n",
        "\n",
        "# number of tails appearing\n",
        "total_tails = 0\n",
        "\n",
        "#\n",
        "for i in range(total_flips):\n",
        "  value = random.randint(0,1)\n",
        "  if value == 0:\n",
        "    total_heads += 1\n",
        "  else:\n",
        "    total_tails += 1\n",
        "\n",
        "# Head probability\n",
        "head_probability = total_heads / total_flips\n",
        "\n",
        "# Tail probability\n",
        "tail_probability = total_tails / total_flips\n",
        "\n",
        "print(\"Total flips: \", total_flips)\n",
        "print(\"Total heads: \", total_heads)\n",
        "print(\"Total tails: \", total_tails)\n",
        "print(f\"Head probability: {head_probability}\")\n",
        "print(f\"Tail probability: {tail_probability}\")"
      ]
    },
    {
      "cell_type": "markdown",
      "metadata": {
        "id": "aIphK8ge2T0L"
      },
      "source": [
        "## **The problem of estimating the number π**"
      ]
    },
    {
      "cell_type": "code",
      "source": [
        "import random\n",
        "import math\n",
        "\n",
        "n_loop = 10\n",
        "\n",
        "for i in range(n_loop):\n",
        "  rand_value = random.random() #Return random number between 0.0 and 1.0:\n",
        "  print(rand_value)"
      ],
      "metadata": {
        "colab": {
          "base_uri": "https://localhost:8080/"
        },
        "id": "OrEcAPMvBE8r",
        "outputId": "ec32b933-34f8-4812-e0db-34994fac01f5"
      },
      "execution_count": 14,
      "outputs": [
        {
          "output_type": "stream",
          "name": "stdout",
          "text": [
            "0.9393815421719742\n",
            "0.06646180811184166\n",
            "0.7042836098983765\n",
            "0.8245668697749668\n",
            "0.5529968351849787\n",
            "0.8654768662653554\n",
            "0.979181180208132\n",
            "0.7758951449252521\n",
            "0.4498288767218599\n",
            "0.6626467824088955\n"
          ]
        }
      ]
    },
    {
      "cell_type": "code",
      "execution_count": 15,
      "metadata": {
        "id": "6L4-RrbX9vWI",
        "colab": {
          "base_uri": "https://localhost:8080/"
        },
        "outputId": "8543877b-a7a4-40a0-934b-c1904f9af717"
      },
      "outputs": [
        {
          "output_type": "stream",
          "name": "stdout",
          "text": [
            "pi = 3.141044\n"
          ]
        }
      ],
      "source": [
        "# Total point in square\n",
        "Ns = 1000000\n",
        "\n",
        "# Total point in circle\n",
        "Nc = 0\n",
        "\n",
        "# square edge\n",
        "s = 2\n",
        "# radius r = 1\n",
        "# Point in square have coordinates (x,y) value [-1,1]\n",
        "\n",
        "for i in range(Ns):\n",
        "  x = random.random()*2 - 1\n",
        "  y = random.random()*2 - 1\n",
        "  # distance to center O(0,0)\n",
        "  distance = math.sqrt(x**2 + y**2)\n",
        "  if distance <= 1:\n",
        "    Nc += 1\n",
        "\n",
        "pi = (s**2) * Nc / Ns\n",
        "print(f\"pi = {pi}\")\n"
      ]
    },
    {
      "cell_type": "markdown",
      "metadata": {
        "id": "wHWsqtI6BN4D"
      },
      "source": [
        "## **Gaussian**"
      ]
    },
    {
      "cell_type": "markdown",
      "source": [
        "6.1 Set up Gaussian function with input is a number"
      ],
      "metadata": {
        "id": "91EAaNj9MDN2"
      }
    },
    {
      "cell_type": "code",
      "source": [
        "import math"
      ],
      "metadata": {
        "id": "CZpk-OcKBRXo"
      },
      "execution_count": null,
      "outputs": []
    },
    {
      "cell_type": "code",
      "source": [
        "\n",
        "def gaussian_with_input_number(x, mean = 0, standard_devitation = 1):\n",
        "  result = 1/(standard_devitation * math.sqrt(2*math.pi))*math.exp((-(x -mean)**2)/(2*standard_devitation**2))\n",
        "  return round(result,2)\n"
      ],
      "metadata": {
        "id": "ghhQxPwDQC8R"
      },
      "execution_count": 19,
      "outputs": []
    },
    {
      "cell_type": "markdown",
      "source": [
        "6.2 Set up Gaussian function with input is a list"
      ],
      "metadata": {
        "id": "b7WiXjBwMJ50"
      }
    },
    {
      "cell_type": "code",
      "source": [
        "def gaussian_with_input_list(list, mean = 0, standard_devitation = 1):\n",
        "  result = []\n",
        "  for value in list:\n",
        "    result.append(gaussian_with_input_number(value, mean, standard_devitation))\n",
        "  return result"
      ],
      "metadata": {
        "id": "bnLJMcVvMVol"
      },
      "execution_count": 22,
      "outputs": []
    },
    {
      "cell_type": "markdown",
      "source": [
        "6.3 Set up Gaussian function with input is a numpy array"
      ],
      "metadata": {
        "id": "GahH86f3MW_E"
      }
    },
    {
      "cell_type": "code",
      "source": [
        "def gaussian_with_input_numpy_array(np_arr, mean = 0, standard_devitation = 1):\n",
        "  result = []\n",
        "  for value in np_arr:\n",
        "    result.append(gaussian_with_input_number(value, mean, standard_devitation))\n",
        "  return np.round(np.array(result),2)"
      ],
      "metadata": {
        "id": "pam2rkKhMfBP"
      },
      "execution_count": 25,
      "outputs": []
    },
    {
      "cell_type": "markdown",
      "source": [
        "Testing"
      ],
      "metadata": {
        "id": "LTqKDhAYRigi"
      }
    },
    {
      "cell_type": "code",
      "source": [
        "# q1\n",
        "x = 0.5\n",
        "mean = 1\n",
        "standard_devitation = 2\n",
        "gaussian_with_input_number(x, mean, standard_devitation)"
      ],
      "metadata": {
        "colab": {
          "base_uri": "https://localhost:8080/"
        },
        "id": "DSuF3w3_RhkK",
        "outputId": "a7b67430-9a15-4e22-9216-1d8c807fafbc"
      },
      "execution_count": 20,
      "outputs": [
        {
          "output_type": "execute_result",
          "data": {
            "text/plain": [
              "0.19"
            ]
          },
          "metadata": {},
          "execution_count": 20
        }
      ]
    },
    {
      "cell_type": "code",
      "source": [
        "#q2\n",
        "list = [-3, -0.4, 2]\n",
        "mean = 0\n",
        "standard_devitation = 2\n",
        "gaussian_with_input_list(list, mean, standard_devitation)"
      ],
      "metadata": {
        "colab": {
          "base_uri": "https://localhost:8080/"
        },
        "id": "bcCDhkHoTAyy",
        "outputId": "d13cd727-2d1e-427e-9d78-43dc43966a2e"
      },
      "execution_count": 23,
      "outputs": [
        {
          "output_type": "execute_result",
          "data": {
            "text/plain": [
              "[0.06, 0.2, 0.12]"
            ]
          },
          "metadata": {},
          "execution_count": 23
        }
      ]
    },
    {
      "cell_type": "code",
      "source": [
        "#q3\n",
        "np_arr = np.array([-0.1, 0.01, -3])\n",
        "mean = 0\n",
        "standard_devitation = 3\n",
        "gaussian_with_input_numpy_array(np_arr, mean, standard_devitation)"
      ],
      "metadata": {
        "colab": {
          "base_uri": "https://localhost:8080/"
        },
        "id": "LCxIAlGDTS9o",
        "outputId": "c9b92eab-1c26-44c3-d1a5-67517892c133"
      },
      "execution_count": 26,
      "outputs": [
        {
          "output_type": "execute_result",
          "data": {
            "text/plain": [
              "array([0.13, 0.13, 0.08])"
            ]
          },
          "metadata": {},
          "execution_count": 26
        }
      ]
    },
    {
      "cell_type": "markdown",
      "metadata": {
        "id": "b3mvvWVFBRuI"
      },
      "source": [
        "## **Classical Probability**"
      ]
    },
    {
      "cell_type": "code",
      "source": [
        "import random\n",
        "\n",
        "# start num\n",
        "start_test = 1\n",
        "#stop num\n",
        "stop_test = 5\n",
        "# will return num in range start stop\n",
        "values_test = random.randint(start_test,stop_test)\n",
        "print(values_test)\n"
      ],
      "metadata": {
        "id": "Y2csMTvIbuXt",
        "outputId": "a9062a23-1053-4b1c-c316-c3cd6f1016a7",
        "colab": {
          "base_uri": "https://localhost:8080/"
        }
      },
      "execution_count": 34,
      "outputs": [
        {
          "output_type": "stream",
          "name": "stdout",
          "text": [
            "4\n"
          ]
        }
      ]
    },
    {
      "cell_type": "code",
      "source": [
        "seed_test = 0\n",
        "print(random.seed(seed_test))"
      ],
      "metadata": {
        "id": "IqGYSf8IcEwF",
        "outputId": "e90cc856-d65c-4a8b-db5f-80c2c8670acc",
        "colab": {
          "base_uri": "https://localhost:8080/"
        }
      },
      "execution_count": 38,
      "outputs": [
        {
          "output_type": "stream",
          "name": "stdout",
          "text": [
            "None\n"
          ]
        }
      ]
    },
    {
      "cell_type": "code",
      "source": [
        "def generate_dice_rolls(n, seed = 0):\n",
        "  \"\"\" Generate a list of dice rolls for an n- sided die , with a fixed seed for reproducibility . \"\"\"\n",
        "  # start num\n",
        "  start = 1\n",
        "  #stop num\n",
        "  stop = 6\n",
        "  random.seed(seed)\n",
        "  return [random.randint(start,stop)  for _ in range(n)]"
      ],
      "metadata": {
        "id": "yIigqyVAazit"
      },
      "execution_count": 54,
      "outputs": []
    },
    {
      "cell_type": "code",
      "source": [
        "def count_occurrences(dice_rolls, number):\n",
        "  \"\"\" Count the occurrences of a specific number in the list of dice rolls .\"\"\"\n",
        "  count = 0\n",
        "  for roll in dice_rolls:\n",
        "    if roll == number:\n",
        "      count += 1\n",
        "  return count\n"
      ],
      "metadata": {
        "id": "OsUaLHb3dbj9"
      },
      "execution_count": 55,
      "outputs": []
    },
    {
      "cell_type": "code",
      "source": [
        "def calculate_probability(dice_rolls, number):\n",
        "  \"\"\" Calculate the probability of a specific number based on the dice rolls .\"\"\"\n",
        "  return count_occurrences(dice_rolls, number) / len(dice_rolls)\n"
      ],
      "metadata": {
        "id": "mYHg80KNBSCI"
      },
      "execution_count": 57,
      "outputs": []
    },
    {
      "cell_type": "code",
      "source": [
        "number_of_interest = 6\n",
        "number_of_dice_rolls = 1000\n",
        "seed = 0\n",
        "dice_rolls = generate_dice_rolls(number_of_dice_rolls, seed)\n",
        "print(f\"dice_rolls: {dice_rolls}\")\n",
        "occurrences = count_occurrences(dice_rolls, number_of_interest)\n",
        "print(f\"The occurrences of {number_of_interest} is: {occurrences}\")\n",
        "probability = calculate_probability(dice_rolls, number_of_interest)\n",
        "print(f\"The probability of {number_of_interest} is: {probability}\")"
      ],
      "metadata": {
        "id": "Xken5ufteM7W",
        "outputId": "d562336a-92d4-4c0c-ed93-e6116bd36326",
        "colab": {
          "base_uri": "https://localhost:8080/"
        }
      },
      "execution_count": 58,
      "outputs": [
        {
          "output_type": "stream",
          "name": "stdout",
          "text": [
            "dice_rolls: [4, 4, 1, 3, 5, 4, 4, 3, 4, 3, 5, 2, 5, 2, 3, 2, 1, 5, 3, 5, 6, 5, 2, 3, 1, 6, 1, 6, 3, 4, 5, 1, 3, 4, 3, 5, 6, 2, 5, 4, 4, 5, 3, 1, 5, 1, 1, 6, 4, 6, 6, 6, 1, 5, 4, 3, 2, 6, 3, 6, 1, 2, 5, 2, 2, 2, 5, 4, 1, 1, 3, 5, 4, 1, 3, 5, 3, 6, 1, 5, 3, 5, 2, 5, 5, 5, 3, 4, 1, 5, 4, 3, 5, 2, 3, 2, 2, 2, 1, 5, 6, 3, 4, 1, 1, 6, 2, 2, 1, 1, 6, 5, 6, 4, 6, 5, 3, 5, 2, 2, 6, 5, 4, 5, 3, 4, 4, 6, 6, 6, 3, 1, 3, 5, 1, 4, 5, 6, 3, 2, 2, 1, 6, 3, 1, 6, 2, 3, 2, 3, 4, 1, 1, 2, 6, 2, 1, 5, 6, 5, 5, 6, 1, 1, 1, 6, 2, 5, 5, 1, 4, 1, 3, 1, 1, 5, 1, 2, 2, 6, 1, 4, 2, 6, 1, 6, 1, 5, 4, 5, 1, 3, 1, 2, 1, 6, 3, 3, 4, 2, 1, 5, 4, 1, 5, 1, 6, 4, 2, 3, 3, 6, 4, 5, 2, 6, 6, 2, 1, 6, 2, 2, 3, 5, 3, 1, 5, 4, 6, 2, 1, 4, 6, 4, 5, 5, 3, 6, 3, 4, 6, 3, 2, 5, 6, 1, 4, 6, 1, 3, 6, 1, 5, 3, 2, 2, 4, 3, 5, 3, 6, 3, 5, 6, 5, 2, 6, 3, 4, 6, 4, 6, 1, 1, 5, 2, 6, 3, 2, 2, 2, 6, 4, 4, 6, 6, 5, 4, 1, 4, 6, 5, 4, 6, 6, 1, 2, 4, 1, 3, 6, 2, 4, 5, 4, 5, 5, 1, 1, 4, 3, 3, 4, 1, 4, 2, 5, 6, 1, 6, 2, 1, 4, 6, 4, 3, 1, 2, 1, 6, 1, 6, 5, 5, 1, 2, 1, 5, 6, 2, 3, 3, 6, 2, 1, 4, 4, 6, 1, 1, 3, 4, 1, 3, 2, 6, 5, 6, 6, 3, 1, 2, 3, 1, 1, 1, 2, 6, 3, 5, 3, 3, 5, 1, 6, 6, 5, 6, 4, 6, 6, 4, 6, 4, 3, 5, 2, 2, 4, 5, 3, 1, 2, 2, 3, 3, 3, 3, 6, 1, 3, 5, 1, 1, 3, 2, 2, 5, 3, 3, 4, 5, 2, 3, 1, 4, 6, 2, 1, 3, 2, 5, 6, 1, 3, 4, 3, 3, 4, 1, 1, 5, 4, 4, 3, 3, 1, 4, 1, 6, 4, 4, 1, 3, 3, 6, 6, 2, 2, 6, 5, 4, 6, 1, 1, 1, 2, 6, 2, 1, 4, 1, 1, 4, 5, 5, 3, 4, 4, 5, 6, 6, 2, 4, 1, 3, 2, 3, 5, 2, 4, 2, 3, 1, 1, 6, 1, 5, 4, 6, 2, 1, 4, 4, 3, 2, 6, 1, 2, 5, 2, 1, 2, 4, 4, 3, 5, 2, 1, 5, 4, 2, 5, 4, 6, 6, 4, 5, 4, 6, 3, 4, 4, 6, 6, 2, 5, 5, 2, 1, 3, 6, 6, 3, 3, 1, 5, 2, 3, 5, 2, 4, 5, 3, 6, 6, 4, 1, 1, 5, 1, 1, 2, 2, 1, 3, 1, 4, 3, 2, 2, 6, 4, 3, 5, 4, 5, 5, 1, 5, 1, 6, 5, 5, 1, 6, 4, 2, 3, 5, 5, 4, 4, 4, 5, 5, 2, 1, 6, 1, 6, 2, 3, 5, 5, 3, 3, 1, 4, 3, 3, 4, 4, 4, 1, 2, 6, 2, 2, 3, 6, 3, 1, 1, 4, 4, 2, 4, 5, 6, 1, 6, 6, 2, 3, 4, 1, 5, 4, 4, 4, 1, 1, 4, 2, 1, 1, 5, 5, 2, 6, 3, 1, 6, 5, 6, 3, 2, 4, 4, 1, 1, 5, 6, 4, 5, 6, 3, 6, 1, 6, 6, 5, 3, 2, 4, 3, 6, 6, 1, 5, 2, 1, 4, 4, 3, 2, 4, 3, 6, 1, 1, 1, 4, 3, 1, 5, 6, 5, 5, 2, 2, 1, 6, 5, 6, 5, 4, 5, 3, 1, 2, 4, 5, 4, 1, 1, 4, 1, 1, 4, 2, 6, 1, 4, 4, 6, 4, 1, 4, 3, 6, 3, 1, 3, 1, 1, 3, 6, 1, 3, 3, 2, 1, 2, 3, 1, 5, 2, 2, 1, 2, 6, 6, 6, 1, 6, 1, 3, 3, 6, 1, 5, 2, 2, 2, 4, 1, 4, 3, 6, 3, 2, 1, 2, 3, 3, 4, 3, 3, 5, 6, 3, 2, 5, 1, 1, 5, 5, 3, 2, 4, 2, 2, 2, 3, 5, 2, 2, 2, 3, 3, 4, 6, 1, 2, 5, 1, 4, 1, 6, 1, 2, 4, 3, 5, 4, 6, 2, 5, 4, 3, 6, 3, 1, 2, 4, 6, 3, 6, 5, 1, 4, 4, 1, 4, 6, 3, 4, 2, 3, 3, 4, 1, 2, 1, 3, 1, 5, 5, 6, 2, 6, 4, 4, 2, 4, 4, 2, 2, 4, 3, 5, 2, 3, 4, 6, 6, 1, 4, 2, 3, 1, 6, 4, 5, 4, 1, 2, 3, 1, 6, 3, 5, 5, 2, 4, 6, 4, 1, 6, 4, 2, 5, 4, 3, 6, 1, 1, 3, 6, 1, 1, 3, 4, 5, 5, 6, 4, 4, 1, 6, 3, 3, 3, 6, 2, 5, 1, 1, 1, 3, 3, 5, 3, 1, 5, 2, 2, 1, 4, 3, 3, 5, 2, 5, 5, 6, 2, 5, 1, 4, 6, 5, 4, 6, 3, 3, 4, 3, 5, 6, 2, 2, 1, 6, 1, 4, 4, 5, 4, 2, 5, 6, 3, 3, 6, 4, 6, 4, 2, 4, 4, 6, 5, 3, 4, 6, 1, 4, 3, 2, 6, 4, 1, 5, 2, 1, 3, 4, 4, 1, 5, 1, 6, 1, 6, 6, 6, 4, 1, 3, 1, 1, 5, 1, 3, 6, 6, 3]\n",
            "The occurrences of 6 is: 169\n",
            "The probability of 6 is: 0.169\n"
          ]
        }
      ]
    },
    {
      "cell_type": "markdown",
      "metadata": {
        "id": "SYe2myk0BQ2-"
      },
      "source": [
        "## **Basic**"
      ]
    },
    {
      "cell_type": "code",
      "source": [],
      "metadata": {
        "id": "y6Xr5CAFBTrA"
      },
      "execution_count": null,
      "outputs": []
    }
  ],
  "metadata": {
    "colab": {
      "provenance": [],
      "include_colab_link": true
    },
    "kernelspec": {
      "display_name": "Python 3",
      "name": "python3"
    },
    "language_info": {
      "name": "python"
    }
  },
  "nbformat": 4,
  "nbformat_minor": 0
}