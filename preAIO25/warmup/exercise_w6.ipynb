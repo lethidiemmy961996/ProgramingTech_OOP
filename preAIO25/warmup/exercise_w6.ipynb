{
  "cells": [
    {
      "cell_type": "markdown",
      "metadata": {
        "id": "view-in-github",
        "colab_type": "text"
      },
      "source": [
        "<a href=\"https://colab.research.google.com/github/mylethidiem/ProgramingTech/blob/main/preAIO25/warmup/exercise_w6.ipynb\" target=\"_parent\"><img src=\"https://colab.research.google.com/assets/colab-badge.svg\" alt=\"Open In Colab\"/></a>"
      ]
    },
    {
      "cell_type": "markdown",
      "metadata": {
        "id": "epqIX4k0VSAA"
      },
      "source": [
        "# **W6**"
      ]
    },
    {
      "cell_type": "markdown",
      "metadata": {
        "id": "8ARGaVTG08pf"
      },
      "source": [
        "## **Simple Linear Regression**"
      ]
    },
    {
      "cell_type": "markdown",
      "metadata": {
        "id": "GQ9vzXXv9_Sz"
      },
      "source": [
        "#### Basic concept"
      ]
    },
    {
      "cell_type": "markdown",
      "metadata": {
        "id": "PtNfiTTq9_S0"
      },
      "source": [
        " Introduce to data"
      ]
    },
    {
      "cell_type": "markdown",
      "metadata": {
        "id": "rRjg2TP69_S0"
      },
      "source": [
        " prepare data"
      ]
    },
    {
      "cell_type": "code",
      "execution_count": 149,
      "metadata": {
        "colab": {
          "base_uri": "https://localhost:8080/"
        },
        "id": "YbloDbvO9_S1",
        "outputId": "3c10c4f5-94e7-4bf1-992b-b8c3bc20a38b"
      },
      "outputs": [
        {
          "output_type": "stream",
          "name": "stdout",
          "text": [
            "Downloading...\n",
            "From: https://drive.google.com/uc?id=1pG8W4Bwz5KSWND-fydluuwocVtys96pq\n",
            "To: /content/advertising.csv\n",
            "\r  0% 0.00/4.06k [00:00<?, ?B/s]\r100% 4.06k/4.06k [00:00<00:00, 9.77MB/s]\n",
            "      TV  Radio  Newspaper  Sales\n",
            "0  230.1   37.8       69.2   22.1\n",
            "1   44.5   39.3       45.1   10.4\n",
            "2   17.2   45.9       69.3   12.0\n",
            "3  151.5   41.3       58.5   16.5\n",
            "4  180.8   10.8       58.4   17.9\n",
            "        TV  Radio  Newspaper  Sales\n",
            "195   38.2    3.7       13.8    7.6\n",
            "196   94.2    4.9        8.1   14.0\n",
            "197  177.0    9.3        6.4   14.8\n",
            "198  283.6   42.0       66.2   25.5\n",
            "199  232.1    8.6        8.7   18.4\n",
            "       TV  Radio  Newspaper  Sales\n",
            "10   66.1    5.8       24.2   12.6\n",
            "11  214.7   24.0        4.0   17.4\n",
            "12   23.8   35.1       65.9    9.2\n",
            "13   97.5    7.6        7.2   13.7\n",
            "14  204.1   32.9       46.0   19.0\n"
          ]
        }
      ],
      "source": [
        "import pandas as pd\n",
        "\n",
        "# Download the file if it's not already present.  Replace with your actual file path if needed\n",
        "!gdown 1pG8W4Bwz5KSWND-fydluuwocVtys96pq\n",
        "\n",
        "# Load the data into a pandas DataFrame. Replace 'advertising.csv' with the actual filename if needed\n",
        "try:\n",
        "    df = pd.read_csv('advertising.csv')  # Assumes the file is named advertising.csv\n",
        "    # Show the first 5 rows (head) of the DataFrame\n",
        "    print(df.head())\n",
        "\n",
        "    # Show the last 5 rows (tail) of the DataFrame\n",
        "    print(df.tail())\n",
        "\n",
        "    # Show some specific rows (e.g., rows 10 to 14)\n",
        "    print(df.iloc[10:15])\n",
        "\n",
        "except FileNotFoundError:\n",
        "    print(\"Error: 'advertising.csv' not found. Please make sure the file is in the current directory or provide the correct path.\")\n",
        "except pd.errors.EmptyDataError:\n",
        "    print(\"Error: 'advertising.csv' appears to be empty.\")\n",
        "except pd.errors.ParserError:\n",
        "    print(\"Error: Could not parse 'advertising.csv'. Please check its format.\")"
      ]
    },
    {
      "cell_type": "code",
      "execution_count": 150,
      "metadata": {
        "id": "MB_AYuAi9_S1"
      },
      "outputs": [],
      "source": [
        "#dataset\n",
        "import numpy as np\n",
        "import matplotlib.pyplot as plt\n",
        "import random\n",
        "\n",
        "def get_column(data, col_index):\n",
        "  return [row[col_index] for row in data]\n",
        "\n",
        "def prepare_data(file_name_dataset):\n",
        "  data = np.genfromtxt(file_name_dataset, delimiter=',', skip_header=1)\n",
        "  tv_data = get_column(data, 0)\n",
        "  radio_data = get_column(data, 1)\n",
        "  newspaper_data = get_column(data, 2)\n",
        "  sales_data = get_column(data, 3)\n",
        "\n",
        "  # build X input and y output for training\n",
        "  X = [tv_data, radio_data, newspaper_data]\n",
        "  y = sales_data\n",
        "\n",
        "  return X,y"
      ]
    },
    {
      "cell_type": "code",
      "source": [
        "# question 1\n",
        "X, y = prepare_data('advertising.csv')\n",
        "data_list = [sum(X[0][:5]), sum(X[1][:5]), sum(X[2][:5]), sum(y[:5])]\n",
        "print(data_list)"
      ],
      "metadata": {
        "colab": {
          "base_uri": "https://localhost:8080/"
        },
        "id": "9wSKIsQ8AKK2",
        "outputId": "fc9ed8e9-8508-4296-b73f-861d0b24f2c4"
      },
      "execution_count": 151,
      "outputs": [
        {
          "output_type": "stream",
          "name": "stdout",
          "text": [
            "[624.1, 175.10000000000002, 300.5, 78.9]\n"
          ]
        }
      ]
    },
    {
      "cell_type": "markdown",
      "metadata": {
        "id": "tI7hQad_9_S2"
      },
      "source": [
        "Training"
      ]
    },
    {
      "cell_type": "code",
      "execution_count": 152,
      "metadata": {
        "id": "xaHCt-he9_S2"
      },
      "outputs": [],
      "source": [
        "\n",
        "# initialize paramaters\n",
        "def initialize_params():\n",
        "  w1 = random.gauss(mu=0.0, sigma=0.01)\n",
        "  w2 = random.gauss(mu=0.0, sigma=0.01)\n",
        "  w3 = random.gauss(mu=0.0, sigma=0.01)\n",
        "  b = 0\n",
        "  return w1, w2, w3, b"
      ]
    },
    {
      "cell_type": "code",
      "source": [
        "def initialize_params_hard_code():\n",
        "  w1, w2, w3, b = (0.016992259082509283, 0.0070783670518262355, -0.002307860847821344, 0)\n",
        "  return w1, w2, w3, b\n"
      ],
      "metadata": {
        "id": "ijvi-cEqVsje"
      },
      "execution_count": 153,
      "outputs": []
    },
    {
      "cell_type": "code",
      "execution_count": 154,
      "metadata": {
        "id": "Gkx5uybo9_S2"
      },
      "outputs": [],
      "source": [
        "# predict values\n",
        "def predict(w1, w2, w3, b, x1, x2, x3):\n",
        "  return w1*x1 + w2*x2 + w3*x3 + b"
      ]
    },
    {
      "cell_type": "code",
      "execution_count": 155,
      "metadata": {
        "id": "ABRO6wpG9_S2"
      },
      "outputs": [],
      "source": [
        "# compute loss\n",
        "def compute_loss(y_hat, y):\n",
        "  return (y_hat - y)**2"
      ]
    },
    {
      "cell_type": "code",
      "execution_count": 156,
      "metadata": {
        "id": "wa4PTRj39_S2"
      },
      "outputs": [],
      "source": [
        "# compute gradient\n",
        "def compute_gradient_wi(y_hat, y, xi):\n",
        "  dwi = 2*(y_hat - y)*xi\n",
        "  return dwi"
      ]
    },
    {
      "cell_type": "code",
      "source": [
        "def compute_gradient_b(y_hat, y):\n",
        "  db = 2*(y_hat - y)\n",
        "  return db"
      ],
      "metadata": {
        "id": "RMYUpFGyaG-c"
      },
      "execution_count": 157,
      "outputs": []
    },
    {
      "cell_type": "code",
      "source": [
        "def compute_gradient(y_hat, y, x1, x2, x3):\n",
        "  dw1 = compute_gradient_wi(y_hat, y, x1)\n",
        "  dw2 = compute_gradient_wi(y_hat, y, x2)\n",
        "  dw3 = compute_gradient_wi(y_hat, y, x3)\n",
        "\n",
        "  db = compute_gradient_b(y_hat, y)\n",
        "  return dw1, dw2, dw3, db"
      ],
      "metadata": {
        "id": "f0XeHFeVZ3hD"
      },
      "execution_count": 158,
      "outputs": []
    },
    {
      "cell_type": "code",
      "source": [
        "def update_params_wi(wi, dwi,lr):\n",
        "  wi = wi - lr*dwi\n",
        "  return wi\n",
        "\n",
        "def update_params_b(b, db, lr):\n",
        "  b = b - lr*db\n",
        "  return b"
      ],
      "metadata": {
        "id": "BXLV5sjHbFzn"
      },
      "execution_count": 159,
      "outputs": []
    },
    {
      "cell_type": "code",
      "execution_count": 160,
      "metadata": {
        "id": "2N2S2_Sv9_S3"
      },
      "outputs": [],
      "source": [
        "# update wights, bias\n",
        "def update_params(w1, w2, w3, b, dw1, dw2, dw3, db, lr):\n",
        "  w1 = update_params_wi(w1, dw1, lr)\n",
        "  w2 = update_params_wi(w2, dw2, lr)\n",
        "  w3 = update_params_wi(w3, dw3, lr)\n",
        "  b = update_params_b(b, db, lr)\n",
        "  return w1, w2, w3, b"
      ]
    },
    {
      "cell_type": "code",
      "execution_count": 161,
      "metadata": {
        "id": "ptCBOiTM9_S3"
      },
      "outputs": [],
      "source": [
        "# implement linear regression\n",
        "def implement_linear_regression(X_data, y_data, epoch_max=50, lr=1e-5):\n",
        "  #initialize params\n",
        "  losses = []\n",
        "  w1, w2, w3, b = initialize_params()\n",
        "\n",
        "  #train N sameple with `eporch` times\n",
        "  N = len(y_data)\n",
        "  for epoch in range(epoch_max):\n",
        "    for i in range(N):\n",
        "      #first get the input features\n",
        "      x1 = X_data[0][i] #tv\n",
        "      X2 = X_data[1][i] #radio\n",
        "      X3 = X_data[2][i] #newspaper\n",
        "      y = y_data[i] #output sales\n",
        "\n",
        "      #predict\n",
        "      y_hat = predict(w1, w2, w3, b, x1, X2, X3)\n",
        "\n",
        "      #compute loss\n",
        "      loss = compute_loss(y_hat, y)\n",
        "\n",
        "      #compute gradient\n",
        "      dw1, dw2, dw3, db = compute_gradient(y_hat, y, x1, X2, X3)\n",
        "\n",
        "      #update params\n",
        "      w1, w2, w3, b = update_params(w1, w2, w3, b, dw1, dw2, dw3, db, lr)\n",
        "\n",
        "      # logging the loss\n",
        "      losses.append(loss)\n",
        "\n",
        "  return w1, w2, w3, b, losses\n"
      ]
    },
    {
      "cell_type": "code",
      "execution_count": 162,
      "metadata": {
        "colab": {
          "base_uri": "https://localhost:8080/"
        },
        "id": "oSVgdf2o9_S3",
        "outputId": "a53c87d8-1c67-4bd3-fc77-fc1d49b9c6c7"
      },
      "outputs": [
        {
          "output_type": "stream",
          "name": "stdout",
          "text": [
            "1.0\n"
          ]
        }
      ],
      "source": [
        "#question 2\n",
        "y_hat = predict(w1=0, w2=0.5, w3=0, b=0.5, x1=1, x2=1,x3=1)\n",
        "print(y_hat)"
      ]
    },
    {
      "cell_type": "code",
      "source": [
        "l = compute_loss(y_hat=1, y=0.5)\n",
        "print(l)"
      ],
      "metadata": {
        "colab": {
          "base_uri": "https://localhost:8080/"
        },
        "id": "tC7pfACvZEzQ",
        "outputId": "5abf8c77-032a-4fca-d2db-392ae249faf7"
      },
      "execution_count": 163,
      "outputs": [
        {
          "output_type": "stream",
          "name": "stdout",
          "text": [
            "0.25\n"
          ]
        }
      ]
    },
    {
      "cell_type": "code",
      "source": [
        "#question 4\n",
        "#loss function\n",
        "g_wi = compute_gradient_wi(y_hat=0.5, y=1, xi=1)\n",
        "print(g_wi)\n",
        "\n",
        "#question 5\n",
        "g_b = compute_gradient_b(y_hat=0.5, y=2)\n",
        "print(g_b)\n",
        "\n",
        "#question 6\n",
        "after_wi = update_params_wi(wi=1, dwi=-0.5, lr=1e-5)\n",
        "print(after_wi)\n",
        "\n",
        "#question 7\n",
        "after_b = update_params_b(b=0.5, db=-1, lr=1e-5)\n",
        "print(after_b)\n",
        "\n"
      ],
      "metadata": {
        "colab": {
          "base_uri": "https://localhost:8080/"
        },
        "id": "taPpUkysZMcU",
        "outputId": "e4501303-5b2e-4354-9fa1-566480295438"
      },
      "execution_count": 164,
      "outputs": [
        {
          "output_type": "stream",
          "name": "stdout",
          "text": [
            "-1.0\n",
            "-3.0\n",
            "1.000005\n",
            "0.50001\n"
          ]
        }
      ]
    },
    {
      "cell_type": "code",
      "source": [
        "#question 8\n",
        "X, y = prepare_data('advertising.csv')\n",
        "w1, w2, w3, b, losses = implement_linear_regression(X, y)\n",
        "print(w1, w2, w3, b)\n",
        "print(round(w1,3), round(w2,3), round(w3,3), round(b,3))\n",
        "\n",
        "#question 9\n",
        "# give new data\n",
        "tv = 19.2\n",
        "radio = 35.9\n",
        "newspaper = 51.3\n",
        "\n",
        "X,y = prepare_data('advertising.csv')\n",
        "(w1,w2,w3,b,losses) = implement_linear_regression(X,y)\n",
        "sales = predict(w1, w2, w3, b, tv, radio, newspaper)\n",
        "print(f\"predict sales is {sales}\")\n",
        "print(round(sales,2))"
      ],
      "metadata": {
        "id": "le_-dUZNdUkP",
        "outputId": "d6a26c75-2703-48ad-dee6-b2c5e3a0a96f",
        "colab": {
          "base_uri": "https://localhost:8080/"
        }
      },
      "execution_count": 167,
      "outputs": [
        {
          "output_type": "stream",
          "name": "stdout",
          "text": [
            "0.07405970308669252 0.15917324806202413 0.017561038061615814 0.1392751783308075\n",
            "0.074 0.159 0.018 0.139\n",
            "predict sales is 8.176424760015706\n",
            "8.18\n"
          ]
        }
      ]
    }
  ],
  "metadata": {
    "colab": {
      "provenance": [],
      "include_colab_link": true
    },
    "kernelspec": {
      "display_name": "Python 3",
      "name": "python3"
    },
    "language_info": {
      "name": "python"
    }
  },
  "nbformat": 4,
  "nbformat_minor": 0
}