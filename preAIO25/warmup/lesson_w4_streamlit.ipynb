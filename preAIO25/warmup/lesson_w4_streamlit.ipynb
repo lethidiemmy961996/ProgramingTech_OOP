{
  "cells": [
    {
      "cell_type": "markdown",
      "metadata": {
        "id": "view-in-github",
        "colab_type": "text"
      },
      "source": [
        "<a href=\"https://colab.research.google.com/github/mylethidiem/ProgramingTech/blob/main/preAIO25/warmup/lesson_w4_streamlit.ipynb\" target=\"_parent\"><img src=\"https://colab.research.google.com/assets/colab-badge.svg\" alt=\"Open In Colab\"/></a>"
      ]
    },
    {
      "cell_type": "markdown",
      "source": [
        "#**Count**"
      ],
      "metadata": {
        "id": "obS4dXinp7UN"
      }
    },
    {
      "cell_type": "code",
      "execution_count": 1,
      "metadata": {
        "id": "XqnpspqpbcIV",
        "colab": {
          "base_uri": "https://localhost:8080/"
        },
        "outputId": "b8916a6b-1ce2-42cd-9726-c0d82aebd0bb"
      },
      "outputs": [
        {
          "output_type": "stream",
          "name": "stdout",
          "text": [
            "The number 5 appears 4 times in the list.\n"
          ]
        }
      ],
      "source": [
        "# prompt: create a list data and count number 5 in this list\n",
        "\n",
        "data = [1, 2, 3, 4, 5, 5, 6, 7, 5, 8, 9, 10, 5]\n",
        "count_of_5 = data.count(5)\n",
        "print(f\"The number 5 appears {count_of_5} times in the list.\")"
      ]
    },
    {
      "cell_type": "markdown",
      "source": [
        "#**Basic streamlit**"
      ],
      "metadata": {
        "id": "luhHxDNYqZQx"
      }
    },
    {
      "cell_type": "code",
      "execution_count": 2,
      "metadata": {
        "id": "LsBub0EfvtTy",
        "colab": {
          "base_uri": "https://localhost:8080/"
        },
        "outputId": "8a547cc0-7b10-424b-e4c5-8c399872969a"
      },
      "outputs": [
        {
          "output_type": "stream",
          "name": "stdout",
          "text": [
            "\u001b[2K     \u001b[90m━━━━━━━━━━━━━━━━━━━━━━━━━━━━━━━━━━━━━━━━\u001b[0m \u001b[32m44.3/44.3 kB\u001b[0m \u001b[31m2.3 MB/s\u001b[0m eta \u001b[36m0:00:00\u001b[0m\n",
            "\u001b[2K   \u001b[90m━━━━━━━━━━━━━━━━━━━━━━━━━━━━━━━━━━━━━━━━\u001b[0m \u001b[32m9.1/9.1 MB\u001b[0m \u001b[31m62.4 MB/s\u001b[0m eta \u001b[36m0:00:00\u001b[0m\n",
            "\u001b[2K   \u001b[90m━━━━━━━━━━━━━━━━━━━━━━━━━━━━━━━━━━━━━━━━\u001b[0m \u001b[32m6.9/6.9 MB\u001b[0m \u001b[31m94.0 MB/s\u001b[0m eta \u001b[36m0:00:00\u001b[0m\n",
            "\u001b[2K   \u001b[90m━━━━━━━━━━━━━━━━━━━━━━━━━━━━━━━━━━━━━━━━\u001b[0m \u001b[32m79.1/79.1 kB\u001b[0m \u001b[31m5.3 MB/s\u001b[0m eta \u001b[36m0:00:00\u001b[0m\n",
            "\u001b[?25h"
          ]
        }
      ],
      "source": [
        "# q: quiet\n",
        "!pip install -q streamlit==1.41.1"
      ]
    },
    {
      "cell_type": "code",
      "execution_count": 3,
      "metadata": {
        "colab": {
          "base_uri": "https://localhost:8080/"
        },
        "id": "JG3k13yo2S4K",
        "outputId": "bc5c733f-36ea-4c36-a8d4-182abeedb6b8"
      },
      "outputs": [
        {
          "output_type": "stream",
          "name": "stdout",
          "text": [
            "{\"id\":\"banhmuytunnelpassword\",\"port\":36953,\"max_conn_count\":10,\"url\":\"https://banhmuytunnelpassword.loca.lt\"}"
          ]
        }
      ],
      "source": [
        "# get your password\n",
        "!wget -q -O - https://loca.lt/banhmuytunnelpassword\n",
        "\n",
        "#!curl  https://loca.lt/banhmuytunnelpassword"
      ]
    },
    {
      "cell_type": "code",
      "execution_count": 4,
      "metadata": {
        "id": "kxeNVvel2QHC",
        "colab": {
          "base_uri": "https://localhost:8080/"
        },
        "outputId": "4101286e-ca79-4198-f55e-f8f474f56e31"
      },
      "outputs": [
        {
          "output_type": "stream",
          "name": "stdout",
          "text": [
            "Writing demo.py\n"
          ]
        }
      ],
      "source": [
        "# prepare file demo.py 34.48.95.149:8501\n",
        "%%writefile demo.py\n",
        "import streamlit as st\n",
        "st.write(\"Hello World\")"
      ]
    },
    {
      "cell_type": "code",
      "source": [
        "# overwriting demo.py\n",
        "# run streamlit through port:8501\n",
        "!streamlit run demo.py & npx localtunnel --port 8501"
      ],
      "metadata": {
        "colab": {
          "base_uri": "https://localhost:8080/"
        },
        "id": "Xc4hn_FprZ8s",
        "outputId": "89583fd4-68b5-4a0e-dbd0-75748ebf57d5"
      },
      "execution_count": 5,
      "outputs": [
        {
          "output_type": "stream",
          "name": "stdout",
          "text": [
            "\u001b[1G\u001b[0K⠙\n",
            "Collecting usage statistics. To deactivate, set browser.gatherUsageStats to false.\n",
            "\u001b[0m\n",
            "\u001b[1G\u001b[0K⠹\u001b[1G\u001b[0K⠸\u001b[1G\u001b[0K⠼\u001b[1G\u001b[0K⠴\u001b[1G\u001b[0K⠦\u001b[1G\u001b[0K⠧\u001b[1G\u001b[0K⠇\u001b[1G\u001b[0K\u001b[1G\u001b[0JNeed to install the following packages:\n",
            "localtunnel@2.0.2\n",
            "Ok to proceed? (y) \u001b[20G\u001b[0m\n",
            "\u001b[34m\u001b[1m  You can now view your Streamlit app in your browser.\u001b[0m\n",
            "\u001b[0m\n",
            "\u001b[34m  Local URL: \u001b[0m\u001b[1mhttp://localhost:8501\u001b[0m\n",
            "\u001b[34m  Network URL: \u001b[0m\u001b[1mhttp://172.28.0.12:8501\u001b[0m\n",
            "\u001b[34m  External URL: \u001b[0m\u001b[1mhttp://35.197.9.24:8501\u001b[0m\n",
            "\u001b[0m\n",
            "\u001b[34m  Stopping...\u001b[0m\n",
            "^C\n"
          ]
        }
      ]
    },
    {
      "cell_type": "markdown",
      "source": [
        "# Creating base on streamlit0"
      ],
      "metadata": {
        "id": "zPS5tFvfzZAY"
      }
    },
    {
      "cell_type": "code",
      "source": [
        "#download image\n",
        "!gdown 1Wusjqpr7xmSl5muHPkyBTpOCVtJI-avQ"
      ],
      "metadata": {
        "colab": {
          "base_uri": "https://localhost:8080/"
        },
        "id": "lOi9XY8brupu",
        "outputId": "9092ddfe-33ca-451c-a98e-9905fffc2ce1"
      },
      "execution_count": 6,
      "outputs": [
        {
          "output_type": "stream",
          "name": "stdout",
          "text": [
            "Downloading...\n",
            "From: https://drive.google.com/uc?id=1Wusjqpr7xmSl5muHPkyBTpOCVtJI-avQ\n",
            "To: /content/Theme.jpeg\n",
            "\r  0% 0.00/161k [00:00<?, ?B/s]\r100% 161k/161k [00:00<00:00, 66.7MB/s]\n"
          ]
        }
      ]
    },
    {
      "cell_type": "code",
      "source": [
        "#create basic app.py\n",
        "%%writefile app.py\n",
        "import streamlit as st\n",
        "\n",
        "# Text elements\n",
        "st.title(\"1) Basic text elements\")\n",
        "st.header(\"Comfortable and fun\")\n",
        "st.subheader(\"Keep moving forward\")\n",
        "st.text(\"patience, perseverance\")\n",
        "\n",
        "# Display string formatted as Markdown\n",
        "st.markdown(\"2) Display string formatted as markdown\")\n",
        "st.markdown(\"Streamlit is **_really_ cool** :+1:\")\n",
        "st.markdown(\"I'm study AI :red[colored red], and this is **:blue[colored]** and bold!\")\n",
        "st.markdown(\"\"\"\n",
        "Important: remember learning english!\n",
        " 1. Machine Learning\n",
        " 2. Deep Learning\n",
        "\"\"\")\n",
        "st.markdown(r\"$\\sqrt{x^2+y^2}=1$\")\n",
        "\n",
        "#display mathematical expressions formatted as LaTeX\n",
        "st.divider() #?\n",
        "st.latex(r'''3) Display mathematical expressions formatted as LaTeX \\\\\n",
        "Simoid: \\\\\n",
        "y = \\frac{1}{1+e^{-x}}''')\n",
        "\n",
        "# Display a code block with optional syntax highlighting\n",
        "st.divider()\n",
        "st.write(\"4) Display a code block with optional syntax highlighting\")\n",
        "\n",
        "st.code(\"\"\"\n",
        "    import streamlit as st\n",
        "    st.title(\"Banh muy\")\n",
        "    st.header(\"Comfortable and fun\")\n",
        "    st.subheader(\"Keep moving forward\")\n",
        "    st.text(\"patience, perseverance\")\n",
        "\"\"\",language=\"python\")\n",
        "\n",
        "# Write arguments to the app\n",
        "st.divider()\n",
        "st.write(\"5) Write arguments to the app\")\n",
        "\n",
        "st.write(\"Hello, *World!* :sunglasses:\")\n",
        "st.write(1234)\n",
        "st.write('## Heading 2')\n",
        "st.write(r'$ \\sqrt(2x+2)$')\n",
        "st.write('1+1=',2)\n",
        "\n",
        "# Echo: use in a with block to draw some code on the app, then execute it\n",
        "st.divider()\n",
        "st.write(\"6) Echo: use in a with block to draw some code on the app, then execute it\")\n",
        "\n",
        "def get_user_name():\n",
        "    return \"Banh muy\"\n",
        "with st.echo():\n",
        "    st.write('This code will be printed')\n",
        "    def get_email():\n",
        "      return \"banhmuy@gmail.com\"\n",
        "    name = get_user_name()\n",
        "    email = get_email()\n",
        "    st.write(name,email)\n",
        "\n",
        "# Media elements\n",
        "# display an image/audio/video/logo\n",
        "st.divider()\n",
        "st.write(\"7) Media elements: display an image/audio/video/logo\")\n",
        "\n",
        "st.image(\n",
        "    './Theme.jpeg',\n",
        "    caption='Theme',\n",
        "    width=300\n",
        ")\n",
        "# st.audio('./audio.mp4')\n",
        "# st.video('./video.mp4')\n",
        "\n",
        "# Input widget\n",
        "st.divider()\n",
        "st.write(\"8) Input widget\")\n",
        "\n",
        "title = st.text_input('Movie title', 'Life of Brian')\n",
        "st.write('The current movie title is', title)\n",
        "\n",
        "\n",
        "#Selection button\n",
        "st.write(\"9) Selection button\")\n",
        "st.divider()\n",
        "##checkbox\n",
        "def get_name():\n",
        "  st.write(\"Bánh mùy\")\n",
        "agree = st.checkbox('Click here to show my nickname:', on_change=get_name)\n",
        "\n",
        "if agree:\n",
        "  st.write('Great!')\n",
        "  get_name()\n",
        "\n",
        "## Radio buttion\n",
        "genre = st.radio(\n",
        "    \"What's your favorite movie genre\",\n",
        "    ['Comedy', 'Drama', 'Documentary'],\n",
        "    captions = ['Hài kịch', 'Kịch tính', 'Tài liệu'])\n",
        "\n",
        "if genre == 'Comedy':\n",
        "  st.write('You selected comedy.')\n",
        "else:\n",
        "  st.write(\"You didn't select comedy.\")\n",
        "\n",
        "##selectbox\n",
        "option = st.selectbox(\n",
        "    'How would you like to be contacted?',\n",
        "    ('Email', 'Home phone', 'Mobile phone'))\n",
        "\n",
        "st.write('You selected:', option)\n",
        "\n",
        "##multiselect\n",
        "st.divider()\n",
        "options = st.multiselect(\n",
        "    \"Your favorite colors:\",\n",
        "    [\"Green\", \"Yellow\", \"Red\", \"Blue\"],\n",
        "    [\"Yellow\", \"Red\"])\n",
        "st.write('You selected:', options)\n",
        "\n",
        "# Slider\n",
        "st.divider()\n",
        "st.write(\"10) Slider\")\n",
        "##\n",
        "age = st.slider('How old are you?', 0, 130, 25)\n",
        "st.write(\"I'm \", age, 'years old')\n",
        "\n",
        "##select_slider\n",
        "color = st.select_slider(\n",
        "    'Select a color of the rainbow',\n",
        "    options=['red', 'orange', 'yellow', 'green', 'blue', 'indigo', 'violet'])\n",
        "st.write('My favorite color is', color)\n",
        "\n",
        "# Button\n",
        "st.divider()\n",
        "st.write(\"11) Button\")\n",
        "\n",
        "if st.button('Say hello'):\n",
        "  st.write(':yellow[Hi! How is it going!]')\n",
        "else:\n",
        "  st.write('Goodbye')\n",
        "\n",
        "st.link_button(\n",
        "    \"Go to Google\",\n",
        "    \"https://www.google.com.vn/\"\n",
        ")\n",
        "\n",
        "#Input number\n",
        "st.divider()\n",
        "st.write(\"12) Input number\")\n",
        "\n",
        "number = st.number_input('Insert a number')\n",
        "st.write('The current number is ', number)\n",
        "\n",
        "# Slider range\n",
        "st.divider()\n",
        "st.write(\"13) Slider\")\n",
        "\n",
        "values = st.slider(\n",
        "    \"Select the range value: \",\n",
        "    0.0, 100.0, (25.0, 75.0)\n",
        ")\n",
        "st.write(\"Values: \", values)\n",
        "\n",
        "# File uploader\n",
        "st.divider()\n",
        "st.write(\"14) File uploader\")\n",
        "\n",
        "uploaded_files = st.file_uploader(\"Choose a file\", accept_multiple_files=True)\n",
        "for uploaded_file in uploaded_files:\n",
        "  bytes_data = uploaded_file.read()\n",
        "  st.write(\"filename:\", uploaded_file.name)\n",
        "  st.write(bytes_data)\n",
        "\n",
        "# Create a form that batches elements together with a \"Submit\" button\n",
        "st.divider()\n",
        "st.write(\"15) Create a form that batches elements together with a \\\"Submit\\\" button\")\n",
        "\n",
        "with st.form(\"my_form\"):\n",
        "  col1, col2 = st.columns(2)\n",
        "  f_name = st.text_input(\"First name\")\n",
        "  l_name = st.number_input(\"Last name\")\n",
        "  submitted = st.form_submit_button(\"Submit\")\n",
        "  if submitted:\n",
        "    st.write(\"First Name: \", f_name, \" - Last Name:\", l_name)\n"
      ],
      "metadata": {
        "colab": {
          "base_uri": "https://localhost:8080/"
        },
        "id": "9LhRON-E1nWz",
        "outputId": "f2baaaba-5486-448b-a022-7b258e82c5ab"
      },
      "execution_count": 23,
      "outputs": [
        {
          "output_type": "stream",
          "name": "stdout",
          "text": [
            "Overwriting app.py\n"
          ]
        }
      ]
    },
    {
      "cell_type": "code",
      "source": [
        "!streamlit run app.py & npx localtunnel --port 8501 #35.197.9.24"
      ],
      "metadata": {
        "id": "Amvngc3aJou5",
        "outputId": "d4b9d5c1-10a6-4a1b-b749-fdd19a1025fe",
        "colab": {
          "base_uri": "https://localhost:8080/"
        }
      },
      "execution_count": 24,
      "outputs": [
        {
          "output_type": "stream",
          "name": "stdout",
          "text": [
            "\n",
            "Collecting usage statistics. To deactivate, set browser.gatherUsageStats to false.\n",
            "\u001b[0m\n",
            "\u001b[1G\u001b[0K⠙\u001b[1G\u001b[0K⠹\u001b[1G\u001b[0K⠸\u001b[1G\u001b[0K⠼\u001b[0m\n",
            "\u001b[34m\u001b[1m  You can now view your Streamlit app in your browser.\u001b[0m\n",
            "\u001b[0m\n",
            "\u001b[34m  Local URL: \u001b[0m\u001b[1mhttp://localhost:8501\u001b[0m\n",
            "\u001b[34m  Network URL: \u001b[0m\u001b[1mhttp://172.28.0.12:8501\u001b[0m\n",
            "\u001b[34m  External URL: \u001b[0m\u001b[1mhttp://35.197.9.24:8501\u001b[0m\n",
            "\u001b[0m\n",
            "\u001b[1G\u001b[0K⠴\u001b[1G\u001b[0Kyour url is: https://clean-tigers-enjoy.loca.lt\n",
            "\u001b[34m  Stopping...\u001b[0m\n",
            "^C\n"
          ]
        }
      ]
    },
    {
      "cell_type": "markdown",
      "source": [
        "# **Applications**"
      ],
      "metadata": {
        "id": "E31FAAKw-qHG"
      }
    },
    {
      "cell_type": "markdown",
      "source": [
        "### **Sentiment Analysis using NLTK**"
      ],
      "metadata": {
        "id": "Jtwcw6ak-7te"
      }
    },
    {
      "cell_type": "code",
      "source": [],
      "metadata": {
        "id": "Lygre5gX_Bo1"
      },
      "execution_count": null,
      "outputs": []
    },
    {
      "cell_type": "markdown",
      "source": [
        "### **Contextual Spell Correction using Spacy and contextualSpellCheck**"
      ],
      "metadata": {
        "id": "MnqBEvu5_aPy"
      }
    },
    {
      "cell_type": "code",
      "source": [],
      "metadata": {
        "id": "gYbGJjPT_b1y"
      },
      "execution_count": null,
      "outputs": []
    },
    {
      "cell_type": "markdown",
      "source": [
        "### **English-Vietnamese Machine Translation**"
      ],
      "metadata": {
        "id": "yl9TuiBx_gpa"
      }
    },
    {
      "cell_type": "code",
      "source": [],
      "metadata": {
        "id": "8cfavr_k_h7U"
      },
      "execution_count": null,
      "outputs": []
    },
    {
      "cell_type": "code",
      "source": [],
      "metadata": {
        "id": "mxl0tfjq_kT6"
      },
      "execution_count": null,
      "outputs": []
    },
    {
      "cell_type": "code",
      "source": [],
      "metadata": {
        "id": "QllnEQkt_k4L"
      },
      "execution_count": null,
      "outputs": []
    }
  ],
  "metadata": {
    "colab": {
      "provenance": [],
      "include_colab_link": true
    },
    "kernelspec": {
      "display_name": "Python 3",
      "name": "python3"
    },
    "language_info": {
      "name": "python"
    }
  },
  "nbformat": 4,
  "nbformat_minor": 0
}