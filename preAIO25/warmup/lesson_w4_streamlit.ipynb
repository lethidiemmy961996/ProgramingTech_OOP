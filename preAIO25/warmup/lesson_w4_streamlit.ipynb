{
  "cells": [
    {
      "cell_type": "markdown",
      "metadata": {
        "id": "view-in-github",
        "colab_type": "text"
      },
      "source": [
        "<a href=\"https://colab.research.google.com/github/mylethidiem/ProgramingTech/blob/main/preAIO25/warmup/lesson_w4_streamlit.ipynb\" target=\"_parent\"><img src=\"https://colab.research.google.com/assets/colab-badge.svg\" alt=\"Open In Colab\"/></a>"
      ]
    },
    {
      "cell_type": "markdown",
      "source": [
        "####**count**"
      ],
      "metadata": {
        "id": "obS4dXinp7UN"
      }
    },
    {
      "cell_type": "code",
      "execution_count": 6,
      "metadata": {
        "id": "XqnpspqpbcIV",
        "colab": {
          "base_uri": "https://localhost:8080/"
        },
        "outputId": "42a96592-2b6d-492c-ae6c-d45c681a5401"
      },
      "outputs": [
        {
          "output_type": "stream",
          "name": "stdout",
          "text": [
            "The number 5 appears 4 times in the list.\n"
          ]
        }
      ],
      "source": [
        "# prompt: create a list data and count number 5 in this list\n",
        "\n",
        "data = [1, 2, 3, 4, 5, 5, 6, 7, 5, 8, 9, 10, 5]\n",
        "count_of_5 = data.count(5)\n",
        "print(f\"The number 5 appears {count_of_5} times in the list.\")"
      ]
    },
    {
      "cell_type": "markdown",
      "source": [
        "####**Basic streamlit**"
      ],
      "metadata": {
        "id": "luhHxDNYqZQx"
      }
    },
    {
      "cell_type": "code",
      "execution_count": 23,
      "metadata": {
        "id": "LsBub0EfvtTy"
      },
      "outputs": [],
      "source": [
        "# q: quiet\n",
        "!pip install -q streamlit==1.41.1"
      ]
    },
    {
      "cell_type": "code",
      "execution_count": 25,
      "metadata": {
        "colab": {
          "base_uri": "https://localhost:8080/"
        },
        "id": "JG3k13yo2S4K",
        "outputId": "cb1cc56f-4bd6-4c8e-bc17-bc5f5cdae69c"
      },
      "outputs": [
        {
          "output_type": "stream",
          "name": "stdout",
          "text": [
            "{\"id\":\"banhmuytunnelpassword\",\"port\":35793,\"max_conn_count\":10,\"url\":\"https://banhmuytunnelpassword.loca.lt\"}"
          ]
        }
      ],
      "source": [
        "# get your password\n",
        "!wget -q -O - https://loca.lt/banhmuytunnelpassword\n",
        "\n",
        "#!curl  https://loca.lt/banhmuytunnelpassword"
      ]
    },
    {
      "cell_type": "code",
      "execution_count": 26,
      "metadata": {
        "id": "kxeNVvel2QHC",
        "colab": {
          "base_uri": "https://localhost:8080/"
        },
        "outputId": "7dd9286f-8e9a-4b6f-a43d-dc96dd4806ba"
      },
      "outputs": [
        {
          "output_type": "stream",
          "name": "stdout",
          "text": [
            "Overwriting demo.py\n"
          ]
        }
      ],
      "source": [
        "# prepare file demo.py 34.48.95.149:8501\n",
        "%%writefile demo.py\n",
        "import streamlit as st\n",
        "st.write(\"Hello World\")"
      ]
    },
    {
      "cell_type": "code",
      "source": [
        "# overwriting demo.py\n",
        "# run streamlit through port:8501\n",
        "!streamlit run demo.py & npx localtunnel --port 8501"
      ],
      "metadata": {
        "colab": {
          "base_uri": "https://localhost:8080/"
        },
        "id": "Xc4hn_FprZ8s",
        "outputId": "8f984bfb-d252-4a15-c65b-955ed96aa328"
      },
      "execution_count": 31,
      "outputs": [
        {
          "output_type": "stream",
          "name": "stdout",
          "text": [
            "\n",
            "Collecting usage statistics. To deactivate, set browser.gatherUsageStats to false.\n",
            "\u001b[0m\n",
            "\u001b[1G\u001b[0K⠙\u001b[1G\u001b[0K⠹\u001b[0m\n",
            "\u001b[34m\u001b[1m  You can now view your Streamlit app in your browser.\u001b[0m\n",
            "\u001b[0m\n",
            "\u001b[34m  Local URL: \u001b[0m\u001b[1mhttp://localhost:8501\u001b[0m\n",
            "\u001b[34m  Network URL: \u001b[0m\u001b[1mhttp://172.28.0.12:8501\u001b[0m\n",
            "\u001b[34m  External URL: \u001b[0m\u001b[1mhttp://34.48.95.149:8501\u001b[0m\n",
            "\u001b[0m\n",
            "\u001b[1G\u001b[0K⠸\u001b[1G\u001b[0K⠼\u001b[1G\u001b[0K⠴\u001b[1G\u001b[0Kyour url is: https://hot-lemons-doubt.loca.lt\n",
            "\u001b[34m  Stopping...\u001b[0m\n",
            "^C\n"
          ]
        }
      ]
    },
    {
      "cell_type": "markdown",
      "source": [
        "#### Creating base on streamlit0"
      ],
      "metadata": {
        "id": "zPS5tFvfzZAY"
      }
    },
    {
      "cell_type": "code",
      "source": [
        "#download image\n",
        "!gdown 1Wusjqpr7xmSl5muHPkyBTpOCVtJI-avQ"
      ],
      "metadata": {
        "colab": {
          "base_uri": "https://localhost:8080/"
        },
        "id": "lOi9XY8brupu",
        "outputId": "201f26ed-3264-469b-eb25-bf19bf0e77e4"
      },
      "execution_count": 33,
      "outputs": [
        {
          "output_type": "stream",
          "name": "stdout",
          "text": [
            "Downloading...\n",
            "From: https://drive.google.com/uc?id=1Wusjqpr7xmSl5muHPkyBTpOCVtJI-avQ\n",
            "To: /content/Theme.jpeg\n",
            "\r  0% 0.00/161k [00:00<?, ?B/s]\r100% 161k/161k [00:00<00:00, 41.2MB/s]\n"
          ]
        }
      ]
    },
    {
      "cell_type": "code",
      "source": [
        "#create basic app.py\n",
        "%%writefile app.py\n",
        "import streamlit as st\n",
        "\n",
        "# text elements\n",
        "st.title(\"Banh muy\")\n",
        "st.header(\"Comfortable and fun\")\n",
        "st.subheader(\"Keep moving forward\")\n",
        "st.text(\"patience, perseverance\")\n",
        "\n",
        "# display string formatted as Markdown\n",
        "st.markdown(\"Streamlit is **_really_ cool** :+1:\")\n",
        "st.markdown(\"I'm study AI :red[colored red], and this is **:blue[colored]** and bold!\")\n",
        "st.markdown(\"\"\"\n",
        "Important: remember learning english!\n",
        " 1. Machine Learning\n",
        " 2. Deep Learning\n",
        "\"\"\")\n",
        "st.markdown(r\"$\\sqrt{x^2+y^2}=1$\")\n",
        "\n",
        "#display mathematical expressions formatted as LaTeX\n",
        "st.divider() #?\n",
        "st.latex(r'''y = \\frac{1}{1+e^{-x}}''')\n",
        "\n",
        "# display a code block with optional syntax highlighting\n",
        "st.divider()\n",
        "\n",
        "st.code(\"\"\"\n",
        "    import streamlit as st\n",
        "    st.title(\"Banh muy\")\n",
        "    st.header(\"Comfortable and fun\")\n",
        "    st.subheader(\"Keep moving forward\")\n",
        "    st.text(\"patience, perseverance\")\n",
        "\"\"\",language=\"python\")\n",
        "\n",
        "# write arguments to the app\n",
        "st.divider()\n",
        "\n",
        "st.write(\"Hello, *World!* :sunglasses:\")\n",
        "st.write(1234)\n",
        "st.write('## Heading 2')\n",
        "st.write(r'$ \\sqrt(2x+2)$')\n",
        "st.write('1+1=',2)\n",
        "\n",
        "# echo: use in a with block to draw some code on the app, then execute it\n",
        "st.divider()\n",
        "\n",
        "def get_user_name():\n",
        "    return \"Banh muy\"\n",
        "with st.echo():\n",
        "    st.write('This code will be printed')\n",
        "    def get_email():\n",
        "      return \"banhmuy@gmail.com\"\n",
        "    name = get_user_name()\n",
        "    email = get_email()\n",
        "    st.write(name,email)\n",
        "\n",
        "# Media elements\n",
        "# display an image/audio/video/logo\n",
        "st.divider()\n",
        "\n",
        "st.image(\n",
        "    './Theme.jpeg',\n",
        "    caption='Theme',\n",
        "    width=300\n",
        ")\n",
        "# st.audio('./audio.mp4')\n",
        "# st.video('./video.mp4')\n",
        "\n",
        "#input widget\n",
        "st.divider()\n",
        "\n",
        "title = st.text_input('Movie title', 'Life of Brian')\n",
        "st.write('The current movie title is', title)\n",
        "\n",
        "st.divider()\n",
        "\n",
        "def get_name():\n",
        "  st.write(\"Thai\")\n",
        "#checkbox\n",
        "agree = st.checkbox('I agree', on_change=get_name)\n",
        "\n",
        "if agree:\n",
        "  st.write('Great!')\n",
        "  get_name()\n",
        "\n",
        "st.divider()\n",
        "\n",
        "#radio buttion\n",
        "genre = st.radio(\n",
        "    \"What's your favorite movie genre\",\n",
        "    ('Comedy', 'Drama', 'Documentary'),\n",
        "    caption = ['Hài kịch', 'Kịch tính', 'Tài liệu'])\n",
        "\n",
        "if genre == 'Comedy':\n",
        "  st.write('You selected comedy.')\n",
        "else:\n",
        "  st.write(\"You didn't select comedy.\")\n",
        "\n",
        "#selectbox\n",
        "st.divider()\n",
        "\n",
        "option = st.selectbox(\n",
        "    'How would you like to be contacted?',\n",
        "    ('Email', 'Home phone', 'Mobile phone'))\n",
        "\n",
        "st.write('You selected:', option)\n",
        "\n",
        "#multiselect\n",
        "st.divider()\n",
        "options = st.multiselect(\n",
        "    \"Your favorite colors:\",\n",
        "    [\"Green\", \"Yellow\", \"Red\", \"Blue\"],\n",
        "    [\"Yellow\", \"Red\"])\n",
        "st.write('You selected:', options)\n",
        "\n",
        "#slider\n",
        "st.divider()\n",
        "age = st.slider('How old are you?', 0, 130, 25)\n",
        "st.write(\"I'm \", age, 'years old')\n",
        "\n",
        "#select_slider\n",
        "color = st.select_slider(\n",
        "    'Select a color of the rainbow',\n",
        "    options=['red', 'orange', 'yellow', 'green', 'blue', 'indigo', 'violet'])\n",
        "st.write('My favorite color is', color)\n",
        "\n",
        "# chấm hỏi\n",
        "if st.button('Say hello'):\n",
        "  st.write('Why hello there')\n",
        "else:\n",
        "  st.write('Goodbye')\n",
        "\n",
        "st.link_button(\n",
        "    \"Go to Google\",\n",
        "    \"https://www.google.com.vn/\"\n",
        ")\n",
        "\n",
        "# insert in where?\n",
        "number = st.number_input('Insert a number')\n",
        "st.write('The current number is ', number)\n",
        "\n"
      ],
      "metadata": {
        "colab": {
          "base_uri": "https://localhost:8080/"
        },
        "id": "9LhRON-E1nWz",
        "outputId": "6c372633-8308-4591-fa1b-6c4a9a7e08dd"
      },
      "execution_count": 40,
      "outputs": [
        {
          "output_type": "stream",
          "name": "stdout",
          "text": [
            "Overwriting app.py\n"
          ]
        }
      ]
    }
  ],
  "metadata": {
    "colab": {
      "provenance": [],
      "include_colab_link": true
    },
    "kernelspec": {
      "display_name": "Python 3",
      "name": "python3"
    },
    "language_info": {
      "name": "python"
    }
  },
  "nbformat": 4,
  "nbformat_minor": 0
}