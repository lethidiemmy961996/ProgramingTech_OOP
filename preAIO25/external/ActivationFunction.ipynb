{
 "cells": [
  {
   "cell_type": "markdown",
   "metadata": {
    "id": "XSpmFt9_S8qr"
   },
   "source": [
    " # **ActivationFunction**"
   ]
  },
  {
   "cell_type": "code",
   "execution_count": null,
   "metadata": {},
   "outputs": [],
   "source": [
    "#import\n",
    "import numpy as np\n",
    "import matplotlib.pyplot as plt\n",
    "\n",
    "\n",
    "#input value\n",
    "x = np.linspace(-10, 10, 400)"
   ]
  },
  {
   "cell_type": "markdown",
   "metadata": {
    "id": "LiGJngoDFXUq"
   },
   "source": [
    "####  1. Sigmoid"
   ]
  },
  {
   "cell_type": "code",
   "execution_count": null,
   "metadata": {},
   "outputs": [],
   "source": [
    "def sigmoid(x):\n",
    "    return 1/(1+np.exp(-x))"
   ]
  },
  {
   "cell_type": "code",
   "execution_count": null,
   "metadata": {},
   "outputs": [],
   "source": [
    "def sigmoid_gradient(x):\n",
    "    s = sigmoid(x)\n",
    "    return s * (1 - s)"
   ]
  },
  {
   "cell_type": "code",
   "execution_count": null,
   "metadata": {},
   "outputs": [],
   "source": [
    "y_sigmoid = sigmoid(x)\n",
    "y_sigmoid_grad = sigmoid_gradient(x)\n",
    "\n",
    "plt.figure(figsize=(10, 5))\n",
    "\n",
    "plt.plot(x, y_sigmoid, label='Sigmoid')\n",
    "plt.plot(x, y_sigmoid_grad, label='Sigmoid Gradient')\n",
    "plt.title('Sigmoid and Sigmoid Gradient')\n",
    "plt.xlabel('x')\n",
    "plt.ylabel('y')\n",
    "plt.legend()\n",
    "plt.grid(True)\n",
    "plt.show()"
   ]
  },
  {
   "cell_type": "markdown",
   "metadata": {},
   "source": [
    "####  2. Tanh"
   ]
  },
  {
   "cell_type": "code",
   "execution_count": null,
   "metadata": {},
   "outputs": [],
   "source": [
    "def tanh(x):\n",
    "    return (np.exp(x) - np.exp(-x))/(1+np.exp(-x))"
   ]
  },
  {
   "cell_type": "code",
   "execution_count": null,
   "metadata": {},
   "outputs": [],
   "source": [
    "def tanh_gradient(x):\n",
    "    return 1- tanh(x)**2"
   ]
  },
  {
   "cell_type": "code",
   "execution_count": null,
   "metadata": {},
   "outputs": [],
   "source": [
    "y_tanh = tanh(x)\n",
    "y_tanh_grad = tanh_gradient(x)\n",
    "\n",
    "plt.figure(figsize=(10, 5))\n",
    "\n",
    "plt.plot(x, y_tanh, label='Tanh')\n",
    "plt.plot(x, y_tanh_grad, label='Tanh Gradient')\n",
    "plt.title('Tanh and Tanh Gradient')\n",
    "plt.xlabel('x')\n",
    "plt.ylabel('y')\n",
    "plt.legend()\n",
    "plt.grid(True)\n",
    "plt.show()"
   ]
  },
  {
   "cell_type": "markdown",
   "metadata": {},
   "source": [
    "####  3. Softplus"
   ]
  },
  {
   "cell_type": "code",
   "execution_count": null,
   "metadata": {},
   "outputs": [],
   "source": [
    "def softplus(x):\n",
    "    return np.log(1+np.exp(x))"
   ]
  },
  {
   "cell_type": "code",
   "execution_count": null,
   "metadata": {},
   "outputs": [],
   "source": [
    "def softplus_gradient(x):\n",
    "    return sigmoid(x)"
   ]
  },
  {
   "cell_type": "code",
   "execution_count": null,
   "metadata": {},
   "outputs": [],
   "source": [
    "y_softplus = softplus(x)\n",
    "y_softplus_grad = softplus_gradient(x)\n",
    "\n",
    "plt.figure(figsize=(10, 5))\n",
    "\n",
    "plt.plot(x, y_softplus, label='Softplus')\n",
    "plt.plot(x, y_softplus_grad, label='Softplus Gradient')\n",
    "plt.title('Softplus and Softplus Gradient')\n",
    "plt.xlabel('x')\n",
    "plt.ylabel('y')\n",
    "plt.legend()\n",
    "plt.grid(True)\n",
    "plt.show()"
   ]
  },
  {
   "cell_type": "markdown",
   "metadata": {},
   "source": [
    "####  4. ReLU(Rectified Linear Unit)"
   ]
  },
  {
   "cell_type": "code",
   "execution_count": null,
   "metadata": {},
   "outputs": [],
   "source": [
    "def relu(x):\n",
    "    if x >= 0:\n",
    "        return x\n",
    "    return 0"
   ]
  },
  {
   "cell_type": "code",
   "execution_count": null,
   "metadata": {},
   "outputs": [],
   "source": [
    "def relu_gradient(x):\n",
    "    if x >= 0:\n",
    "        return 1\n",
    "    return 0"
   ]
  },
  {
   "cell_type": "code",
   "execution_count": null,
   "metadata": {},
   "outputs": [],
   "source": [
    "# Vectorize the relu and relu_gradient functions to handle numpy arrays\n",
    "relu_vec = np.vectorize(relu)\n",
    "relu_grad_vec = np.vectorize(relu_gradient)\n",
    "\n",
    "y_relu = relu_vec(x)\n",
    "y_relu_grad = relu_grad_vec(x)\n",
    "\n",
    "plt.figure(figsize=(10, 5))\n",
    "\n",
    "plt.plot(x, y_relu, label='ReLU')\n",
    "plt.plot(x, y_relu_grad, label='ReLU Gradient')\n",
    "plt.title('ReLU and ReLU Gradient')\n",
    "plt.xlabel('x')\n",
    "plt.ylabel('y')\n",
    "plt.legend()\n",
    "plt.grid(True)\n",
    "plt.show()"
   ]
  },
  {
   "cell_type": "markdown",
   "metadata": {},
   "source": [
    "####  5. Leaky ReLU Function"
   ]
  },
  {
   "cell_type": "code",
   "execution_count": null,
   "metadata": {},
   "outputs": [],
   "source": [
    "def leaky_relu(x, alpha):\n",
    "    if x >= 0:\n",
    "        return x\n",
    "    return alpha*x"
   ]
  },
  {
   "cell_type": "code",
   "execution_count": null,
   "metadata": {},
   "outputs": [],
   "source": [
    "def leaky_relu_gradient(x):\n",
    "    if x >= 0:\n",
    "        return 1\n",
    "    return alpha"
   ]
  },
  {
   "cell_type": "code",
   "execution_count": null,
   "metadata": {
    "vscode": {
     "languageId": "lua"
    }
   },
   "outputs": [],
   "source": [
    "alpha = 0.01  # Define the alpha value for Leaky ReLU\n",
    "\n",
    "# Vectorize the leaky_relu and leaky_relu_gradient functions to handle numpy arrays\n",
    "leaky_relu_vec = np.vectorize(leaky_relu)\n",
    "leaky_relu_grad_vec = np.vectorize(leaky_relu_gradient)\n",
    "\n",
    "y_leaky_relu = leaky_relu_vec(x, alpha)\n",
    "y_leaky_relu_grad = leaky_relu_grad_vec(x)\n",
    "\n",
    "plt.figure(figsize=(10, 5))\n",
    "\n",
    "plt.plot(x, y_leaky_relu, label='Leaky ReLU')\n",
    "plt.plot(x, y_leaky_relu_grad, label='Leaky ReLU Gradient')\n",
    "plt.title('Leaky ReLU and Leaky ReLU Gradient')\n",
    "plt.xlabel('x')\n",
    "plt.ylabel('y')\n",
    "plt.legend()\n",
    "plt.grid(True)\n",
    "plt.show()"
   ]
  },
  {
   "cell_type": "markdown",
   "metadata": {},
   "source": [
    "####  6. ELU (Exponential Linear Unit)"
   ]
  },
  {
   "cell_type": "code",
   "execution_count": null,
   "metadata": {},
   "outputs": [],
   "source": [
    "def elu(x, alpha=1.0):\n",
    "    return np.where(x >= 0, x, alpha * (np.exp(x) - 1))\n",
    "\n",
    "def elu_gradient(x, alpha=1.0):\n",
    "    return np.where(x >= 0, 1, alpha * np.exp(x))"
   ]
  },
  {
   "cell_type": "markdown",
   "metadata": {},
   "source": [
    "####  7. PReLU (Parametric ReLU)"
   ]
  },
  {
   "cell_type": "code",
   "execution_count": null,
   "metadata": {},
   "outputs": [],
   "source": [
    "def prelu(x, alpha):\n",
    "    return np.where(x >= 0, x, alpha * x)\n",
    "\n",
    "def prelu_gradient(x, alpha):\n",
    "    return np.where(x >= 0, 1, alpha)"
   ]
  },
  {
   "cell_type": "markdown",
   "metadata": {},
   "source": [
    "####  8. SELU (Scaled Exponential Linear Unit)"
   ]
  },
  {
   "cell_type": "code",
   "execution_count": null,
   "metadata": {},
   "outputs": [],
   "source": [
    "def selu(x, alpha=1.67326, scale=1.0507):\n",
    "    return scale * np.where(x >= 0, x, alpha * (np.exp(x) - 1))\n",
    "\n",
    "def selu_gradient(x, alpha=1.67326, scale=1.0507):\n",
    "    return scale * np.where(x >= 0, 1, alpha * np.exp(x))"
   ]
  },
  {
   "cell_type": "markdown",
   "metadata": {},
   "source": [
    "####  9. GELU (Gaussian Error Linear Unit)"
   ]
  },
  {
   "cell_type": "code",
   "execution_count": null,
   "metadata": {},
   "outputs": [],
   "source": [
    "def gelu(x):\n",
    "    return 0.5 * x * (1 + np.tanh(np.sqrt(2 / np.pi) * (x + 0.044715 * np.power(x, 3))))\n",
    "\n",
    "def gelu_gradient(x):\n",
    "    tanh_term = np.tanh(np.sqrt(2 / np.pi) * (x + 0.044715 * np.power(x, 3)))\n",
    "    return 0.5 * (1 + tanh_term) + 0.5 * x * (1 - np.power(tanh_term, 2)) * (np.sqrt(2 / np.pi) * (1 + 3 * 0.044715 * np.power(x, 2)))"
   ]
  },
  {
   "cell_type": "markdown",
   "metadata": {},
   "source": [
    "####  10. Swish"
   ]
  },
  {
   "cell_type": "code",
   "execution_count": null,
   "metadata": {},
   "outputs": [],
   "source": [
    "def swish(x):\n",
    "    return x * sigmoid(x)\n",
    "\n",
    "def swish_gradient(x):\n",
    "    s = sigmoid(x)\n",
    "    return s + x * s * (1 - s)"
   ]
  },
  {
   "cell_type": "code",
   "execution_count": null,
   "metadata": {},
   "outputs": [],
   "source": []
  },
  {
   "cell_type": "markdown",
   "metadata": {},
   "source": [
    "####  "
   ]
  }
 ],
 "metadata": {
  "colab": {
   "provenance": []
  },
  "kernelspec": {
   "display_name": "Python 3",
   "name": "python3"
  },
  "language_info": {
   "name": "python"
  }
 },
 "nbformat": 4,
 "nbformat_minor": 0
}
