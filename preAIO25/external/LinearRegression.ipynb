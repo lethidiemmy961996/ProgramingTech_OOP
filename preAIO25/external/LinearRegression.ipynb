{
 "cells": [
  {
   "cell_type": "markdown",
   "metadata": {},
   "source": [
    " # **Linear Regression**"
   ]
  },
  {
   "cell_type": "markdown",
   "metadata": {
    "id": "znxPoNGjvj-D"
   },
   "source": [
    "### **A. CHUẨN BỊ DỮ LIỆU**"
   ]
  },
  {
   "cell_type": "code",
   "execution_count": null,
   "metadata": {},
   "outputs": [],
   "source": [
    "import kagglehub\n",
    "\n",
    "# Download latest version\n",
    "path = kagglehub.dataset_download(\"yasserh/housing-prices-dataset\")\n",
    "\n",
    "print(\"Path to dataset files:\", path)"
   ]
  },
  {
   "cell_type": "markdown",
   "metadata": {
    "id": "aIphK8ge2T0L"
   },
   "source": [
    "### **B. HUẤN LUYỆN MÔ HÌNH**"
   ]
  },
  {
   "cell_type": "markdown",
   "metadata": {},
   "source": [
    "I. ĐỌC VÀ XỬ LÍ DỮ LIỆU"
   ]
  },
  {
   "cell_type": "code",
   "execution_count": null,
   "metadata": {
    "id": "ykNL9LHm6yam"
   },
   "outputs": [],
   "source": []
  },
  {
   "cell_type": "markdown",
   "metadata": {},
   "source": [
    "II. XÂY DỰNG HÀM"
   ]
  },
  {
   "cell_type": "code",
   "execution_count": null,
   "metadata": {
    "id": "5pVG-MH5zz6i"
   },
   "outputs": [],
   "source": []
  },
  {
   "cell_type": "markdown",
   "metadata": {},
   "source": [
    "III. KHAI TRIỂN LINEAR REGRESSION"
   ]
  },
  {
   "cell_type": "code",
   "execution_count": null,
   "metadata": {
    "colab": {
     "base_uri": "https://localhost:8080/"
    },
    "executionInfo": {
     "elapsed": 600716,
     "status": "ok",
     "timestamp": 1735115750702,
     "user": {
      "displayName": "Thái Nguyễn Quốc",
      "userId": "04072932238722635186"
     },
     "user_tz": -420
    },
    "id": "c5c7W3aM3qgf",
    "outputId": "0248a37c-a1cd-4f0a-caab-0ea9097bf89b"
   },
   "outputs": [],
   "source": []
  },
  {
   "cell_type": "markdown",
   "metadata": {
    "id": "__wI9ciEXklL"
   },
   "source": [
    "IV. HUẤN LUYỆN MÔ HÌNH ( TRƯỚC KHI CHUẨN HÓA DỮ LIỆU )"
   ]
  },
  {
   "cell_type": "code",
   "execution_count": null,
   "metadata": {},
   "outputs": [],
   "source": []
  },
  {
   "cell_type": "code",
   "execution_count": null,
   "metadata": {
    "id": "PKynfjQLQUiH"
   },
   "outputs": [],
   "source": []
  },
  {
   "cell_type": "markdown",
   "metadata": {
    "id": "LiGJngoDFXUq"
   },
   "source": [
    "V. HUẤN LUYỆN MÔ HÌNH ( SAU KHI CHUẨN HÓA DỮ LIỆU )"
   ]
  },
  {
   "cell_type": "code",
   "execution_count": null,
   "metadata": {
    "id": "uGsuWhA1X0uq"
   },
   "outputs": [],
   "source": []
  },
  {
   "cell_type": "code",
   "execution_count": null,
   "metadata": {
    "id": "6L4-RrbX9vWI"
   },
   "outputs": [],
   "source": []
  }
 ],
 "metadata": {
  "colab": {
   "authorship_tag": "ABX9TyM9fTCvQJ5oabRprpJeCQvS",
   "provenance": [],
   "toc_visible": true
  },
  "kernelspec": {
   "display_name": "Python 3",
   "name": "python3"
  },
  "language_info": {
   "name": "python"
  }
 },
 "nbformat": 4,
 "nbformat_minor": 0
}
