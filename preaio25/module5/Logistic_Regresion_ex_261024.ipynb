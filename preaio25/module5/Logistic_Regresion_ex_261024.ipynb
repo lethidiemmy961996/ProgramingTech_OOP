
{
 "cells": [
  {
   "cell_type": "markdown",
   "metadata": {},
   "source": [
    "## User-defined Functions"
   ]
  },
  {
   "cell_type": "code",
   "execution_count": null,
   "metadata": {},
   "outputs": [],
   "source": [
    "def function_name(parameters):\n",
    "    '''\n",
    "    do docstring here.\n",
    "    '''\n",
    "    \n",
    "    # code here\n",
    "    \n",
    "    return result"
   ]
  },
  {
   "cell_type": "code",
   "execution_count": null,
   "metadata": {},
   "outputs": [],
   "source": [
    "def function_name(parameter=default_value):\n",
    "    '''\n",
    "    do docstring here.\n",
    "    '''\n",
    "    \n",
    "    # code here\n",
    "    \n",
    "    return result"
   ]
  },
  {
   "cell_type": "code",
   "execution_count": null,
   "metadata": {},
   "outputs": [],
   "source": []
  },
  {
   "cell_type": "code",
   "execution_count": null,
   "metadata": {},
   "outputs": [],
   "source": [
    "def compute_rectangle_area(height, width):\n",
    "    '''\n",
    "    This function aims to compute area for a rectangle.\n",
    "    \n",
    "    height -- the height of the rectangle\n",
    "    width -- the width of the rectangle   \n",
    "    \n",
    "    This function returns the area of the rectangle\n",
    "    '''\n",
    "    \n",
    "    area = height*width\n",
    "    \n",
    "    return area"
   ]
  },
  {
   "cell_type": "code",
   "execution_count": null,
   "metadata": {},
   "outputs": [],
   "source": [
    "def compute_rectangle_area(height=0, width=0):\n",
    "    '''\n",
    "    This function aims to compute area for a rectangle.\n",
    "    \n",
    "    height -- the height of the rectangle\n",
    "    width -- the width of the rectangle   \n",
    "    \n",
    "    This function returns the area of the rectangle\n",
    "    '''\n",
    "    \n",
    "    area = height*width\n",
    "    \n",
    "    return area"
   ]
  },
  {
   "cell_type": "code",
   "execution_count": null,
   "metadata": {},
   "outputs": [],
   "source": [
    "area1 = compute_rectangle_area(5, 6)\n",
    "print('area 1: ', area1)\n",
    "\n",
    "area2 = compute_rectangle_area(height=5, width=6)\n",
    "print('area 2: ', area2)\n",
    "\n",
    "area3 = compute_rectangle_area(width=6, height=5)\n",
    "print('area 3: ', area3)\n",
    "\n",
    "area4 = compute_rectangle_area(width=6, \n",
    "                               height=5)\n",
    "print('area 4: ', area4)\n",
    "\n",
    "area5 = compute_rectangle_area()\n",
    "print('area 5: ', area5)"
   ]
  },
  {
   "cell_type": "code",
   "execution_count": null,
   "metadata": {},
   "outputs": [],
   "source": []
  },
  {
   "cell_type": "code",
   "execution_count": null,
   "metadata": {},
   "outputs": [],
   "source": [
    "import math\n",
    "\n",
    "print(math.e)"
   ]
  },
  {
   "cell_type": "code",
   "execution_count": null,
   "metadata": {},
   "outputs": [],
   "source": [
    "import math\n",
    "\n",
    "x = 0.5\n",
    "\n",
    "def compute_sigmoid():\n",
    "    '''\n",
    "    this function aims to compute the sigmoid value of a number\n",
    "    \n",
    "    x -- input number\n",
    "    \n",
    "    Output is sigmoid value\n",
    "    '''\n",
    "    \n",
    "    result = 1 / (1 + math.exp(-x))\n",
    "    return result\n",
    "    \n",
    "# sample data: x=0 --> y=0.5\n",
    "# sample data: x=5 --> y=0.99\n",
    "\n",
    "\n",
    "result = compute_sigmoid()\n",
    "print(result)"
   ]
  },
  {
   "cell_type": "code",
   "execution_count": null,
   "metadata": {},
   "outputs": [],
   "source": []
  },
  {
   "cell_type": "code",
   "execution_count": null,
   "metadata": {},
   "outputs": [],
   "source": []
  },
  {
   "cell_type": "code",
   "execution_count": null,
   "metadata": {},
   "outputs": [],
   "source": []
  },
  {
   "cell_type": "markdown",
   "metadata": {},
   "source": [
    "## Quizzes"
   ]
  },
  {
   "cell_type": "code",
   "execution_count": null,
   "metadata": {},
   "outputs": [],
   "source": []
  },
  {
   "cell_type": "code",
   "execution_count": null,
   "metadata": {},
   "outputs": [],
   "source": [
    "def a_function():\n",
    "    number = 1\n",
    "    return 0\n",
    "\n",
    "print(a_function())\n",
    "print(number)"
   ]
  },
  {
   "cell_type": "code",
   "execution_count": null,
   "metadata": {},
   "outputs": [],
   "source": []
  },
  {
   "cell_type": "code",
   "execution_count": null,
   "metadata": {},
   "outputs": [],
   "source": [
    "a_global_variable_1 = 4\n",
    "\n",
    "def a_function(x):\n",
    "    result = x*a_global_variable_1\n",
    "    \n",
    "    return result\n",
    "\n",
    "result = a_function(2)\n",
    "print(result)"
   ]
  },
  {
   "cell_type": "code",
   "execution_count": null,
   "metadata": {},
   "outputs": [],
   "source": []
  },
  {
   "cell_type": "code",
   "execution_count": 1,
   "metadata": {},
   "outputs": [
    {
     "name": "stdout",
     "output_type": "stream",
     "text": [
      "8\n"
     ]
    }
   ],
   "source": [
    "def a_function(x):\n",
    "    result = x*a_global_variable_2\n",
    "    \n",
    "    return result\n",
    "\n",
    "a_global_variable_2 = 4\n",
    "result = a_function(2)\n",
    "print(result)"
   ]
  },
  {
   "cell_type": "code",
   "execution_count": null,
   "metadata": {},
   "outputs": [],
   "source": []
  },
  {
   "cell_type": "code",
   "execution_count": 2,
   "metadata": {},
   "outputs": [
    {
     "ename": "NameError",
     "evalue": "name 'a_variable' is not defined",
     "output_type": "error",
     "traceback": [
      "\u001b[1;31m---------------------------------------------------------------------------\u001b[0m",
      "\u001b[1;31mNameError\u001b[0m                                 Traceback (most recent call last)",
      "\u001b[1;32mC:\\Users\\DINHVI~1\\AppData\\Local\\Temp/ipykernel_9572/1894185623.py\u001b[0m in \u001b[0;36m<module>\u001b[1;34m\u001b[0m\n\u001b[0;32m      5\u001b[0m     \u001b[1;32mreturn\u001b[0m \u001b[0mresult\u001b[0m\u001b[1;33m\u001b[0m\u001b[1;33m\u001b[0m\u001b[0m\n\u001b[0;32m      6\u001b[0m \u001b[1;33m\u001b[0m\u001b[0m\n\u001b[1;32m----> 7\u001b[1;33m \u001b[0mprint\u001b[0m\u001b[1;33m(\u001b[0m\u001b[0ma_variable\u001b[0m\u001b[1;33m)\u001b[0m\u001b[1;33m\u001b[0m\u001b[1;33m\u001b[0m\u001b[0m\n\u001b[0m",
      "\u001b[1;31mNameError\u001b[0m: name 'a_variable' is not defined"
     ]
    }
   ],
   "source": [
    "def a_function(x):\n",
    "    a_variable = 4\n",
    "    result = x*a_variable\n",
    "    \n",
    "    return result\n",
    "\n",
    "print(a_variable)"
   ]
  },
  {
   "cell_type": "code",
   "execution_count": null,
   "metadata": {},
   "outputs": [],
   "source": []
  },
  {
   "cell_type": "code",
   "execution_count": 4,
   "metadata": {},
   "outputs": [
    {
     "name": "stdout",
     "output_type": "stream",
     "text": [
      "4\n"
     ]
    }
   ],
   "source": [
    "a_variable = 4\n",
    "\n",
    "def a_function(x):\n",
    "    a_variable = 3\n",
    "    result = x*a_variable\n",
    "    \n",
    "    return result\n",
    "\n",
    "a_function(2)\n",
    "print(a_variable)"
   ]
  },
  {
   "cell_type": "code",
   "execution_count": 5,
   "metadata": {},
   "outputs": [
    {
     "name": "stdout",
     "output_type": "stream",
     "text": [
      "4\n"
     ]
    }
   ],
   "source": [
    "def a_function(x):\n",
    "    a_variable = 3\n",
    "    result = x*a_variable\n",
    "    \n",
    "    return result\n",
    "\n",
    "a_variable = 4\n",
    "print(a_variable)"
   ]
  },
  {
   "cell_type": "code",
   "execution_count": null,
   "metadata": {},
   "outputs": [],
   "source": []
  },
  {
   "cell_type": "code",
   "execution_count": 6,
   "metadata": {},
   "outputs": [
    {
     "name": "stdout",
     "output_type": "stream",
     "text": [
      "15\n",
      "4\n"
     ]
    }
   ],
   "source": [
    "def a_function(x):\n",
    "    a_variable = 3\n",
    "    result = x*a_variable\n",
    "    \n",
    "    return result\n",
    "\n",
    "a_variable = 4\n",
    "print(a_function(5))\n",
    "print(a_variable)"
   ]
  },
  {
   "cell_type": "code",
   "execution_count": null,
   "metadata": {},
   "outputs": [],
   "source": []
  },
  {
   "cell_type": "code",
   "execution_count": null,
   "metadata": {},
   "outputs": [],
   "source": []
  },
  {
   "cell_type": "code",
   "execution_count": null,
   "metadata": {},
   "outputs": [],
   "source": [
    "def newton_method(N, num_loops):\n",
    "    '''\n",
    "    This function aims to compute square root for the number N\n",
    "    \n",
    "    N -- the number needs to take the square root\n",
    "    num_loops -- number of loops used for this optimization\n",
    "    '''\n",
    "    \n",
    "    x_n = N/2\n",
    "    \n",
    "    for i in range(num_loops):\n",
    "        x_np1 = (x_n + N/x_n) / 2\n",
    "        x_n = x_np1\n",
    "        \n",
    "    return x_np1\n",
    "\n",
    "print(newton_method(4, 100))\n",
    "print(newton_method(2, 100))"
   ]
  },
  {
   "cell_type": "code",
   "execution_count": null,
   "metadata": {},
   "outputs": [],
   "source": []
  }
 ],
 "metadata": {
  "kernelspec": {
   "display_name": "Python 3 (ipykernel)",
   "language": "python",
   "name": "python3"
  },
  "language_info": {
   "codemirror_mode": {
    "name": "ipython",
    "version": 3
   },
   "file_extension": ".py",
   "mimetype": "text/x-python",
   "name": "python",
   "nbconvert_exporter": "python",
   "pygments_lexer": "ipython3",
   "version": "3.9.7"
  }
 },
 "nbformat": 4,
 "nbformat_minor": 2
}
