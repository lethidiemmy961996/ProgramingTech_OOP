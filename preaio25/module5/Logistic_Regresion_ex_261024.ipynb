{
  "cells": [
    {
      "cell_type": "markdown",
      "metadata": {
        "id": "view-in-github",
        "colab_type": "text"
      },
      "source": [
        "<a href=\"https://colab.research.google.com/github/mylethidiem/ProgramingTech/blob/main/preaio25/module5/Logistic_Regresion_ex_261024.ipynb\" target=\"_parent\"><img src=\"https://colab.research.google.com/assets/colab-badge.svg\" alt=\"Open In Colab\"/></a>"
      ]
    },
    {
      "cell_type": "markdown",
      "metadata": {
        "id": "k-daPJaBXpuN"
      },
      "source": [
        "## Tuesday, 29/10/2024"
      ]
    },
    {
      "cell_type": "code",
      "execution_count": null,
      "metadata": {
        "id": "9qkqKhjRXpuR"
      },
      "outputs": [],
      "source": [
        "def function_name(parameter=default_value):\n",
        "    '''\n",
        "    do docstring here.\n",
        "    '''\n",
        "\n",
        "    # code here\n",
        "\n",
        "    return result"
      ]
    },
    {
      "cell_type": "code",
      "execution_count": null,
      "metadata": {
        "id": "GrAQ5zUDXpuT"
      },
      "outputs": [],
      "source": [
        "import math\n",
        "\n",
        "print(math.e)"
      ]
    },
    {
      "cell_type": "code",
      "execution_count": null,
      "metadata": {
        "id": "2Cr_91c5XpuU"
      },
      "outputs": [],
      "source": [
        "import math\n",
        "\n",
        "x = 0.5\n",
        "\n",
        "def compute_sigmoid():\n",
        "    '''\n",
        "    this function aims to compute the sigmoid value of a number\n",
        "\n",
        "    x -- input number\n",
        "\n",
        "    Output is sigmoid value\n",
        "    '''\n",
        "\n",
        "    result = 1 / (1 + math.exp(-x))\n",
        "    return result\n",
        "\n",
        "# sample data: x=0 --> y=0.5\n",
        "# sample data: x=5 --> y=0.99\n",
        "\n",
        "\n",
        "result = compute_sigmoid()\n",
        "print(result)"
      ]
    },
    {
      "cell_type": "code",
      "execution_count": null,
      "metadata": {
        "id": "lTSC2V54XpuU"
      },
      "outputs": [],
      "source": []
    }
  ],
  "metadata": {
    "kernelspec": {
      "display_name": "Python 3 (ipykernel)",
      "language": "python",
      "name": "python3"
    },
    "language_info": {
      "codemirror_mode": {
        "name": "ipython",
        "version": 3
      },
      "file_extension": ".py",
      "mimetype": "text/x-python",
      "name": "python",
      "nbconvert_exporter": "python",
      "pygments_lexer": "ipython3",
      "version": "3.9.7"
    },
    "colab": {
      "provenance": [],
      "include_colab_link": true
    }
  },
  "nbformat": 4,
  "nbformat_minor": 0
}